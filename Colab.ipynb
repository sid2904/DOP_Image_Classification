{
 "cells": [
  {
   "cell_type": "markdown",
   "id": "acfd8881",
   "metadata": {},
   "source": [
    "<h2>Importing Necessary Libraries<h2>"
   ]
  },
  {
   "cell_type": "code",
   "execution_count": 1,
   "id": "32a9161c",
   "metadata": {},
   "outputs": [],
   "source": [
    "from keras.preprocessing.image import ImageDataGenerator, array_to_img, img_to_array, load_img\n",
    "import os"
   ]
  },
  {
   "cell_type": "code",
   "execution_count": 2,
   "id": "540a80cc",
   "metadata": {
    "collapsed": true
   },
   "outputs": [
    {
     "name": "stdout",
     "output_type": "stream",
     "text": [
      "Collecting keras\n",
      "  Downloading keras-2.8.0-py2.py3-none-any.whl (1.4 MB)\n",
      "Installing collected packages: keras\n",
      "Successfully installed keras-2.8.0\n",
      "Note: you may need to restart the kernel to use updated packages.\n"
     ]
    }
   ],
   "source": [
    "#pip install keras"
   ]
  },
  {
   "cell_type": "code",
   "execution_count": 2,
   "id": "683e4789",
   "metadata": {
    "collapsed": true
   },
   "outputs": [
    {
     "name": "stdout",
     "output_type": "stream",
     "text": [
      "Collecting tensorflow\n",
      "  Downloading tensorflow-2.8.0-cp39-cp39-win_amd64.whl (438.0 MB)\n",
      "Requirement already satisfied: numpy>=1.20 in c:\\users\\siddh\\anaconda3\\lib\\site-packages (from tensorflow) (1.20.3)\n",
      "Collecting tensorboard<2.9,>=2.8\n",
      "  Downloading tensorboard-2.8.0-py3-none-any.whl (5.8 MB)\n",
      "Requirement already satisfied: wrapt>=1.11.0 in c:\\users\\siddh\\anaconda3\\lib\\site-packages (from tensorflow) (1.12.1)\n",
      "Requirement already satisfied: typing-extensions>=3.6.6 in c:\\users\\siddh\\anaconda3\\lib\\site-packages (from tensorflow) (3.10.0.2)\n",
      "Collecting keras-preprocessing>=1.1.1\n",
      "  Downloading Keras_Preprocessing-1.1.2-py2.py3-none-any.whl (42 kB)\n",
      "Collecting opt-einsum>=2.3.2\n",
      "  Downloading opt_einsum-3.3.0-py3-none-any.whl (65 kB)\n",
      "Collecting termcolor>=1.1.0\n",
      "  Downloading termcolor-1.1.0.tar.gz (3.9 kB)\n",
      "Collecting tensorflow-io-gcs-filesystem>=0.23.1\n",
      "  Downloading tensorflow_io_gcs_filesystem-0.24.0-cp39-cp39-win_amd64.whl (1.5 MB)\n",
      "Collecting libclang>=9.0.1\n",
      "  Downloading libclang-13.0.0-py2.py3-none-win_amd64.whl (13.9 MB)\n",
      "Requirement already satisfied: h5py>=2.9.0 in c:\\users\\siddh\\anaconda3\\lib\\site-packages (from tensorflow) (3.2.1)\n",
      "Collecting flatbuffers>=1.12\n",
      "  Downloading flatbuffers-2.0-py2.py3-none-any.whl (26 kB)\n",
      "Requirement already satisfied: six>=1.12.0 in c:\\users\\siddh\\anaconda3\\lib\\site-packages (from tensorflow) (1.16.0)\n",
      "Collecting tf-estimator-nightly==2.8.0.dev2021122109\n",
      "  Downloading tf_estimator_nightly-2.8.0.dev2021122109-py2.py3-none-any.whl (462 kB)\n",
      "Collecting grpcio<2.0,>=1.24.3\n",
      "  Downloading grpcio-1.44.0-cp39-cp39-win_amd64.whl (3.4 MB)\n",
      "Requirement already satisfied: setuptools in c:\\users\\siddh\\anaconda3\\lib\\site-packages (from tensorflow) (58.0.4)\n",
      "Collecting protobuf>=3.9.2\n",
      "  Downloading protobuf-3.19.4-cp39-cp39-win_amd64.whl (895 kB)\n",
      "Collecting astunparse>=1.6.0\n",
      "  Downloading astunparse-1.6.3-py2.py3-none-any.whl (12 kB)\n",
      "Collecting google-pasta>=0.1.1\n",
      "  Downloading google_pasta-0.2.0-py3-none-any.whl (57 kB)\n",
      "Requirement already satisfied: keras<2.9,>=2.8.0rc0 in c:\\users\\siddh\\anaconda3\\lib\\site-packages (from tensorflow) (2.8.0)\n",
      "Collecting gast>=0.2.1\n",
      "  Downloading gast-0.5.3-py3-none-any.whl (19 kB)\n",
      "Collecting absl-py>=0.4.0\n",
      "  Downloading absl_py-1.0.0-py3-none-any.whl (126 kB)\n",
      "Requirement already satisfied: wheel<1.0,>=0.23.0 in c:\\users\\siddh\\anaconda3\\lib\\site-packages (from astunparse>=1.6.0->tensorflow) (0.37.0)\n",
      "Requirement already satisfied: requests<3,>=2.21.0 in c:\\users\\siddh\\anaconda3\\lib\\site-packages (from tensorboard<2.9,>=2.8->tensorflow) (2.26.0)\n",
      "Collecting markdown>=2.6.8\n",
      "  Downloading Markdown-3.3.6-py3-none-any.whl (97 kB)\n",
      "Collecting google-auth-oauthlib<0.5,>=0.4.1\n",
      "  Downloading google_auth_oauthlib-0.4.6-py2.py3-none-any.whl (18 kB)\n",
      "Collecting tensorboard-plugin-wit>=1.6.0\n",
      "  Downloading tensorboard_plugin_wit-1.8.1-py3-none-any.whl (781 kB)\n",
      "Collecting google-auth<3,>=1.6.3\n",
      "  Downloading google_auth-2.6.0-py2.py3-none-any.whl (156 kB)\n",
      "Requirement already satisfied: werkzeug>=0.11.15 in c:\\users\\siddh\\anaconda3\\lib\\site-packages (from tensorboard<2.9,>=2.8->tensorflow) (2.0.2)\n",
      "Collecting tensorboard-data-server<0.7.0,>=0.6.0\n",
      "  Downloading tensorboard_data_server-0.6.1-py3-none-any.whl (2.4 kB)\n",
      "Collecting pyasn1-modules>=0.2.1\n",
      "  Downloading pyasn1_modules-0.2.8-py2.py3-none-any.whl (155 kB)\n",
      "Collecting rsa<5,>=3.1.4\n",
      "  Downloading rsa-4.8-py3-none-any.whl (39 kB)\n",
      "Collecting cachetools<6.0,>=2.0.0\n",
      "  Downloading cachetools-5.0.0-py3-none-any.whl (9.1 kB)\n",
      "Collecting requests-oauthlib>=0.7.0\n",
      "  Downloading requests_oauthlib-1.3.1-py2.py3-none-any.whl (23 kB)\n",
      "Requirement already satisfied: importlib-metadata>=4.4 in c:\\users\\siddh\\anaconda3\\lib\\site-packages (from markdown>=2.6.8->tensorboard<2.9,>=2.8->tensorflow) (4.8.1)\n",
      "Requirement already satisfied: zipp>=0.5 in c:\\users\\siddh\\anaconda3\\lib\\site-packages (from importlib-metadata>=4.4->markdown>=2.6.8->tensorboard<2.9,>=2.8->tensorflow) (3.6.0)\n",
      "Collecting pyasn1<0.5.0,>=0.4.6\n",
      "  Downloading pyasn1-0.4.8-py2.py3-none-any.whl (77 kB)\n",
      "Requirement already satisfied: charset-normalizer~=2.0.0 in c:\\users\\siddh\\anaconda3\\lib\\site-packages (from requests<3,>=2.21.0->tensorboard<2.9,>=2.8->tensorflow) (2.0.4)\n",
      "Requirement already satisfied: urllib3<1.27,>=1.21.1 in c:\\users\\siddh\\anaconda3\\lib\\site-packages (from requests<3,>=2.21.0->tensorboard<2.9,>=2.8->tensorflow) (1.26.7)\n",
      "Requirement already satisfied: idna<4,>=2.5 in c:\\users\\siddh\\anaconda3\\lib\\site-packages (from requests<3,>=2.21.0->tensorboard<2.9,>=2.8->tensorflow) (3.2)\n",
      "Note: you may need to restart the kernel to use updated packages.Requirement already satisfied: certifi>=2017.4.17 in c:\\users\\siddh\\anaconda3\\lib\\site-packages (from requests<3,>=2.21.0->tensorboard<2.9,>=2.8->tensorflow) (2021.10.8)\n",
      "Collecting oauthlib>=3.0.0\n",
      "  Downloading oauthlib-3.2.0-py3-none-any.whl (151 kB)\n",
      "Building wheels for collected packages: termcolor\n",
      "  Building wheel for termcolor (setup.py): started\n",
      "  Building wheel for termcolor (setup.py): finished with status 'done'\n",
      "\n",
      "  Created wheel for termcolor: filename=termcolor-1.1.0-py3-none-any.whl size=4847 sha256=8f0eed053d813d0bf867e08f29285b38f43ff430f2f8387cbf5432a9f637c1d8\n",
      "  Stored in directory: c:\\users\\siddh\\appdata\\local\\pip\\cache\\wheels\\b6\\0d\\90\\0d1bbd99855f99cb2f6c2e5ff96f8023fad8ec367695f7d72d\n",
      "Successfully built termcolor\n",
      "Installing collected packages: pyasn1, rsa, pyasn1-modules, oauthlib, cachetools, requests-oauthlib, google-auth, tensorboard-plugin-wit, tensorboard-data-server, protobuf, markdown, grpcio, google-auth-oauthlib, absl-py, tf-estimator-nightly, termcolor, tensorflow-io-gcs-filesystem, tensorboard, opt-einsum, libclang, keras-preprocessing, google-pasta, gast, flatbuffers, astunparse, tensorflow\n",
      "Successfully installed absl-py-1.0.0 astunparse-1.6.3 cachetools-5.0.0 flatbuffers-2.0 gast-0.5.3 google-auth-2.6.0 google-auth-oauthlib-0.4.6 google-pasta-0.2.0 grpcio-1.44.0 keras-preprocessing-1.1.2 libclang-13.0.0 markdown-3.3.6 oauthlib-3.2.0 opt-einsum-3.3.0 protobuf-3.19.4 pyasn1-0.4.8 pyasn1-modules-0.2.8 requests-oauthlib-1.3.1 rsa-4.8 tensorboard-2.8.0 tensorboard-data-server-0.6.1 tensorboard-plugin-wit-1.8.1 tensorflow-2.8.0 tensorflow-io-gcs-filesystem-0.24.0 termcolor-1.1.0 tf-estimator-nightly-2.8.0.dev2021122109\n"
     ]
    }
   ],
   "source": [
    "#pip install tensorflow"
   ]
  },
  {
   "cell_type": "markdown",
   "id": "0135c432",
   "metadata": {},
   "source": [
    "<h2>Testing Keras Image Generator <h2>"
   ]
  },
  {
   "cell_type": "code",
   "execution_count": 43,
   "id": "224fdc74",
   "metadata": {},
   "outputs": [],
   "source": [
    "datagen = ImageDataGenerator(\n",
    "        rotation_range = 1,\n",
    "        brightness_range = (0,1.5),\n",
    "        width_shift_range=4,\n",
    "        height_shift_range=4,\n",
    "        shear_range = 5,\n",
    "        #zoom_range = 0.2,\n",
    "        horizontal_flip= True,\n",
    "        vertical_flip = True,\n",
    "        fill_mode = 'nearest')\n",
    "\n",
    "for f_name in os.listdir('Data'):\n",
    "    for j in range(1,len(os.listdir('Data/'+str(f_name)))+1):\n",
    "        img = load_img('Data/'+str(f_name)+'/'+str(j)+\".jpg\")\n",
    "        x = img_to_array(img)\n",
    "        x = x.reshape((1,) + x.shape)\n",
    "\n",
    "        i = 1\n",
    "        for batch in datagen.flow(x, batch_size=1, save_to_dir='Data/'+str(f_name), save_prefix=str(j), save_format = 'jpg'):\n",
    "            i += 1\n",
    "            if i > 20:\n",
    "                break"
   ]
  },
  {
   "cell_type": "markdown",
   "id": "4baae5ae",
   "metadata": {},
   "source": [
    "<h6>Output given in \"Data\" Directory<h6>"
   ]
  },
  {
   "cell_type": "markdown",
   "id": "b7e41e7d",
   "metadata": {},
   "source": [
    "<h3>Checking if custom rotation range is possible<h3>"
   ]
  },
  {
   "cell_type": "code",
   "execution_count": 11,
   "id": "61ffcdae",
   "metadata": {
    "scrolled": true
   },
   "outputs": [
    {
     "ename": "TypeError",
     "evalue": "bad operand type for unary -: 'list'",
     "output_type": "error",
     "traceback": [
      "\u001b[1;31m---------------------------------------------------------------------------\u001b[0m",
      "\u001b[1;31mTypeError\u001b[0m                                 Traceback (most recent call last)",
      "\u001b[1;32m~\\AppData\\Local\\Temp/ipykernel_11268/1400904809.py\u001b[0m in \u001b[0;36m<module>\u001b[1;34m\u001b[0m\n\u001b[0;32m     15\u001b[0m \u001b[1;33m\u001b[0m\u001b[0m\n\u001b[0;32m     16\u001b[0m \u001b[0mi\u001b[0m \u001b[1;33m=\u001b[0m \u001b[1;36m1\u001b[0m\u001b[1;33m\u001b[0m\u001b[1;33m\u001b[0m\u001b[0m\n\u001b[1;32m---> 17\u001b[1;33m \u001b[1;32mfor\u001b[0m \u001b[0mbatch\u001b[0m \u001b[1;32min\u001b[0m \u001b[0mdatagen\u001b[0m\u001b[1;33m.\u001b[0m\u001b[0mflow\u001b[0m\u001b[1;33m(\u001b[0m\u001b[0mx\u001b[0m\u001b[1;33m,\u001b[0m \u001b[0mbatch_size\u001b[0m\u001b[1;33m=\u001b[0m\u001b[1;36m1\u001b[0m\u001b[1;33m,\u001b[0m \u001b[0msave_to_dir\u001b[0m\u001b[1;33m=\u001b[0m\u001b[1;34m'test/'\u001b[0m\u001b[1;33m,\u001b[0m \u001b[0msave_prefix\u001b[0m\u001b[1;33m=\u001b[0m\u001b[1;34m'a'\u001b[0m\u001b[1;33m,\u001b[0m \u001b[0msave_format\u001b[0m \u001b[1;33m=\u001b[0m \u001b[1;34m'jpg'\u001b[0m\u001b[1;33m)\u001b[0m\u001b[1;33m:\u001b[0m\u001b[1;33m\u001b[0m\u001b[1;33m\u001b[0m\u001b[0m\n\u001b[0m\u001b[0;32m     18\u001b[0m     \u001b[0mi\u001b[0m \u001b[1;33m+=\u001b[0m \u001b[1;36m1\u001b[0m\u001b[1;33m\u001b[0m\u001b[1;33m\u001b[0m\u001b[0m\n\u001b[0;32m     19\u001b[0m     \u001b[1;32mif\u001b[0m \u001b[0mi\u001b[0m \u001b[1;33m>\u001b[0m \u001b[1;36m10\u001b[0m\u001b[1;33m:\u001b[0m\u001b[1;33m\u001b[0m\u001b[1;33m\u001b[0m\u001b[0m\n",
      "\u001b[1;32m~\\anaconda3\\lib\\site-packages\\keras_preprocessing\\image\\iterator.py\u001b[0m in \u001b[0;36m__next__\u001b[1;34m(self, *args, **kwargs)\u001b[0m\n\u001b[0;32m    102\u001b[0m \u001b[1;33m\u001b[0m\u001b[0m\n\u001b[0;32m    103\u001b[0m     \u001b[1;32mdef\u001b[0m \u001b[0m__next__\u001b[0m\u001b[1;33m(\u001b[0m\u001b[0mself\u001b[0m\u001b[1;33m,\u001b[0m \u001b[1;33m*\u001b[0m\u001b[0margs\u001b[0m\u001b[1;33m,\u001b[0m \u001b[1;33m**\u001b[0m\u001b[0mkwargs\u001b[0m\u001b[1;33m)\u001b[0m\u001b[1;33m:\u001b[0m\u001b[1;33m\u001b[0m\u001b[1;33m\u001b[0m\u001b[0m\n\u001b[1;32m--> 104\u001b[1;33m         \u001b[1;32mreturn\u001b[0m \u001b[0mself\u001b[0m\u001b[1;33m.\u001b[0m\u001b[0mnext\u001b[0m\u001b[1;33m(\u001b[0m\u001b[1;33m*\u001b[0m\u001b[0margs\u001b[0m\u001b[1;33m,\u001b[0m \u001b[1;33m**\u001b[0m\u001b[0mkwargs\u001b[0m\u001b[1;33m)\u001b[0m\u001b[1;33m\u001b[0m\u001b[1;33m\u001b[0m\u001b[0m\n\u001b[0m\u001b[0;32m    105\u001b[0m \u001b[1;33m\u001b[0m\u001b[0m\n\u001b[0;32m    106\u001b[0m     \u001b[1;32mdef\u001b[0m \u001b[0mnext\u001b[0m\u001b[1;33m(\u001b[0m\u001b[0mself\u001b[0m\u001b[1;33m)\u001b[0m\u001b[1;33m:\u001b[0m\u001b[1;33m\u001b[0m\u001b[1;33m\u001b[0m\u001b[0m\n",
      "\u001b[1;32m~\\anaconda3\\lib\\site-packages\\keras_preprocessing\\image\\iterator.py\u001b[0m in \u001b[0;36mnext\u001b[1;34m(self)\u001b[0m\n\u001b[0;32m    114\u001b[0m         \u001b[1;31m# The transformation of images is not under thread lock\u001b[0m\u001b[1;33m\u001b[0m\u001b[1;33m\u001b[0m\u001b[0m\n\u001b[0;32m    115\u001b[0m         \u001b[1;31m# so it can be done in parallel\u001b[0m\u001b[1;33m\u001b[0m\u001b[1;33m\u001b[0m\u001b[0m\n\u001b[1;32m--> 116\u001b[1;33m         \u001b[1;32mreturn\u001b[0m \u001b[0mself\u001b[0m\u001b[1;33m.\u001b[0m\u001b[0m_get_batches_of_transformed_samples\u001b[0m\u001b[1;33m(\u001b[0m\u001b[0mindex_array\u001b[0m\u001b[1;33m)\u001b[0m\u001b[1;33m\u001b[0m\u001b[1;33m\u001b[0m\u001b[0m\n\u001b[0m\u001b[0;32m    117\u001b[0m \u001b[1;33m\u001b[0m\u001b[0m\n\u001b[0;32m    118\u001b[0m     \u001b[1;32mdef\u001b[0m \u001b[0m_get_batches_of_transformed_samples\u001b[0m\u001b[1;33m(\u001b[0m\u001b[0mself\u001b[0m\u001b[1;33m,\u001b[0m \u001b[0mindex_array\u001b[0m\u001b[1;33m)\u001b[0m\u001b[1;33m:\u001b[0m\u001b[1;33m\u001b[0m\u001b[1;33m\u001b[0m\u001b[0m\n",
      "\u001b[1;32m~\\anaconda3\\lib\\site-packages\\keras_preprocessing\\image\\numpy_array_iterator.py\u001b[0m in \u001b[0;36m_get_batches_of_transformed_samples\u001b[1;34m(self, index_array)\u001b[0m\n\u001b[0;32m    158\u001b[0m         \u001b[1;32mfor\u001b[0m \u001b[0mi\u001b[0m\u001b[1;33m,\u001b[0m \u001b[0mj\u001b[0m \u001b[1;32min\u001b[0m \u001b[0menumerate\u001b[0m\u001b[1;33m(\u001b[0m\u001b[0mindex_array\u001b[0m\u001b[1;33m)\u001b[0m\u001b[1;33m:\u001b[0m\u001b[1;33m\u001b[0m\u001b[1;33m\u001b[0m\u001b[0m\n\u001b[0;32m    159\u001b[0m             \u001b[0mx\u001b[0m \u001b[1;33m=\u001b[0m \u001b[0mself\u001b[0m\u001b[1;33m.\u001b[0m\u001b[0mx\u001b[0m\u001b[1;33m[\u001b[0m\u001b[0mj\u001b[0m\u001b[1;33m]\u001b[0m\u001b[1;33m\u001b[0m\u001b[1;33m\u001b[0m\u001b[0m\n\u001b[1;32m--> 160\u001b[1;33m             \u001b[0mparams\u001b[0m \u001b[1;33m=\u001b[0m \u001b[0mself\u001b[0m\u001b[1;33m.\u001b[0m\u001b[0mimage_data_generator\u001b[0m\u001b[1;33m.\u001b[0m\u001b[0mget_random_transform\u001b[0m\u001b[1;33m(\u001b[0m\u001b[0mx\u001b[0m\u001b[1;33m.\u001b[0m\u001b[0mshape\u001b[0m\u001b[1;33m)\u001b[0m\u001b[1;33m\u001b[0m\u001b[1;33m\u001b[0m\u001b[0m\n\u001b[0m\u001b[0;32m    161\u001b[0m             x = self.image_data_generator.apply_transform(\n\u001b[0;32m    162\u001b[0m                 x.astype(self.dtype), params)\n",
      "\u001b[1;32m~\\anaconda3\\lib\\site-packages\\keras_preprocessing\\image\\image_data_generator.py\u001b[0m in \u001b[0;36mget_random_transform\u001b[1;34m(self, img_shape, seed)\u001b[0m\n\u001b[0;32m    763\u001b[0m         \u001b[1;32mif\u001b[0m \u001b[0mself\u001b[0m\u001b[1;33m.\u001b[0m\u001b[0mrotation_range\u001b[0m\u001b[1;33m:\u001b[0m\u001b[1;33m\u001b[0m\u001b[1;33m\u001b[0m\u001b[0m\n\u001b[0;32m    764\u001b[0m             theta = np.random.uniform(\n\u001b[1;32m--> 765\u001b[1;33m                 \u001b[1;33m-\u001b[0m\u001b[0mself\u001b[0m\u001b[1;33m.\u001b[0m\u001b[0mrotation_range\u001b[0m\u001b[1;33m,\u001b[0m\u001b[1;33m\u001b[0m\u001b[1;33m\u001b[0m\u001b[0m\n\u001b[0m\u001b[0;32m    766\u001b[0m                 self.rotation_range)\n\u001b[0;32m    767\u001b[0m         \u001b[1;32melse\u001b[0m\u001b[1;33m:\u001b[0m\u001b[1;33m\u001b[0m\u001b[1;33m\u001b[0m\u001b[0m\n",
      "\u001b[1;31mTypeError\u001b[0m: bad operand type for unary -: 'list'"
     ]
    }
   ],
   "source": [
    "datagen = ImageDataGenerator(\n",
    "        rotation_range = [0,45,90,180,270],\n",
    "        brightness_range = (0,1.5),\n",
    "        width_shift_range=4,\n",
    "        height_shift_range=4,\n",
    "        shear_range = 5,\n",
    "        #zoom_range = 0.2,\n",
    "        horizontal_flip= True,\n",
    "        vertical_flip = True,\n",
    "        fill_mode = 'nearest')\n",
    "\n",
    "img = load_img('test/9.jpg')\n",
    "x = img_to_array(img)\n",
    "x = x.reshape((1,) + x.shape)\n",
    "\n",
    "i = 1\n",
    "for batch in datagen.flow(x, batch_size=1, save_to_dir='test/', save_prefix='a', save_format = 'jpg'):\n",
    "    i += 1\n",
    "    if i > 10:\n",
    "        break"
   ]
  },
  {
   "cell_type": "markdown",
   "id": "e201621f",
   "metadata": {},
   "source": [
    "<h6>Custom Range Not Possible<h6>"
   ]
  },
  {
   "cell_type": "markdown",
   "id": "a075941d",
   "metadata": {},
   "source": [
    "<h2>Checking for 'jpeg' extension files in dataset<h2>"
   ]
  },
  {
   "cell_type": "code",
   "execution_count": 2,
   "id": "f3eed734",
   "metadata": {},
   "outputs": [],
   "source": [
    "for f_name in os.listdir('Data'):\n",
    "    main_dir = 'Data/'+str(f_name)\n",
    "    for filename in os.listdir(main_dir):\n",
    "        if filename.endswith('jpeg'):\n",
    "            print(filename)       "
   ]
  },
  {
   "cell_type": "markdown",
   "id": "01e70cda",
   "metadata": {},
   "source": [
    "<h6>No output, so all images are in 'jpg' format<h6>"
   ]
  },
  {
   "cell_type": "markdown",
   "id": "c24264cc",
   "metadata": {},
   "source": [
    "<h2>Testing Augmentor<h2>"
   ]
  },
  {
   "cell_type": "code",
   "execution_count": 1,
   "id": "ce76edd7",
   "metadata": {
    "collapsed": true
   },
   "outputs": [
    {
     "name": "stdout",
     "output_type": "stream",
     "text": [
      "Collecting augmentor\n",
      "  Downloading Augmentor-0.2.9-py2.py3-none-any.whl (38 kB)\n",
      "Requirement already satisfied: Pillow>=5.2.0 in c:\\users\\siddh\\anaconda3\\lib\\site-packages (from augmentor) (8.4.0)\n",
      "Requirement already satisfied: tqdm>=4.9.0 in c:\\users\\siddh\\anaconda3\\lib\\site-packages (from augmentor) (4.62.3)\n",
      "Requirement already satisfied: future>=0.16.0 in c:\\users\\siddh\\anaconda3\\lib\\site-packages (from augmentor) (0.18.2)\n",
      "Requirement already satisfied: numpy>=1.11.0 in c:\\users\\siddh\\anaconda3\\lib\\site-packages (from augmentor) (1.20.3)\n",
      "Requirement already satisfied: colorama in c:\\users\\siddh\\anaconda3\\lib\\site-packages (from tqdm>=4.9.0->augmentor) (0.4.4)\n",
      "Installing collected packages: augmentor\n",
      "Successfully installed augmentor-0.2.9\n",
      "Note: you may need to restart the kernel to use updated packages.\n"
     ]
    }
   ],
   "source": [
    "#pip install augmentor"
   ]
  },
  {
   "cell_type": "code",
   "execution_count": 7,
   "id": "d67f8dc1",
   "metadata": {
    "scrolled": true
   },
   "outputs": [
    {
     "name": "stdout",
     "output_type": "stream",
     "text": [
      "Initialised with 21 image(s) found.\n",
      "Output directory set to data/Bolts_Carriage\\output."
     ]
    },
    {
     "name": "stderr",
     "output_type": "stream",
     "text": [
      "Processing <PIL.JpegImagePlugin.JpegImageFile image mode=RGB size=217x233 at 0x214CE68FAF0>: 100%|█| 10/10 [00:00<00:00\n"
     ]
    },
    {
     "name": "stdout",
     "output_type": "stream",
     "text": [
      "Initialised with 25 image(s) found.\n",
      "Output directory set to data/Bolts_Eye\\output."
     ]
    },
    {
     "name": "stderr",
     "output_type": "stream",
     "text": [
      "Processing <PIL.Image.Image image mode=RGB size=500x500 at 0x214CE6A21C0>: 100%|█| 10/10 [00:00<00:00, 75.96 Samples/s]\n"
     ]
    },
    {
     "name": "stdout",
     "output_type": "stream",
     "text": [
      "Initialised with 20 image(s) found.\n",
      "Output directory set to data/Bolts_U\\output."
     ]
    },
    {
     "name": "stderr",
     "output_type": "stream",
     "text": [
      "Processing <PIL.Image.Image image mode=RGB size=410x332 at 0x214CE683160>: 100%|█| 10/10 [00:00<00:00, 182.31 Samples/s\n"
     ]
    },
    {
     "name": "stdout",
     "output_type": "stream",
     "text": [
      "Initialised with 25 image(s) found.\n",
      "Output directory set to data/Chisels_beveled_edge\\output."
     ]
    },
    {
     "name": "stderr",
     "output_type": "stream",
     "text": [
      "Processing <PIL.Image.Image image mode=RGB size=1500x665 at 0x214CE68FCD0>: 100%|█| 10/10 [00:00<00:00, 82.19 Samples/s\n"
     ]
    },
    {
     "name": "stdout",
     "output_type": "stream",
     "text": [
      "Initialised with 7 image(s) found.\n",
      "Output directory set to data/Chisels_curved\\output."
     ]
    },
    {
     "name": "stderr",
     "output_type": "stream",
     "text": [
      "Processing <PIL.Image.Image image mode=RGB size=466x310 at 0x214CE68FCA0>: 100%|█| 10/10 [00:00<00:00, 26.76 Samples/s]\n"
     ]
    },
    {
     "name": "stdout",
     "output_type": "stream",
     "text": [
      "Initialised with 9 image(s) found.\n",
      "Output directory set to data/Chisels_dovetail\\output."
     ]
    },
    {
     "name": "stderr",
     "output_type": "stream",
     "text": [
      "Processing <PIL.JpegImagePlugin.JpegImageFile image mode=RGB size=216x233 at 0x214CE68F130>: 100%|█| 10/10 [00:00<00:00\n"
     ]
    },
    {
     "name": "stdout",
     "output_type": "stream",
     "text": [
      "Initialised with 14 image(s) found.\n",
      "Output directory set to data/Chisels_paring\\output."
     ]
    },
    {
     "name": "stderr",
     "output_type": "stream",
     "text": [
      "Processing <PIL.Image.Image image mode=RGB size=339x149 at 0x214CE6749A0>: 100%|█| 10/10 [00:00<00:00, 108.99 Samples/s\n"
     ]
    },
    {
     "name": "stdout",
     "output_type": "stream",
     "text": [
      "Initialised with 25 image(s) found.\n",
      "Output directory set to data/Chisels_skew\\output."
     ]
    },
    {
     "name": "stderr",
     "output_type": "stream",
     "text": [
      "Processing <PIL.Image.Image image mode=RGB size=794x475 at 0x214CE69E550>: 100%|█| 10/10 [00:00<00:00, 97.06 Samples/s]\n"
     ]
    },
    {
     "name": "stdout",
     "output_type": "stream",
     "text": [
      "Initialised with 7 image(s) found.\n",
      "Output directory set to data/Files_flat_file\\output."
     ]
    },
    {
     "name": "stderr",
     "output_type": "stream",
     "text": [
      "Processing <PIL.Image.Image image mode=RGB size=413x416 at 0x214CE68FFD0>: 100%|█| 10/10 [00:00<00:00, 270.83 Samples/s\n"
     ]
    },
    {
     "name": "stdout",
     "output_type": "stream",
     "text": [
      "Initialised with 9 image(s) found.\n",
      "Output directory set to data/Files_half_rounded_file\\output."
     ]
    },
    {
     "name": "stderr",
     "output_type": "stream",
     "text": [
      "Processing <PIL.Image.Image image mode=RGB size=225x225 at 0x214CE69E5B0>: 100%|█| 10/10 [00:00<00:00, 145.20 Samples/s\n"
     ]
    },
    {
     "name": "stdout",
     "output_type": "stream",
     "text": [
      "Initialised with 14 image(s) found.\n",
      "Output directory set to data/Files_rounded_file\\output."
     ]
    },
    {
     "name": "stderr",
     "output_type": "stream",
     "text": [
      "Processing <PIL.JpegImagePlugin.JpegImageFile image mode=RGB size=640x233 at 0x214CE69E190>: 100%|█| 10/10 [00:00<00:00\n"
     ]
    },
    {
     "name": "stdout",
     "output_type": "stream",
     "text": [
      "Initialised with 7 image(s) found.\n",
      "Output directory set to data/Files_square_file\\output."
     ]
    },
    {
     "name": "stderr",
     "output_type": "stream",
     "text": [
      "Processing <PIL.JpegImagePlugin.JpegImageFile image mode=RGB size=500x500 at 0x214CE668F40>: 100%|█| 10/10 [00:00<00:00\n"
     ]
    },
    {
     "name": "stdout",
     "output_type": "stream",
     "text": [
      "Initialised with 9 image(s) found.\n",
      "Output directory set to data/Files_Traingular_file\\output."
     ]
    },
    {
     "name": "stderr",
     "output_type": "stream",
     "text": [
      "Processing <PIL.JpegImagePlugin.JpegImageFile image mode=RGB size=854x529 at 0x214CE68F220>: 100%|█| 10/10 [00:00<00:00\n"
     ]
    },
    {
     "name": "stdout",
     "output_type": "stream",
     "text": [
      "Initialised with 50 image(s) found.\n",
      "Output directory set to data/Neither\\output."
     ]
    },
    {
     "name": "stderr",
     "output_type": "stream",
     "text": [
      "Processing <PIL.Image.Image image mode=RGB size=640x480 at 0x214CE69EC40>: 100%|█| 10/10 [00:00<00:00, 113.94 Samples/s\n"
     ]
    },
    {
     "name": "stdout",
     "output_type": "stream",
     "text": [
      "Initialised with 28 image(s) found.\n",
      "Output directory set to data/Nuts_Hex\\output."
     ]
    },
    {
     "name": "stderr",
     "output_type": "stream",
     "text": [
      "Processing <PIL.Image.Image image mode=RGB size=200x200 at 0x214CE69E160>: 100%|█| 10/10 [00:00<00:00, 130.21 Samples/s\n"
     ]
    },
    {
     "name": "stdout",
     "output_type": "stream",
     "text": [
      "Initialised with 21 image(s) found.\n",
      "Output directory set to data/Nuts_Lock\\output."
     ]
    },
    {
     "name": "stderr",
     "output_type": "stream",
     "text": [
      "Processing <PIL.Image.Image image mode=RGB size=409x405 at 0x214CE69EA30>: 100%|█| 10/10 [00:00<00:00, 110.19 Samples/s\n"
     ]
    },
    {
     "name": "stdout",
     "output_type": "stream",
     "text": [
      "Initialised with 37 image(s) found.\n",
      "Output directory set to data/Nuts_Shear\\output."
     ]
    },
    {
     "name": "stderr",
     "output_type": "stream",
     "text": [
      "Processing <PIL.Image.Image image mode=RGB size=297x506 at 0x214CE69EBB0>:  70%|▋| 7/10 [00:00<00:00, 155.97 Samples/s]\n"
     ]
    },
    {
     "ename": "AttributeError",
     "evalue": "'OSError' object has no attribute 'message'",
     "output_type": "error",
     "traceback": [
      "\u001b[1;31m---------------------------------------------------------------------------\u001b[0m",
      "\u001b[1;31mKeyError\u001b[0m                                  Traceback (most recent call last)",
      "\u001b[1;32m~\\anaconda3\\lib\\site-packages\\PIL\\JpegImagePlugin.py\u001b[0m in \u001b[0;36m_save\u001b[1;34m(im, fp, filename)\u001b[0m\n\u001b[0;32m    628\u001b[0m     \u001b[1;32mtry\u001b[0m\u001b[1;33m:\u001b[0m\u001b[1;33m\u001b[0m\u001b[1;33m\u001b[0m\u001b[0m\n\u001b[1;32m--> 629\u001b[1;33m         \u001b[0mrawmode\u001b[0m \u001b[1;33m=\u001b[0m \u001b[0mRAWMODE\u001b[0m\u001b[1;33m[\u001b[0m\u001b[0mim\u001b[0m\u001b[1;33m.\u001b[0m\u001b[0mmode\u001b[0m\u001b[1;33m]\u001b[0m\u001b[1;33m\u001b[0m\u001b[1;33m\u001b[0m\u001b[0m\n\u001b[0m\u001b[0;32m    630\u001b[0m     \u001b[1;32mexcept\u001b[0m \u001b[0mKeyError\u001b[0m \u001b[1;32mas\u001b[0m \u001b[0me\u001b[0m\u001b[1;33m:\u001b[0m\u001b[1;33m\u001b[0m\u001b[1;33m\u001b[0m\u001b[0m\n",
      "\u001b[1;31mKeyError\u001b[0m: 'RGBA'",
      "\nThe above exception was the direct cause of the following exception:\n",
      "\u001b[1;31mOSError\u001b[0m                                   Traceback (most recent call last)",
      "\u001b[1;32m~\\anaconda3\\lib\\site-packages\\Augmentor\\Pipeline.py\u001b[0m in \u001b[0;36m_execute\u001b[1;34m(self, augmentor_image, save_to_disk, multi_threaded)\u001b[0m\n\u001b[0;32m    250\u001b[0m \u001b[1;33m\u001b[0m\u001b[0m\n\u001b[1;32m--> 251\u001b[1;33m                         \u001b[0mimages\u001b[0m\u001b[1;33m[\u001b[0m\u001b[0mi\u001b[0m\u001b[1;33m]\u001b[0m\u001b[1;33m.\u001b[0m\u001b[0msave\u001b[0m\u001b[1;33m(\u001b[0m\u001b[0mos\u001b[0m\u001b[1;33m.\u001b[0m\u001b[0mpath\u001b[0m\u001b[1;33m.\u001b[0m\u001b[0mjoin\u001b[0m\u001b[1;33m(\u001b[0m\u001b[0maugmentor_image\u001b[0m\u001b[1;33m.\u001b[0m\u001b[0moutput_directory\u001b[0m\u001b[1;33m,\u001b[0m \u001b[0msave_name\u001b[0m\u001b[1;33m)\u001b[0m\u001b[1;33m)\u001b[0m\u001b[1;33m\u001b[0m\u001b[1;33m\u001b[0m\u001b[0m\n\u001b[0m\u001b[0;32m    252\u001b[0m \u001b[1;33m\u001b[0m\u001b[0m\n",
      "\u001b[1;32m~\\anaconda3\\lib\\site-packages\\PIL\\Image.py\u001b[0m in \u001b[0;36msave\u001b[1;34m(self, fp, format, **params)\u001b[0m\n\u001b[0;32m   2239\u001b[0m         \u001b[1;32mtry\u001b[0m\u001b[1;33m:\u001b[0m\u001b[1;33m\u001b[0m\u001b[1;33m\u001b[0m\u001b[0m\n\u001b[1;32m-> 2240\u001b[1;33m             \u001b[0msave_handler\u001b[0m\u001b[1;33m(\u001b[0m\u001b[0mself\u001b[0m\u001b[1;33m,\u001b[0m \u001b[0mfp\u001b[0m\u001b[1;33m,\u001b[0m \u001b[0mfilename\u001b[0m\u001b[1;33m)\u001b[0m\u001b[1;33m\u001b[0m\u001b[1;33m\u001b[0m\u001b[0m\n\u001b[0m\u001b[0;32m   2241\u001b[0m         \u001b[1;32mfinally\u001b[0m\u001b[1;33m:\u001b[0m\u001b[1;33m\u001b[0m\u001b[1;33m\u001b[0m\u001b[0m\n",
      "\u001b[1;32m~\\anaconda3\\lib\\site-packages\\PIL\\JpegImagePlugin.py\u001b[0m in \u001b[0;36m_save\u001b[1;34m(im, fp, filename)\u001b[0m\n\u001b[0;32m    630\u001b[0m     \u001b[1;32mexcept\u001b[0m \u001b[0mKeyError\u001b[0m \u001b[1;32mas\u001b[0m \u001b[0me\u001b[0m\u001b[1;33m:\u001b[0m\u001b[1;33m\u001b[0m\u001b[1;33m\u001b[0m\u001b[0m\n\u001b[1;32m--> 631\u001b[1;33m         \u001b[1;32mraise\u001b[0m \u001b[0mOSError\u001b[0m\u001b[1;33m(\u001b[0m\u001b[1;34mf\"cannot write mode {im.mode} as JPEG\"\u001b[0m\u001b[1;33m)\u001b[0m \u001b[1;32mfrom\u001b[0m \u001b[0me\u001b[0m\u001b[1;33m\u001b[0m\u001b[1;33m\u001b[0m\u001b[0m\n\u001b[0m\u001b[0;32m    632\u001b[0m \u001b[1;33m\u001b[0m\u001b[0m\n",
      "\u001b[1;31mOSError\u001b[0m: cannot write mode RGBA as JPEG",
      "\nDuring handling of the above exception, another exception occurred:\n",
      "\u001b[1;31mAttributeError\u001b[0m                            Traceback (most recent call last)",
      "\u001b[1;32m~\\AppData\\Local\\Temp/ipykernel_11268/3726463976.py\u001b[0m in \u001b[0;36m<module>\u001b[1;34m\u001b[0m\n\u001b[0;32m      6\u001b[0m         \u001b[1;31m#p.zoom(probability=0.2, min_factor=1.1, max_factor=1.6)\u001b[0m\u001b[1;33m\u001b[0m\u001b[1;33m\u001b[0m\u001b[0m\n\u001b[0;32m      7\u001b[0m     \u001b[0mp\u001b[0m\u001b[1;33m.\u001b[0m\u001b[0mskew\u001b[0m\u001b[1;33m(\u001b[0m\u001b[0mprobability\u001b[0m\u001b[1;33m=\u001b[0m\u001b[1;36m0.5\u001b[0m\u001b[1;33m,\u001b[0m \u001b[0mmagnitude\u001b[0m\u001b[1;33m=\u001b[0m\u001b[1;36m0.5\u001b[0m\u001b[1;33m)\u001b[0m\u001b[1;33m\u001b[0m\u001b[1;33m\u001b[0m\u001b[0m\n\u001b[1;32m----> 8\u001b[1;33m     \u001b[0mp\u001b[0m\u001b[1;33m.\u001b[0m\u001b[0msample\u001b[0m\u001b[1;33m(\u001b[0m\u001b[1;36m10\u001b[0m\u001b[1;33m)\u001b[0m\u001b[1;33m\u001b[0m\u001b[1;33m\u001b[0m\u001b[0m\n\u001b[0m",
      "\u001b[1;32m~\\anaconda3\\lib\\site-packages\\Augmentor\\Pipeline.py\u001b[0m in \u001b[0;36msample\u001b[1;34m(self, n, multi_threaded)\u001b[0m\n\u001b[0;32m    362\u001b[0m             \u001b[1;32mwith\u001b[0m \u001b[0mtqdm\u001b[0m\u001b[1;33m(\u001b[0m\u001b[0mtotal\u001b[0m\u001b[1;33m=\u001b[0m\u001b[0mlen\u001b[0m\u001b[1;33m(\u001b[0m\u001b[0maugmentor_images\u001b[0m\u001b[1;33m)\u001b[0m\u001b[1;33m,\u001b[0m \u001b[0mdesc\u001b[0m\u001b[1;33m=\u001b[0m\u001b[1;34m\"Executing Pipeline\"\u001b[0m\u001b[1;33m,\u001b[0m \u001b[0munit\u001b[0m\u001b[1;33m=\u001b[0m\u001b[1;34m\" Samples\"\u001b[0m\u001b[1;33m)\u001b[0m \u001b[1;32mas\u001b[0m \u001b[0mprogress_bar\u001b[0m\u001b[1;33m:\u001b[0m\u001b[1;33m\u001b[0m\u001b[1;33m\u001b[0m\u001b[0m\n\u001b[0;32m    363\u001b[0m                 \u001b[1;32mwith\u001b[0m \u001b[0mThreadPoolExecutor\u001b[0m\u001b[1;33m(\u001b[0m\u001b[0mmax_workers\u001b[0m\u001b[1;33m=\u001b[0m\u001b[1;32mNone\u001b[0m\u001b[1;33m)\u001b[0m \u001b[1;32mas\u001b[0m \u001b[0mexecutor\u001b[0m\u001b[1;33m:\u001b[0m\u001b[1;33m\u001b[0m\u001b[1;33m\u001b[0m\u001b[0m\n\u001b[1;32m--> 364\u001b[1;33m                     \u001b[1;32mfor\u001b[0m \u001b[0mresult\u001b[0m \u001b[1;32min\u001b[0m \u001b[0mexecutor\u001b[0m\u001b[1;33m.\u001b[0m\u001b[0mmap\u001b[0m\u001b[1;33m(\u001b[0m\u001b[0mself\u001b[0m\u001b[1;33m,\u001b[0m \u001b[0maugmentor_images\u001b[0m\u001b[1;33m)\u001b[0m\u001b[1;33m:\u001b[0m\u001b[1;33m\u001b[0m\u001b[1;33m\u001b[0m\u001b[0m\n\u001b[0m\u001b[0;32m    365\u001b[0m                         \u001b[0mprogress_bar\u001b[0m\u001b[1;33m.\u001b[0m\u001b[0mset_description\u001b[0m\u001b[1;33m(\u001b[0m\u001b[1;34m\"Processing %s\"\u001b[0m \u001b[1;33m%\u001b[0m \u001b[0mresult\u001b[0m\u001b[1;33m)\u001b[0m\u001b[1;33m\u001b[0m\u001b[1;33m\u001b[0m\u001b[0m\n\u001b[0;32m    366\u001b[0m                         \u001b[0mprogress_bar\u001b[0m\u001b[1;33m.\u001b[0m\u001b[0mupdate\u001b[0m\u001b[1;33m(\u001b[0m\u001b[1;36m1\u001b[0m\u001b[1;33m)\u001b[0m\u001b[1;33m\u001b[0m\u001b[1;33m\u001b[0m\u001b[0m\n",
      "\u001b[1;32m~\\anaconda3\\lib\\concurrent\\futures\\_base.py\u001b[0m in \u001b[0;36mresult_iterator\u001b[1;34m()\u001b[0m\n\u001b[0;32m    606\u001b[0m                     \u001b[1;31m# Careful not to keep a reference to the popped future\u001b[0m\u001b[1;33m\u001b[0m\u001b[1;33m\u001b[0m\u001b[0m\n\u001b[0;32m    607\u001b[0m                     \u001b[1;32mif\u001b[0m \u001b[0mtimeout\u001b[0m \u001b[1;32mis\u001b[0m \u001b[1;32mNone\u001b[0m\u001b[1;33m:\u001b[0m\u001b[1;33m\u001b[0m\u001b[1;33m\u001b[0m\u001b[0m\n\u001b[1;32m--> 608\u001b[1;33m                         \u001b[1;32myield\u001b[0m \u001b[0mfs\u001b[0m\u001b[1;33m.\u001b[0m\u001b[0mpop\u001b[0m\u001b[1;33m(\u001b[0m\u001b[1;33m)\u001b[0m\u001b[1;33m.\u001b[0m\u001b[0mresult\u001b[0m\u001b[1;33m(\u001b[0m\u001b[1;33m)\u001b[0m\u001b[1;33m\u001b[0m\u001b[1;33m\u001b[0m\u001b[0m\n\u001b[0m\u001b[0;32m    609\u001b[0m                     \u001b[1;32melse\u001b[0m\u001b[1;33m:\u001b[0m\u001b[1;33m\u001b[0m\u001b[1;33m\u001b[0m\u001b[0m\n\u001b[0;32m    610\u001b[0m                         \u001b[1;32myield\u001b[0m \u001b[0mfs\u001b[0m\u001b[1;33m.\u001b[0m\u001b[0mpop\u001b[0m\u001b[1;33m(\u001b[0m\u001b[1;33m)\u001b[0m\u001b[1;33m.\u001b[0m\u001b[0mresult\u001b[0m\u001b[1;33m(\u001b[0m\u001b[0mend_time\u001b[0m \u001b[1;33m-\u001b[0m \u001b[0mtime\u001b[0m\u001b[1;33m.\u001b[0m\u001b[0mmonotonic\u001b[0m\u001b[1;33m(\u001b[0m\u001b[1;33m)\u001b[0m\u001b[1;33m)\u001b[0m\u001b[1;33m\u001b[0m\u001b[1;33m\u001b[0m\u001b[0m\n",
      "\u001b[1;32m~\\anaconda3\\lib\\concurrent\\futures\\_base.py\u001b[0m in \u001b[0;36mresult\u001b[1;34m(self, timeout)\u001b[0m\n\u001b[0;32m    436\u001b[0m                     \u001b[1;32mraise\u001b[0m \u001b[0mCancelledError\u001b[0m\u001b[1;33m(\u001b[0m\u001b[1;33m)\u001b[0m\u001b[1;33m\u001b[0m\u001b[1;33m\u001b[0m\u001b[0m\n\u001b[0;32m    437\u001b[0m                 \u001b[1;32melif\u001b[0m \u001b[0mself\u001b[0m\u001b[1;33m.\u001b[0m\u001b[0m_state\u001b[0m \u001b[1;33m==\u001b[0m \u001b[0mFINISHED\u001b[0m\u001b[1;33m:\u001b[0m\u001b[1;33m\u001b[0m\u001b[1;33m\u001b[0m\u001b[0m\n\u001b[1;32m--> 438\u001b[1;33m                     \u001b[1;32mreturn\u001b[0m \u001b[0mself\u001b[0m\u001b[1;33m.\u001b[0m\u001b[0m__get_result\u001b[0m\u001b[1;33m(\u001b[0m\u001b[1;33m)\u001b[0m\u001b[1;33m\u001b[0m\u001b[1;33m\u001b[0m\u001b[0m\n\u001b[0m\u001b[0;32m    439\u001b[0m \u001b[1;33m\u001b[0m\u001b[0m\n\u001b[0;32m    440\u001b[0m                 \u001b[0mself\u001b[0m\u001b[1;33m.\u001b[0m\u001b[0m_condition\u001b[0m\u001b[1;33m.\u001b[0m\u001b[0mwait\u001b[0m\u001b[1;33m(\u001b[0m\u001b[0mtimeout\u001b[0m\u001b[1;33m)\u001b[0m\u001b[1;33m\u001b[0m\u001b[1;33m\u001b[0m\u001b[0m\n",
      "\u001b[1;32m~\\anaconda3\\lib\\concurrent\\futures\\_base.py\u001b[0m in \u001b[0;36m__get_result\u001b[1;34m(self)\u001b[0m\n\u001b[0;32m    388\u001b[0m         \u001b[1;32mif\u001b[0m \u001b[0mself\u001b[0m\u001b[1;33m.\u001b[0m\u001b[0m_exception\u001b[0m\u001b[1;33m:\u001b[0m\u001b[1;33m\u001b[0m\u001b[1;33m\u001b[0m\u001b[0m\n\u001b[0;32m    389\u001b[0m             \u001b[1;32mtry\u001b[0m\u001b[1;33m:\u001b[0m\u001b[1;33m\u001b[0m\u001b[1;33m\u001b[0m\u001b[0m\n\u001b[1;32m--> 390\u001b[1;33m                 \u001b[1;32mraise\u001b[0m \u001b[0mself\u001b[0m\u001b[1;33m.\u001b[0m\u001b[0m_exception\u001b[0m\u001b[1;33m\u001b[0m\u001b[1;33m\u001b[0m\u001b[0m\n\u001b[0m\u001b[0;32m    391\u001b[0m             \u001b[1;32mfinally\u001b[0m\u001b[1;33m:\u001b[0m\u001b[1;33m\u001b[0m\u001b[1;33m\u001b[0m\u001b[0m\n\u001b[0;32m    392\u001b[0m                 \u001b[1;31m# Break a reference cycle with the exception in self._exception\u001b[0m\u001b[1;33m\u001b[0m\u001b[1;33m\u001b[0m\u001b[0m\n",
      "\u001b[1;32m~\\anaconda3\\lib\\concurrent\\futures\\thread.py\u001b[0m in \u001b[0;36mrun\u001b[1;34m(self)\u001b[0m\n\u001b[0;32m     50\u001b[0m \u001b[1;33m\u001b[0m\u001b[0m\n\u001b[0;32m     51\u001b[0m         \u001b[1;32mtry\u001b[0m\u001b[1;33m:\u001b[0m\u001b[1;33m\u001b[0m\u001b[1;33m\u001b[0m\u001b[0m\n\u001b[1;32m---> 52\u001b[1;33m             \u001b[0mresult\u001b[0m \u001b[1;33m=\u001b[0m \u001b[0mself\u001b[0m\u001b[1;33m.\u001b[0m\u001b[0mfn\u001b[0m\u001b[1;33m(\u001b[0m\u001b[1;33m*\u001b[0m\u001b[0mself\u001b[0m\u001b[1;33m.\u001b[0m\u001b[0margs\u001b[0m\u001b[1;33m,\u001b[0m \u001b[1;33m**\u001b[0m\u001b[0mself\u001b[0m\u001b[1;33m.\u001b[0m\u001b[0mkwargs\u001b[0m\u001b[1;33m)\u001b[0m\u001b[1;33m\u001b[0m\u001b[1;33m\u001b[0m\u001b[0m\n\u001b[0m\u001b[0;32m     53\u001b[0m         \u001b[1;32mexcept\u001b[0m \u001b[0mBaseException\u001b[0m \u001b[1;32mas\u001b[0m \u001b[0mexc\u001b[0m\u001b[1;33m:\u001b[0m\u001b[1;33m\u001b[0m\u001b[1;33m\u001b[0m\u001b[0m\n\u001b[0;32m     54\u001b[0m             \u001b[0mself\u001b[0m\u001b[1;33m.\u001b[0m\u001b[0mfuture\u001b[0m\u001b[1;33m.\u001b[0m\u001b[0mset_exception\u001b[0m\u001b[1;33m(\u001b[0m\u001b[0mexc\u001b[0m\u001b[1;33m)\u001b[0m\u001b[1;33m\u001b[0m\u001b[1;33m\u001b[0m\u001b[0m\n",
      "\u001b[1;32m~\\anaconda3\\lib\\site-packages\\Augmentor\\Pipeline.py\u001b[0m in \u001b[0;36m__call__\u001b[1;34m(self, augmentor_image)\u001b[0m\n\u001b[0;32m    103\u001b[0m         \u001b[1;33m:\u001b[0m\u001b[1;32mreturn\u001b[0m\u001b[1;33m:\u001b[0m \u001b[1;32mNone\u001b[0m\u001b[1;33m\u001b[0m\u001b[1;33m\u001b[0m\u001b[0m\n\u001b[0;32m    104\u001b[0m         \"\"\"\n\u001b[1;32m--> 105\u001b[1;33m         \u001b[1;32mreturn\u001b[0m \u001b[0mself\u001b[0m\u001b[1;33m.\u001b[0m\u001b[0m_execute\u001b[0m\u001b[1;33m(\u001b[0m\u001b[0maugmentor_image\u001b[0m\u001b[1;33m)\u001b[0m\u001b[1;33m\u001b[0m\u001b[1;33m\u001b[0m\u001b[0m\n\u001b[0m\u001b[0;32m    106\u001b[0m \u001b[1;33m\u001b[0m\u001b[0m\n\u001b[0;32m    107\u001b[0m     \u001b[1;32mdef\u001b[0m \u001b[0m_populate\u001b[0m\u001b[1;33m(\u001b[0m\u001b[0mself\u001b[0m\u001b[1;33m,\u001b[0m \u001b[0msource_directory\u001b[0m\u001b[1;33m,\u001b[0m \u001b[0moutput_directory\u001b[0m\u001b[1;33m,\u001b[0m \u001b[0mground_truth_directory\u001b[0m\u001b[1;33m,\u001b[0m \u001b[0mground_truth_output_directory\u001b[0m\u001b[1;33m)\u001b[0m\u001b[1;33m:\u001b[0m\u001b[1;33m\u001b[0m\u001b[1;33m\u001b[0m\u001b[0m\n",
      "\u001b[1;32m~\\anaconda3\\lib\\site-packages\\Augmentor\\Pipeline.py\u001b[0m in \u001b[0;36m_execute\u001b[1;34m(self, augmentor_image, save_to_disk, multi_threaded)\u001b[0m\n\u001b[0;32m    266\u001b[0m \u001b[1;33m\u001b[0m\u001b[0m\n\u001b[0;32m    267\u001b[0m             \u001b[1;32mexcept\u001b[0m \u001b[0mIOError\u001b[0m \u001b[1;32mas\u001b[0m \u001b[0me\u001b[0m\u001b[1;33m:\u001b[0m\u001b[1;33m\u001b[0m\u001b[1;33m\u001b[0m\u001b[0m\n\u001b[1;32m--> 268\u001b[1;33m                 \u001b[0mprint\u001b[0m\u001b[1;33m(\u001b[0m\u001b[1;34m\"Error writing %s, %s. Change save_format to PNG?\"\u001b[0m \u001b[1;33m%\u001b[0m \u001b[1;33m(\u001b[0m\u001b[0mfile_name\u001b[0m\u001b[1;33m,\u001b[0m \u001b[0me\u001b[0m\u001b[1;33m.\u001b[0m\u001b[0mmessage\u001b[0m\u001b[1;33m)\u001b[0m\u001b[1;33m)\u001b[0m\u001b[1;33m\u001b[0m\u001b[1;33m\u001b[0m\u001b[0m\n\u001b[0m\u001b[0;32m    269\u001b[0m                 \u001b[0mprint\u001b[0m\u001b[1;33m(\u001b[0m\u001b[1;34m\"You can change the save format using the set_save_format(save_format) function.\"\u001b[0m\u001b[1;33m)\u001b[0m\u001b[1;33m\u001b[0m\u001b[1;33m\u001b[0m\u001b[0m\n\u001b[0;32m    270\u001b[0m                 \u001b[0mprint\u001b[0m\u001b[1;33m(\u001b[0m\u001b[1;34m\"By passing save_format=\\\"auto\\\", Augmentor can save in the correct format automatically.\"\u001b[0m\u001b[1;33m)\u001b[0m\u001b[1;33m\u001b[0m\u001b[1;33m\u001b[0m\u001b[0m\n",
      "\u001b[1;31mAttributeError\u001b[0m: 'OSError' object has no attribute 'message'"
     ]
    }
   ],
   "source": [
    "import Augmentor as ag\n",
    "\n",
    "for f_name in os.listdir('Data'):\n",
    "    p = ag.Pipeline('data/'+str(f_name))\n",
    "        #p.rotate(probability=0.5, max_left_rotation=10, max_right_rotation=10)\n",
    "        #p.zoom(probability=0.2, min_factor=1.1, max_factor=1.6)\n",
    "    p.skew(probability=0.5, magnitude=0.5)\n",
    "    p.sample(10)"
   ]
  },
  {
   "cell_type": "markdown",
   "id": "831a8c11",
   "metadata": {},
   "source": [
    "<h5>Output given as a separate folder in each class<h5>"
   ]
  },
  {
   "cell_type": "markdown",
   "id": "437ef5fb",
   "metadata": {},
   "source": [
    "<h2>Testing Albumentations<h2>"
   ]
  },
  {
   "cell_type": "code",
   "execution_count": 17,
   "id": "26540267",
   "metadata": {
    "collapsed": true
   },
   "outputs": [
    {
     "name": "stdout",
     "output_type": "stream",
     "text": [
      "Collecting albumentations\n",
      "  Downloading albumentations-1.1.0-py3-none-any.whl (102 kB)\n",
      "Requirement already satisfied: numpy>=1.11.1 in c:\\users\\siddh\\anaconda3\\lib\\site-packages (from albumentations) (1.20.3)\n",
      "Requirement already satisfied: scikit-image>=0.16.1 in c:\\users\\siddh\\anaconda3\\lib\\site-packages (from albumentations) (0.18.3)\n",
      "Collecting qudida>=0.0.4\n",
      "  Downloading qudida-0.0.4-py3-none-any.whl (3.5 kB)\n",
      "Collecting opencv-python-headless>=4.1.1\n",
      "  Downloading opencv_python_headless-4.5.5.62-cp36-abi3-win_amd64.whl (35.3 MB)\n",
      "Requirement already satisfied: PyYAML in c:\\users\\siddh\\anaconda3\\lib\\site-packages (from albumentations) (6.0)\n",
      "Requirement already satisfied: scipy in c:\\users\\siddh\\anaconda3\\lib\\site-packages (from albumentations) (1.7.1)\n",
      "Requirement already satisfied: typing-extensions in c:\\users\\siddh\\anaconda3\\lib\\site-packages (from qudida>=0.0.4->albumentations) (3.10.0.2)\n",
      "Requirement already satisfied: scikit-learn>=0.19.1 in c:\\users\\siddh\\anaconda3\\lib\\site-packages (from qudida>=0.0.4->albumentations) (0.24.2)\n",
      "Requirement already satisfied: matplotlib!=3.0.0,>=2.0.0 in c:\\users\\siddh\\anaconda3\\lib\\site-packages (from scikit-image>=0.16.1->albumentations) (3.4.3)\n",
      "Requirement already satisfied: networkx>=2.0 in c:\\users\\siddh\\anaconda3\\lib\\site-packages (from scikit-image>=0.16.1->albumentations) (2.6.3)\n",
      "Requirement already satisfied: pillow!=7.1.0,!=7.1.1,>=4.3.0 in c:\\users\\siddh\\anaconda3\\lib\\site-packages (from scikit-image>=0.16.1->albumentations) (8.4.0)\n",
      "Requirement already satisfied: imageio>=2.3.0 in c:\\users\\siddh\\anaconda3\\lib\\site-packages (from scikit-image>=0.16.1->albumentations) (2.9.0)\n",
      "Requirement already satisfied: tifffile>=2019.7.26 in c:\\users\\siddh\\anaconda3\\lib\\site-packages (from scikit-image>=0.16.1->albumentations) (2021.7.2)\n",
      "Requirement already satisfied: PyWavelets>=1.1.1 in c:\\users\\siddh\\anaconda3\\lib\\site-packages (from scikit-image>=0.16.1->albumentations) (1.1.1)\n",
      "Requirement already satisfied: pyparsing>=2.2.1 in c:\\users\\siddh\\anaconda3\\lib\\site-packages (from matplotlib!=3.0.0,>=2.0.0->scikit-image>=0.16.1->albumentations) (3.0.4)\n",
      "Requirement already satisfied: cycler>=0.10 in c:\\users\\siddh\\anaconda3\\lib\\site-packages (from matplotlib!=3.0.0,>=2.0.0->scikit-image>=0.16.1->albumentations) (0.10.0)\n",
      "Requirement already satisfied: kiwisolver>=1.0.1 in c:\\users\\siddh\\anaconda3\\lib\\site-packages (from matplotlib!=3.0.0,>=2.0.0->scikit-image>=0.16.1->albumentations) (1.3.1)\n",
      "Requirement already satisfied: python-dateutil>=2.7 in c:\\users\\siddh\\anaconda3\\lib\\site-packages (from matplotlib!=3.0.0,>=2.0.0->scikit-image>=0.16.1->albumentations) (2.8.2)\n",
      "Requirement already satisfied: six in c:\\users\\siddh\\anaconda3\\lib\\site-packages (from cycler>=0.10->matplotlib!=3.0.0,>=2.0.0->scikit-image>=0.16.1->albumentations) (1.16.0)\n",
      "Requirement already satisfied: joblib>=0.11 in c:\\users\\siddh\\anaconda3\\lib\\site-packages (from scikit-learn>=0.19.1->qudida>=0.0.4->albumentations) (1.1.0)\n",
      "Requirement already satisfied: threadpoolctl>=2.0.0 in c:\\users\\siddh\\anaconda3\\lib\\site-packages (from scikit-learn>=0.19.1->qudida>=0.0.4->albumentations) (2.2.0)\n",
      "Installing collected packages: opencv-python-headless, qudida, albumentations\n",
      "Successfully installed albumentations-1.1.0 opencv-python-headless-4.5.5.62 qudida-0.0.4\n",
      "Note: you may need to restart the kernel to use updated packages.\n"
     ]
    }
   ],
   "source": [
    "#pip install albumentations"
   ]
  },
  {
   "cell_type": "code",
   "execution_count": 2,
   "id": "99d74692",
   "metadata": {},
   "outputs": [
    {
     "data": {
      "image/png": "[encoded data removed]",
      "text/plain": [
       "<Figure size 720x720 with 1 Axes>"
      ]
     },
     "metadata": {
      "needs_background": "light"
     },
     "output_type": "display_data"
    }
   ],
   "source": [
    "import matplotlib.pyplot as plt\n",
    "import albumentations as A\n",
    "import cv2\n",
    "\n",
    "def visualize(image):\n",
    "    plt.figure(figsize=(10, 10))\n",
    "    plt.axis('off')\n",
    "    plt.imshow(image)\n",
    "\n",
    "image = cv2.imread('test/alb_preview/9.jpg')\n",
    "image = cv2.cvtColor(image, cv2.COLOR_BGR2RGB)\n",
    "\n",
    "transform = A.Compose(\n",
    "    [A.CLAHE(),\n",
    "     A.RandomRotate90(),\n",
    "     A.Transpose(),\n",
    "     A.ShiftScaleRotate(shift_limit=0.0625, scale_limit=0.50,\n",
    "                        rotate_limit=45, p=.75),\n",
    "     A.Blur(blur_limit=3),\n",
    "     A.OpticalDistortion(),\n",
    "     A.GridDistortion(),\n",
    "     A.HueSaturationValue()])\n",
    "\n",
    "augmented_image = transform(image=image)['image']\n",
    "visualize(augmented_image)"
   ]
  },
  {
   "cell_type": "markdown",
   "id": "d98993ee",
   "metadata": {},
   "source": [
    "<h2>Testing ImgAug<h2>"
   ]
  },
  {
   "cell_type": "code",
   "execution_count": 4,
   "id": "62607baa",
   "metadata": {
    "collapsed": true
   },
   "outputs": [
    {
     "name": "stdout",
     "output_type": "stream",
     "text": [
      "Collecting imgaug\n",
      "  Using cached imgaug-0.4.0-py2.py3-none-any.whl (948 kB)\n",
      "Requirement already satisfied: scikit-image>=0.14.2 in c:\\users\\siddh\\anaconda3\\lib\\site-packages (from imgaug) (0.18.3)\n",
      "Requirement already satisfied: Pillow in c:\\users\\siddh\\anaconda3\\lib\\site-packages (from imgaug) (8.4.0)\n",
      "Requirement already satisfied: numpy>=1.15 in c:\\users\\siddh\\anaconda3\\lib\\site-packages (from imgaug) (1.20.3)\n",
      "Collecting opencv-python\n",
      "  Using cached opencv_python-4.5.5.62-cp36-abi3-win_amd64.whl (35.4 MB)\n",
      "Requirement already satisfied: scipy in c:\\users\\siddh\\anaconda3\\lib\\site-packages (from imgaug) (1.7.1)\n",
      "Requirement already satisfied: matplotlib in c:\\users\\siddh\\anaconda3\\lib\\site-packages (from imgaug) (3.4.3)\n",
      "Requirement already satisfied: Shapely in c:\\users\\siddh\\anaconda3\\lib\\site-packages (from imgaug) (1.8.1.post1)\n",
      "Requirement already satisfied: imageio in c:\\users\\siddh\\anaconda3\\lib\\site-packages (from imgaug) (2.9.0)\n",
      "Requirement already satisfied: six in c:\\users\\siddh\\anaconda3\\lib\\site-packages (from imgaug) (1.16.0)\n",
      "Requirement already satisfied: networkx>=2.0 in c:\\users\\siddh\\anaconda3\\lib\\site-packages (from scikit-image>=0.14.2->imgaug) (2.6.3)\n",
      "Requirement already satisfied: tifffile>=2019.7.26 in c:\\users\\siddh\\anaconda3\\lib\\site-packages (from scikit-image>=0.14.2->imgaug) (2021.7.2)\n",
      "Requirement already satisfied: PyWavelets>=1.1.1 in c:\\users\\siddh\\anaconda3\\lib\\site-packages (from scikit-image>=0.14.2->imgaug) (1.1.1)\n",
      "Requirement already satisfied: python-dateutil>=2.7 in c:\\users\\siddh\\anaconda3\\lib\\site-packages (from matplotlib->imgaug) (2.8.2)\n",
      "Requirement already satisfied: cycler>=0.10 in c:\\users\\siddh\\anaconda3\\lib\\site-packages (from matplotlib->imgaug) (0.10.0)\n",
      "Requirement already satisfied: pyparsing>=2.2.1 in c:\\users\\siddh\\anaconda3\\lib\\site-packages (from matplotlib->imgaug) (3.0.4)\n",
      "Requirement already satisfied: kiwisolver>=1.0.1 in c:\\users\\siddh\\anaconda3\\lib\\site-packages (from matplotlib->imgaug) (1.3.1)\n",
      "Installing collected packages: opencv-python, imgaug\n",
      "Successfully installed imgaug-0.4.0 opencv-python-4.5.5.62\n",
      "Note: you may need to restart the kernel to use updated packages.\n"
     ]
    }
   ],
   "source": [
    "#pip install imgaug --user"
   ]
  },
  {
   "cell_type": "code",
   "execution_count": 1,
   "id": "3f6158c3",
   "metadata": {
    "collapsed": true
   },
   "outputs": [
    {
     "ename": "NameError",
     "evalue": "name 'load_batch' is not defined",
     "output_type": "error",
     "traceback": [
      "\u001b[1;31m---------------------------------------------------------------------------\u001b[0m",
      "\u001b[1;31mNameError\u001b[0m                                 Traceback (most recent call last)",
      "\u001b[1;32m~\\AppData\\Local\\Temp/ipykernel_16476/2401111745.py\u001b[0m in \u001b[0;36m<module>\u001b[1;34m\u001b[0m\n\u001b[0;32m      7\u001b[0m \u001b[1;33m\u001b[0m\u001b[0m\n\u001b[0;32m      8\u001b[0m \u001b[1;32mfor\u001b[0m \u001b[0mbatch_idx\u001b[0m \u001b[1;32min\u001b[0m \u001b[0mrange\u001b[0m\u001b[1;33m(\u001b[0m\u001b[1;36m1000\u001b[0m\u001b[1;33m)\u001b[0m\u001b[1;33m:\u001b[0m\u001b[1;33m\u001b[0m\u001b[1;33m\u001b[0m\u001b[0m\n\u001b[1;32m----> 9\u001b[1;33m                 \u001b[0mimages\u001b[0m \u001b[1;33m=\u001b[0m \u001b[0mload_batch\u001b[0m\u001b[1;33m(\u001b[0m\u001b[0mbatch_idx\u001b[0m\u001b[1;33m)\u001b[0m\u001b[1;33m\u001b[0m\u001b[1;33m\u001b[0m\u001b[0m\n\u001b[0m\u001b[0;32m     10\u001b[0m                 \u001b[0mimages_aug\u001b[0m \u001b[1;33m=\u001b[0m \u001b[0mseq\u001b[0m\u001b[1;33m(\u001b[0m\u001b[0mimages\u001b[0m\u001b[1;33m=\u001b[0m\u001b[0mimages\u001b[0m\u001b[1;33m)\u001b[0m\u001b[1;33m\u001b[0m\u001b[1;33m\u001b[0m\u001b[0m\n",
      "\u001b[1;31mNameError\u001b[0m: name 'load_batch' is not defined"
     ]
    }
   ],
   "source": [
    "from imgaug import augmenters as iaa\n",
    "\n",
    "seq = iaa.Sequential([\n",
    "    \t\tiaa.Crop(px=(0, 16)),\n",
    "    \t\tiaa.Fliplr(0.5),\n",
    "    \t\tiaa.GaussianBlur(sigma=(0, 3.0))])\n",
    "\n",
    "for batch_idx in range(1000):\n",
    "    \t\timages = load_batch(batch_idx)\n",
    "    \t\timages_aug = seq(images=images)"
   ]
  },
  {
   "cell_type": "markdown",
   "id": "97531d68",
   "metadata": {},
   "source": [
    "<h2>Testing AutoAugment<h2>"
   ]
  },
  {
   "cell_type": "code",
   "execution_count": 2,
   "id": "82f6d4ae",
   "metadata": {
    "collapsed": true
   },
   "outputs": [
    {
     "name": "stdout",
     "output_type": "stream",
     "text": [
      "Collecting deepaugment\n",
      "  Downloading deepaugment-1.1.2-py2.py3-none-any.whl (33 kB)\n",
      "Collecting imgaug==0.2.7\n",
      "  Downloading imgaug-0.2.7-py3-none-any.whl (644 kB)\n",
      "Collecting keras-applications==1.0.6\n",
      "  Downloading Keras_Applications-1.0.6-py2.py3-none-any.whl (44 kB)\n",
      "Collecting pandas==0.23.4\n",
      "  Downloading pandas-0.23.4.tar.gz (10.5 MB)\n",
      "Collecting deepaugment\n",
      "  Downloading deepaugment-1.1.1-py2.py3-none-any.whl (33 kB)\n",
      "  Downloading deepaugment-1.1.0-py2.py3-none-any.whl (33 kB)\n",
      "  Downloading deepaugment-1.0.0-py2.py3-none-any.whl (32 kB)\n",
      "  Downloading deepaugment-0.12.4-py2.py3-none-any.whl (29 kB)\n",
      "  Downloading deepaugment-0.12.3-py2.py3-none-any.whl (29 kB)\n",
      "  Downloading deepaugment-0.12.2-py2.py3-none-any.whl (29 kB)\n",
      "  Downloading deepaugment-0.12.1-py2.py3-none-any.whl (29 kB)\n",
      "  Downloading deepaugment-0.12.0-py2.py3-none-any.whl (28 kB)\n",
      "  Downloading deepaugment-0.11.0-py2.py3-none-any.whl (28 kB)\n",
      "  Downloading deepaugment-0.10.0-py2.py3-none-any.whl (28 kB)\n",
      "  Downloading deepaugment-0.9.0-py2.py3-none-any.whl (28 kB)\n",
      "  Downloading deepaugment-0.8.0-py2.py3-none-any.whl (28 kB)\n",
      "  Downloading deepaugment-0.7.0-py2.py3-none-any.whl (32 kB)\n",
      "Collecting opencv-contrib-python\n",
      "  Downloading opencv_contrib_python-4.5.5.62-cp36-abi3-win_amd64.whl (42.2 MB)\n",
      "Requirement already satisfied: imageio in c:\\users\\siddh\\anaconda3\\lib\\site-packages (from deepaugment) (2.9.0)\n",
      "Requirement already satisfied: numpy in c:\\users\\siddh\\anaconda3\\lib\\site-packages (from deepaugment) (1.20.3)\n",
      "Requirement already satisfied: matplotlib in c:\\users\\siddh\\anaconda3\\lib\\site-packages (from deepaugment) (3.4.3)\n",
      "Requirement already satisfied: Pillow in c:\\users\\siddh\\anaconda3\\lib\\site-packages (from deepaugment) (8.4.0)\n",
      "Requirement already satisfied: scipy in c:\\users\\siddh\\anaconda3\\lib\\site-packages (from deepaugment) (1.7.1)\n",
      "Collecting scikit-optimize\n",
      "  Downloading scikit_optimize-0.9.0-py2.py3-none-any.whl (100 kB)\n",
      "Requirement already satisfied: scikit-image in c:\\users\\siddh\\anaconda3\\lib\\site-packages (from deepaugment) (0.18.3)\n",
      "Requirement already satisfied: Shapely in c:\\users\\siddh\\anaconda3\\lib\\site-packages (from deepaugment) (1.8.1.post1)\n",
      "Requirement already satisfied: opencv-python in c:\\users\\siddh\\appdata\\roaming\\python\\python39\\site-packages (from deepaugment) (4.5.5.62)\n",
      "Requirement already satisfied: six in c:\\users\\siddh\\anaconda3\\lib\\site-packages (from deepaugment) (1.16.0)\n",
      "Requirement already satisfied: click in c:\\users\\siddh\\anaconda3\\lib\\site-packages (from deepaugment) (8.0.3)\n",
      "Requirement already satisfied: networkx>=2.0 in c:\\users\\siddh\\anaconda3\\lib\\site-packages (from scikit-image->deepaugment) (2.6.3)\n",
      "Requirement already satisfied: tifffile>=2019.7.26 in c:\\users\\siddh\\anaconda3\\lib\\site-packages (from scikit-image->deepaugment) (2021.7.2)\n",
      "Requirement already satisfied: PyWavelets>=1.1.1 in c:\\users\\siddh\\anaconda3\\lib\\site-packages (from scikit-image->deepaugment) (1.1.1)\n",
      "Requirement already satisfied: python-dateutil>=2.7 in c:\\users\\siddh\\anaconda3\\lib\\site-packages (from matplotlib->deepaugment) (2.8.2)\n",
      "Requirement already satisfied: kiwisolver>=1.0.1 in c:\\users\\siddh\\anaconda3\\lib\\site-packages (from matplotlib->deepaugment) (1.3.1)\n",
      "Requirement already satisfied: pyparsing>=2.2.1 in c:\\users\\siddh\\anaconda3\\lib\\site-packages (from matplotlib->deepaugment) (3.0.4)\n",
      "Requirement already satisfied: cycler>=0.10 in c:\\users\\siddh\\anaconda3\\lib\\site-packages (from matplotlib->deepaugment) (0.10.0)\n",
      "Requirement already satisfied: colorama in c:\\users\\siddh\\anaconda3\\lib\\site-packages (from click->deepaugment) (0.4.4)\n",
      "Requirement already satisfied: joblib>=0.11 in c:\\users\\siddh\\anaconda3\\lib\\site-packages (from scikit-optimize->deepaugment) (1.1.0)\n",
      "Requirement already satisfied: scikit-learn>=0.20.0 in c:\\users\\siddh\\anaconda3\\lib\\site-packages (from scikit-optimize->deepaugment) (0.24.2)\n",
      "Collecting pyaml>=16.9\n",
      "  Downloading pyaml-21.10.1-py2.py3-none-any.whl (24 kB)\n",
      "Requirement already satisfied: PyYAML in c:\\users\\siddh\\anaconda3\\lib\\site-packages (from pyaml>=16.9->scikit-optimize->deepaugment) (6.0)\n",
      "Requirement already satisfied: threadpoolctl>=2.0.0 in c:\\users\\siddh\\anaconda3\\lib\\site-packages (from scikit-learn>=0.20.0->scikit-optimize->deepaugment) (2.2.0)\n",
      "Installing collected packages: pyaml, scikit-optimize, opencv-contrib-python, imgaug, deepaugment\n",
      "  Attempting uninstall: imgaug\n",
      "    Found existing installation: imgaug 0.4.0\n",
      "    Uninstalling imgaug-0.4.0:\n",
      "      Successfully uninstalled imgaug-0.4.0\n",
      "Successfully installed deepaugment-0.7.0 imgaug-0.2.7 opencv-contrib-python-4.5.5.62 pyaml-21.10.1 scikit-optimize-0.9.0\n",
      "Note: you may need to restart the kernel to use updated packages.\n"
     ]
    }
   ],
   "source": [
    "#pip install deepaugment"
   ]
  },
  {
   "cell_type": "code",
   "execution_count": null,
   "id": "256bb3b6",
   "metadata": {},
   "outputs": [],
   "source": [
    "from deepaugment.deepaugment import DeepAugment\n",
    "\n",
    "deepaug = DeepAugment(my_images, my_labels)\n",
    "best_policies = deepaug.optimize(300)"
   ]
  },
  {
   "cell_type": "markdown",
   "id": "01c1d111",
   "metadata": {},
   "source": [
    "<h1>Main Model<h1>"
   ]
  },
  {
   "cell_type": "code",
   "execution_count": 4,
   "id": "06724bd7",
   "metadata": {},
   "outputs": [
    {
     "name": "stderr",
     "output_type": "stream",
     "text": [
      "2022-04-04 09:59:03,569 - numexpr.utils - INFO - Note: NumExpr detected 12 cores but \"NUMEXPR_MAX_THREADS\" not set, so enforcing safe limit of 8.\n",
      "2022-04-04 09:59:03,569 - numexpr.utils - INFO - NumExpr defaulting to 8 threads.\n"
     ]
    }
   ],
   "source": [
    "import shutil\n",
    "import os\n",
    "import numpy as np\n",
    "import argparse\n",
    "import tensorflow as tf\n",
    "from keras.preprocessing.image import ImageDataGenerator\n",
    "import numpy as np"
   ]
  },
  {
   "cell_type": "code",
   "execution_count": 12,
   "id": "5b684ca9",
   "metadata": {
    "collapsed": true
   },
   "outputs": [
    {
     "ename": "IndexError",
     "evalue": "index 0 is out of bounds for axis 0 with size 0",
     "output_type": "error",
     "traceback": [
      "\u001b[1;31m---------------------------------------------------------------------------\u001b[0m",
      "\u001b[1;31mIndexError\u001b[0m                                Traceback (most recent call last)",
      "\u001b[1;32m~\\AppData\\Local\\Temp/ipykernel_5304/1823215770.py\u001b[0m in \u001b[0;36m<module>\u001b[1;34m\u001b[0m\n\u001b[0;32m     32\u001b[0m \u001b[1;33m\u001b[0m\u001b[0m\n\u001b[0;32m     33\u001b[0m \u001b[1;33m\u001b[0m\u001b[0m\n\u001b[1;32m---> 34\u001b[1;33m \u001b[0mmain\u001b[0m\u001b[1;33m(\u001b[0m\u001b[1;34m'Data/'\u001b[0m\u001b[1;33m,\u001b[0m \u001b[1;34m'test_data'\u001b[0m\u001b[1;33m,\u001b[0m \u001b[1;36m0.7\u001b[0m\u001b[1;33m)\u001b[0m\u001b[1;33m\u001b[0m\u001b[1;33m\u001b[0m\u001b[0m\n\u001b[0m",
      "\u001b[1;32m~\\AppData\\Local\\Temp/ipykernel_5304/1823215770.py\u001b[0m in \u001b[0;36mmain\u001b[1;34m(path_to_data, path_to_test_data, train_ratio)\u001b[0m\n\u001b[0;32m     27\u001b[0m         \u001b[1;31m# moves data\u001b[0m\u001b[1;33m\u001b[0m\u001b[1;33m\u001b[0m\u001b[0m\n\u001b[0;32m     28\u001b[0m         \u001b[1;32mfor\u001b[0m \u001b[0mj\u001b[0m \u001b[1;32min\u001b[0m \u001b[0mrange\u001b[0m\u001b[1;33m(\u001b[0m\u001b[0mint\u001b[0m\u001b[1;33m(\u001b[0m\u001b[0mtest_counter\u001b[0m\u001b[1;33m[\u001b[0m\u001b[0mi\u001b[0m\u001b[1;33m]\u001b[0m\u001b[1;33m)\u001b[0m\u001b[1;33m)\u001b[0m\u001b[1;33m:\u001b[0m\u001b[1;33m\u001b[0m\u001b[1;33m\u001b[0m\u001b[0m\n\u001b[1;32m---> 29\u001b[1;33m             \u001b[0mdst\u001b[0m \u001b[1;33m=\u001b[0m \u001b[0mos\u001b[0m\u001b[1;33m.\u001b[0m\u001b[0mpath\u001b[0m\u001b[1;33m.\u001b[0m\u001b[0mjoin\u001b[0m\u001b[1;33m(\u001b[0m\u001b[0mpath_to_save\u001b[0m\u001b[1;33m,\u001b[0m \u001b[0mfiles\u001b[0m\u001b[1;33m[\u001b[0m\u001b[0mj\u001b[0m\u001b[1;33m]\u001b[0m\u001b[1;33m)\u001b[0m\u001b[1;33m\u001b[0m\u001b[1;33m\u001b[0m\u001b[0m\n\u001b[0m\u001b[0;32m     30\u001b[0m             \u001b[0msrc\u001b[0m \u001b[1;33m=\u001b[0m \u001b[0mos\u001b[0m\u001b[1;33m.\u001b[0m\u001b[0mpath\u001b[0m\u001b[1;33m.\u001b[0m\u001b[0mjoin\u001b[0m\u001b[1;33m(\u001b[0m\u001b[0mpath_to_original\u001b[0m\u001b[1;33m,\u001b[0m \u001b[0mfiles\u001b[0m\u001b[1;33m[\u001b[0m\u001b[0mj\u001b[0m\u001b[1;33m]\u001b[0m\u001b[1;33m)\u001b[0m\u001b[1;33m\u001b[0m\u001b[1;33m\u001b[0m\u001b[0m\n\u001b[0;32m     31\u001b[0m             \u001b[0mshutil\u001b[0m\u001b[1;33m.\u001b[0m\u001b[0mmove\u001b[0m\u001b[1;33m(\u001b[0m\u001b[0msrc\u001b[0m\u001b[1;33m,\u001b[0m \u001b[0mdst\u001b[0m\u001b[1;33m)\u001b[0m\u001b[1;33m\u001b[0m\u001b[1;33m\u001b[0m\u001b[0m\n",
      "\u001b[1;31mIndexError\u001b[0m: index 0 is out of bounds for axis 0 with size 0"
     ]
    }
   ],
   "source": [
    "def get_files_from_folder(path):\n",
    "\n",
    "    files = os.listdir(path)\n",
    "    return np.asarray(files)\n",
    "\n",
    "def main(path_to_data, path_to_test_data, train_ratio):\n",
    "    # get dirs\n",
    "    _, dirs, _ = next(os.walk(path_to_data))\n",
    "\n",
    "    # calculates how many train data per class\n",
    "    data_counter_per_class = np.zeros((len(dirs)))\n",
    "    for i in range(len(dirs)):\n",
    "        path = os.path.join(path_to_data, dirs[i])\n",
    "        files = get_files_from_folder('Data')\n",
    "        data_counter_per_class[i] = len(files)\n",
    "    test_counter = np.round(data_counter_per_class * (1 - train_ratio))\n",
    "\n",
    "    # transfers files\n",
    "    for i in range(len(dirs)):\n",
    "        path_to_original = os.path.join(path_to_data, dirs[i])\n",
    "        path_to_save = os.path.join(path_to_test_data, dirs[i])\n",
    "\n",
    "        #creates dir\n",
    "        if not os.path.exists(path_to_save):\n",
    "            os.makedirs(path_to_save)\n",
    "        files = get_files_from_folder(path_to_original)\n",
    "        # moves data\n",
    "        for j in range(int(test_counter[i])):\n",
    "            dst = os.path.join(path_to_save, files[j])\n",
    "            src = os.path.join(path_to_original, files[j])\n",
    "            shutil.move(src, dst)\n",
    "\n",
    "\n",
    "main('Data/', 'test_data', 0.7)"
   ]
  },
  {
   "cell_type": "code",
   "execution_count": 2,
   "id": "79aeefa1",
   "metadata": {},
   "outputs": [],
   "source": [
    "#(X_train, y_train) = 'Data/train_data'\n",
    "#(X_test, y_test) = 'Data/test_data'"
   ]
  },
  {
   "cell_type": "code",
   "execution_count": 3,
   "id": "e20a2eeb",
   "metadata": {
    "scrolled": true
   },
   "outputs": [
    {
     "name": "stdout",
     "output_type": "stream",
     "text": [
      "Found 12218 images belonging to 28 classes.\n",
      "Found 224 images belonging to 28 classes.\n",
      "Epoch 1/3\n",
      "382/382 [==============================] - 60s 157ms/step - loss: 2.2089 - accuracy: 0.3305 - val_loss: 1.7016 - val_accuracy: 0.3259\n",
      "Epoch 2/3\n",
      "382/382 [==============================] - 51s 133ms/step - loss: 0.9921 - accuracy: 0.6735 - val_loss: 1.1856 - val_accuracy: 0.5759\n",
      "Epoch 3/3\n",
      "382/382 [==============================] - 50s 132ms/step - loss: 0.5490 - accuracy: 0.8146 - val_loss: 0.8027 - val_accuracy: 0.7366\n"
     ]
    },
    {
     "data": {
      "text/plain": [
       "<keras.callbacks.History at 0x16d8ee7cca0>"
      ]
     },
     "execution_count": 3,
     "metadata": {},
     "output_type": "execute_result"
    }
   ],
   "source": [
    "# loading training data\n",
    "train_datagen = ImageDataGenerator(\n",
    "        rescale=1./255,\n",
    "        #shear_range=0.2,\n",
    "        horizontal_flip=True)\n",
    "train_generator = train_datagen.flow_from_directory(\n",
    "        'Data/train_data',\n",
    "        target_size=(64, 64),\n",
    "        batch_size=32,\n",
    "        class_mode='categorical')\n",
    "\n",
    "# loading testing data\n",
    "test_datagen = ImageDataGenerator(rescale=1./255)\n",
    "test_generator = train_datagen.flow_from_directory(\n",
    "        'Data/test_data',\n",
    "        target_size=(64, 64),\n",
    "        batch_size=32,\n",
    "        class_mode='categorical')\n",
    "\n",
    "# making a sequential model and adding layers to it\n",
    "cnn = tf.keras.models.Sequential()\n",
    "cnn.add(tf.keras.layers.Conv2D(filters=48, kernel_size=3, activation='relu', input_shape=[64, 64, 3]))\n",
    "cnn.add(tf.keras.layers.MaxPool2D(pool_size=2, strides=2))\n",
    "cnn.add(tf.keras.layers.Conv2D(filters=48, kernel_size=3, activation='relu'))\n",
    "cnn.add(tf.keras.layers.MaxPool2D(pool_size=2, strides=2))\n",
    "cnn.add(tf.keras.layers.Conv2D(filters=32, kernel_size=3, activation='relu'))\n",
    "cnn.add(tf.keras.layers.MaxPool2D(pool_size=2, strides=2))\n",
    "cnn.add(tf.keras.layers.Flatten())\n",
    "cnn.add(tf.keras.layers.Dense(128, activation='relu'))\n",
    "cnn.add(tf.keras.layers.Dense(64, activation='relu'))\n",
    "cnn.add(tf.keras.layers.Dense(28, activation='softmax'))\n",
    "\n",
    "# compiling and training the cnn\n",
    "cnn.compile(optimizer=\"adam\", loss=\"categorical_crossentropy\", metrics=[\"accuracy\"])\n",
    "cnn.fit(x=train_generator, validation_data=test_generator, epochs=3)"
   ]
  },
  {
   "cell_type": "code",
   "execution_count": 1,
   "id": "6b9f3f15",
   "metadata": {},
   "outputs": [],
   "source": [
    "from tensorflow.keras.layers import Input, Lambda, Dense, Flatten,Dropout\n",
    "from tensorflow.keras.models import Model\n",
    "from tensorflow.keras.applications.vgg19 import VGG19\n",
    "from tensorflow.keras.applications.vgg19 import preprocess_input\n",
    "from tensorflow.keras.preprocessing import image\n",
    "from tensorflow.keras.preprocessing.image import ImageDataGenerator\n",
    "from tensorflow.keras.models import Sequential\n",
    "import numpy as np\n",
    "import pandas as pd\n",
    "import os\n",
    "import cv2\n",
    "import matplotlib.pyplot as plt"
   ]
  },
  {
   "cell_type": "code",
   "execution_count": 2,
   "id": "b3d63647",
   "metadata": {},
   "outputs": [],
   "source": [
    "train_path=\"Data/train_data\"\n",
    "test_path=\"Data/test_data\"\n",
    "val_path=\"Data/val\""
   ]
  },
  {
   "cell_type": "code",
   "execution_count": 3,
   "id": "88f78ea6",
   "metadata": {},
   "outputs": [],
   "source": [
    "x_train=[]\n",
    "\n",
    "for folder in os.listdir(train_path):\n",
    "\n",
    "    sub_path=train_path+\"/\"+folder\n",
    "\n",
    "    for img in os.listdir(sub_path):\n",
    "\n",
    "        image_path=sub_path+\"/\"+img\n",
    "\n",
    "        img_arr=cv2.imread(image_path)\n",
    "\n",
    "        img_arr=cv2.resize(img_arr,(224,224))\n",
    "\n",
    "        x_train.append(img_arr)\n",
    "\n",
    "x_test=[]\n",
    "\n",
    "for folder in os.listdir(test_path):\n",
    "\n",
    "    sub_path=test_path+\"/\"+folder\n",
    "\n",
    "    for img in os.listdir(sub_path):\n",
    "\n",
    "        image_path=sub_path+\"/\"+img\n",
    "\n",
    "        img_arr=cv2.imread(image_path)\n",
    "\n",
    "        img_arr=cv2.resize(img_arr,(224,224))\n",
    "\n",
    "        x_test.append(img_arr)\n",
    "\n",
    "x_val=[]\n",
    "\n",
    "for folder in os.listdir(val_path):\n",
    "\n",
    "    sub_path=val_path+\"/\"+folder\n",
    "\n",
    "    for img in os.listdir(sub_path):\n",
    "\n",
    "        image_path=sub_path+\"/\"+img\n",
    "\n",
    "        img_arr=cv2.imread(image_path)\n",
    "\n",
    "        img_arr=cv2.resize(img_arr,(224,224))\n",
    "\n",
    "        x_val.append(img_arr)"
   ]
  },
  {
   "cell_type": "code",
   "execution_count": 4,
   "id": "f2ac8452",
   "metadata": {},
   "outputs": [],
   "source": [
    "train_x=np.array(x_train)\n",
    "test_x=np.array(x_test)\n",
    "val_x=np.array(x_val)"
   ]
  },
  {
   "cell_type": "code",
   "execution_count": 5,
   "id": "539c7234",
   "metadata": {},
   "outputs": [],
   "source": [
    "ftrainx=train_x/255.0\n",
    "ftestx=test_x/255.0\n",
    "val_x=val_x/255.0"
   ]
  },
  {
   "cell_type": "code",
   "execution_count": 6,
   "id": "6655d880",
   "metadata": {},
   "outputs": [],
   "source": [
    "train_datagen = ImageDataGenerator(rescale = 1./255)\n",
    "test_datagen = ImageDataGenerator(rescale = 1./255)\n",
    "val_datagen = ImageDataGenerator(rescale = 1./255)"
   ]
  },
  {
   "cell_type": "code",
   "execution_count": 7,
   "id": "249ef89c",
   "metadata": {},
   "outputs": [
    {
     "name": "stdout",
     "output_type": "stream",
     "text": [
      "Found 11786 images belonging to 27 classes.\n",
      "Found 216 images belonging to 27 classes.\n",
      "Found 7 images belonging to 4 classes.\n"
     ]
    }
   ],
   "source": [
    "training_set = train_datagen.flow_from_directory(train_path,\n",
    "                                                 target_size = (224, 224),\n",
    "                                                 batch_size = 32,\n",
    "                                                 class_mode = 'sparse')\n",
    "test_set = test_datagen.flow_from_directory(test_path,\n",
    "                                            target_size = (224, 224),\n",
    "                                            batch_size = 32,\n",
    "                                            class_mode = 'sparse')\n",
    "val_set = val_datagen.flow_from_directory(val_path,\n",
    "                                            target_size = (224, 224),\n",
    "                                            batch_size = 32,\n",
    "                                            class_mode = 'sparse')"
   ]
  },
  {
   "cell_type": "code",
   "execution_count": 8,
   "id": "e3ab87df",
   "metadata": {},
   "outputs": [],
   "source": [
    "ftrainy=training_set.classes\n",
    "ftesty=test_set.classes\n",
    "val_y=val_set.classes"
   ]
  },
  {
   "cell_type": "code",
   "execution_count": 9,
   "id": "3e201ff2",
   "metadata": {},
   "outputs": [],
   "source": [
    "#### particle ####\n",
    "import numpy as np\n",
    "from copy import deepcopy\n",
    "\n",
    "import utils\n",
    "\n",
    "import keras.backend\n",
    "from keras.models import Model, Sequential\n",
    "from keras.layers import Input, Add, Dense, Dropout, Flatten\n",
    "from keras.layers import Activation, Conv2D, MaxPooling2D, AveragePooling2D\n",
    "from keras.layers.advanced_activations import LeakyReLU\n",
    "from keras import regularizers \n",
    "from tensorflow.keras.optimizers import Adam\n",
    "from tensorflow.keras.optimizers import Nadam\n",
    "from keras.preprocessing.image import ImageDataGenerator\n",
    "\n",
    "from tensorflow.keras.layers import BatchNormalization\n",
    "\n",
    "import os\n",
    "import tensorflow as tf\n",
    "\n",
    "# Hide Tensorflow INFOS and WARNINGS\n",
    "os.environ['TF_CPP_MIN_LOG_LEVEL'] = '2' \n",
    "\n",
    "class Particle:\n",
    "    def __init__(self, min_layer, max_layer, max_pool_layers, input_width, input_height, input_channels, \\\n",
    "        conv_prob, pool_prob, fc_prob, max_conv_kernel, max_out_ch, max_fc_neurons, output_dim):\n",
    "        self.input_width = input_width\n",
    "        self.input_height = input_height\n",
    "        self.input_channels = input_channels\n",
    "\n",
    "        self.num_pool_layers = 0\n",
    "        self.max_pool_layers = max_pool_layers\n",
    "\n",
    "        self.feature_width = input_width\n",
    "        self.feature_height = input_height\n",
    "\n",
    "        self.depth = np.random.randint(min_layer, max_layer)\n",
    "        self.conv_prob = conv_prob\n",
    "        self.pool_prob = pool_prob\n",
    "        self.fc_prob = fc_prob\n",
    "        self.max_conv_kernel = max_conv_kernel\n",
    "        self.max_out_ch = max_out_ch\n",
    "        \n",
    "        self.max_fc_neurons = max_fc_neurons\n",
    "        self.output_dim = output_dim\n",
    "\n",
    "        self.layers = []\n",
    "        self.acc = None\n",
    "        self.vel = [] # Initial velocity\n",
    "        self.pBest = []\n",
    "\n",
    "        # Build particle architecture\n",
    "        self.initialization()\n",
    "        \n",
    "        # Update initial velocity\n",
    "        for i in range(len(self.layers)):\n",
    "            if self.layers[i][\"type\"] != \"fc\":\n",
    "                self.vel.append({\"type\": \"keep\"})\n",
    "            else:\n",
    "                self.vel.append({\"type\": \"keep_fc\"})\n",
    "        \n",
    "        self.model = None\n",
    "        self.pBest = deepcopy(self)\n",
    "\n",
    "    \n",
    "    def __str__(self):\n",
    "        string = \"\"\n",
    "        for z in range(len(self.layers)):\n",
    "            string = string + self.layers[z][\"type\"] + \" | \"\n",
    "        \n",
    "        return string\n",
    "\n",
    "    def initialization(self):\n",
    "        out_channel = np.random.randint(3, self.max_out_ch)\n",
    "        conv_kernel = np.random.randint(3, self.max_conv_kernel)\n",
    "        \n",
    "        # First layer is always a convolution layer\n",
    "        self.layers.append({\"type\": \"conv\", \"ou_c\": out_channel, \"kernel\": conv_kernel})\n",
    "\n",
    "        conv_prob = self.conv_prob\n",
    "        pool_prob = conv_prob + self.pool_prob\n",
    "        fc_prob = pool_prob\n",
    "\n",
    "        for i in range(1, self.depth):\n",
    "            if self.layers[-1][\"type\"] == \"fc\":\n",
    "                layer_type = 1.1\n",
    "            else:\n",
    "                layer_type = np.random.rand()\n",
    "\n",
    "            if layer_type < conv_prob:\n",
    "                self.layers = utils.add_conv(self.layers, self.max_out_ch, self.max_conv_kernel)\n",
    "\n",
    "            elif layer_type >= conv_prob and layer_type <= pool_prob:\n",
    "                self.layers, self.num_pool_layers = utils.add_pool(self.layers, self.fc_prob, self.num_pool_layers, self.max_pool_layers, self.max_out_ch, self.max_conv_kernel, self.max_fc_neurons, self.output_dim)\n",
    "            \n",
    "            elif layer_type >= fc_prob:\n",
    "                self.layers = utils.add_fc(self.layers, self.max_fc_neurons)\n",
    "            \n",
    "        self.layers[-1] = {\"type\": \"fc\", \"ou_c\": self.output_dim, \"kernel\": -1}\n",
    "    \n",
    "\n",
    "    def velocity(self, gBest, Cg):\n",
    "        self.vel = utils.computeVelocity(gBest, self.pBest.layers, self.layers, Cg)\n",
    "\n",
    "    def update(self):\n",
    "        new_p = utils.updateParticle(self.layers, self.vel)\n",
    "        new_p = self.validate(new_p)\n",
    "        \n",
    "        self.layers = new_p\n",
    "        self.model = None\n",
    "\n",
    "    def validate(self, list_layers):\n",
    "        # Last layer should always be a fc with number of neurons equal to the number of outputs\n",
    "        list_layers[-1] = {\"type\": \"fc\", \"ou_c\": self.output_dim, \"kernel\": -1}\n",
    "\n",
    "        # Remove excess of Pooling layers\n",
    "        self.num_pool_layers = 0\n",
    "        for i in range(len(list_layers)):\n",
    "            if list_layers[i][\"type\"] == \"max_pool\" or list_layers[i][\"type\"] == \"avg_pool\":\n",
    "                self.num_pool_layers += 1\n",
    "            \n",
    "                if self.num_pool_layers >= self.max_pool_layers:\n",
    "                    list_layers[i][\"type\"] = \"remove\"\n",
    "\n",
    "\n",
    "        # Now, fix the inputs of each conv and pool layers\n",
    "        updated_list_layers = []\n",
    "        \n",
    "        for i in range(0, len(list_layers)):\n",
    "            if list_layers[i][\"type\"] != \"remove\":\n",
    "                if list_layers[i][\"type\"] == \"conv\":\n",
    "                    updated_list_layers.append({\"type\": \"conv\", \"ou_c\": list_layers[i][\"ou_c\"], \"kernel\": list_layers[i][\"kernel\"]})\n",
    "                \n",
    "                if list_layers[i][\"type\"] == \"fc\":\n",
    "                    updated_list_layers.append(list_layers[i])\n",
    "\n",
    "                if list_layers[i][\"type\"] == \"max_pool\":\n",
    "                    updated_list_layers.append({\"type\": \"max_pool\", \"ou_c\": -1, \"kernel\": 2})\n",
    "\n",
    "                if list_layers[i][\"type\"] == \"avg_pool\":\n",
    "                    updated_list_layers.append({\"type\": \"avg_pool\", \"ou_c\": -1, \"kernel\": 2})\n",
    "\n",
    "        return updated_list_layers\n",
    "\n",
    "    ##### Model methods ####\n",
    "    def model_compile(self, dropout_rate):\n",
    "        list_layers = self.layers\n",
    "        self.model = Sequential()\n",
    "\n",
    "        for i in range(len(list_layers)):\n",
    "            if list_layers[i][\"type\"] == \"conv\":\n",
    "                n_out_filters = list_layers[i][\"ou_c\"]\n",
    "                kernel_size = list_layers[i][\"kernel\"]\n",
    "\n",
    "                if i == 0:\n",
    "                    in_w = self.input_width\n",
    "                    in_h = self.input_height\n",
    "                    in_c = self.input_channels\n",
    "                    self.model.add(Conv2D(n_out_filters, kernel_size, strides=(1,1), padding=\"same\", data_format=\"channels_last\", kernel_initializer='he_normal', bias_initializer='he_normal', activation=None, input_shape=(in_w, in_h, in_c)))\n",
    "                    self.model.add(BatchNormalization())\n",
    "                    self.model.add(Activation(\"relu\"))\n",
    "                else:\n",
    "                    self.model.add(Dropout(dropout_rate))\n",
    "                    self.model.add(Conv2D(n_out_filters, kernel_size, strides=(1,1), padding=\"same\", kernel_initializer='he_normal', bias_initializer='he_normal', activation=None))\n",
    "                    self.model.add(BatchNormalization())\n",
    "                    self.model.add(Activation(\"relu\"))\n",
    "\n",
    "            if list_layers[i][\"type\"] == \"max_pool\":\n",
    "                kernel_size = list_layers[i][\"kernel\"]\n",
    "\n",
    "                self.model.add(MaxPooling2D(pool_size=(3, 3), strides=2))\n",
    "\n",
    "            if list_layers[i][\"type\"] == \"avg_pool\":\n",
    "                kernel_size = list_layers[i][\"kernel\"]\n",
    "\n",
    "                self.model.add(AveragePooling2D(pool_size=(3, 3), strides=2))\n",
    "            \n",
    "            if list_layers[i][\"type\"] == \"fc\":\n",
    "                if list_layers[i-1][\"type\"] != \"fc\":\n",
    "                    self.model.add(Flatten())\n",
    "\n",
    "                self.model.add(Dropout(dropout_rate))\n",
    "\n",
    "                if i == len(list_layers) - 1:\n",
    "                    self.model.add(Dense(list_layers[i][\"ou_c\"], kernel_initializer='he_normal', bias_initializer='he_normal', activation=None))\n",
    "                    self.model.add(BatchNormalization())\n",
    "                    self.model.add(Activation(\"softmax\"))\n",
    "                else:\n",
    "                    self.model.add(Dense(list_layers[i][\"ou_c\"], kernel_initializer='he_normal', bias_initializer='he_normal', kernel_regularizer=regularizers.l2(0.01), activation=None))\n",
    "                    self.model.add(BatchNormalization())\n",
    "                    self.model.add(Activation(\"relu\"))\n",
    "\n",
    "        adam = Adam(lr=0.001, beta_1=0.9, beta_2=0.999, decay=0.0)\n",
    "\n",
    "        self.model.compile(loss='categorical_crossentropy', optimizer=adam, metrics=[\"accuracy\"])\n",
    "    \n",
    "\n",
    "    def model_fit(self, x_train, y_train, batch_size, epochs):\n",
    "\n",
    "        hist = self.model.fit(x=x_train, y=y_train, validation_split=0.0, batch_size=batch_size, epochs=epochs)\n",
    "\n",
    "        return hist\n",
    "\n",
    "    def model_fit_complete(self, x_train, y_train, batch_size, epochs):\n",
    "        hist = self.model.fit(x=x_train, y=y_train, validation_split=0.0, batch_size=batch_size, epochs=epochs)\n",
    "\n",
    "        return hist\n",
    "    \n",
    "    def model_delete(self):\n",
    "        # This is used to free up memory during PSO training\n",
    "        del self.model\n",
    "        keras.backend.clear_session()\n",
    "        self.model = None"
   ]
  },
  {
   "cell_type": "code",
   "execution_count": 9,
   "id": "b4bf62f0",
   "metadata": {},
   "outputs": [
    {
     "name": "stdout",
     "output_type": "stream",
     "text": [
      "Collecting particle\n",
      "  Downloading particle-0.20.0-py2.py3-none-any.whl (237 kB)\n",
      "Collecting deprecated\n",
      "  Downloading Deprecated-1.2.13-py2.py3-none-any.whl (9.6 kB)\n",
      "Requirement already satisfied: attrs>=19.2 in c:\\users\\siddh\\anaconda3\\lib\\site-packages (from particle) (21.2.0)\n",
      "Collecting hepunits>=2.0.0\n",
      "  Downloading hepunits-2.2.0-py3-none-any.whl (14 kB)\n",
      "Requirement already satisfied: wrapt<2,>=1.10 in c:\\users\\siddh\\anaconda3\\lib\\site-packages (from deprecated->particle) (1.12.1)\n",
      "Installing collected packages: hepunits, deprecated, particle\n",
      "Successfully installed deprecated-1.2.13 hepunits-2.2.0 particle-0.20.0\n",
      "Note: you may need to restart the kernel to use updated packages.\n"
     ]
    }
   ],
   "source": [
    "pip install particle"
   ]
  },
  {
   "cell_type": "code",
   "execution_count": 10,
   "id": "680afb7c",
   "metadata": {},
   "outputs": [],
   "source": [
    "#### population ####\n",
    "from particle import Particle\n",
    "\n",
    "class Population:\n",
    "    def __init__(self, pop_size, min_layer, max_layer, input_width, input_height, input_channels, conv_prob, pool_prob, fc_prob, max_conv_kernel, max_out_ch, max_fc_neurons, output_dim):\n",
    "        # Compute maximum number of pooling layers for any given particle\n",
    "        max_pool_layers = 0\n",
    "        in_w = input_width\n",
    "\n",
    "        while in_w > 4:\n",
    "            max_pool_layers += 1\n",
    "            in_w = in_w/2\n",
    "\n",
    "        self.particle = []\n",
    "        for i in range(pop_size):\n",
    "            self.particle.append(Particle(min_layer, max_layer, max_pool_layers, input_width, input_height, input_channels, conv_prob, pool_prob, fc_prob, max_conv_kernel, max_out_ch, max_fc_neurons, output_dim))"
   ]
  },
  {
   "cell_type": "code",
   "execution_count": null,
   "id": "1a4196f3",
   "metadata": {},
   "outputs": [],
   "source": []
  },
  {
   "cell_type": "code",
   "execution_count": 11,
   "id": "3efbec92",
   "metadata": {},
   "outputs": [],
   "source": [
    "#### psoCNN ####\n",
    "import keras\n",
    "from keras.datasets import mnist\n",
    "from keras.datasets import fashion_mnist\n",
    "from keras.datasets import cifar10\n",
    "import keras.backend\n",
    "from keras.utils import np_utils\n",
    "\n",
    "from population import Population\n",
    "\n",
    "import numpy as np\n",
    "\n",
    "from copy import deepcopy\n",
    "\n",
    "class psoCNN:\n",
    "    def __init__(self, dataset, n_iter, pop_size, batch_size, epochs, min_layer, max_layer,\n",
    "        conv_prob, pool_prob, fc_prob, max_conv_kernel, max_out_ch, max_fc_neurons, dropout_rate):\n",
    "        \n",
    "        self.pop_size = pop_size\n",
    "        self.n_iter = n_iter\n",
    "        self.epochs = epochs\n",
    "\n",
    "        self.batch_size = batch_size\n",
    "        self.gBest_acc = np.zeros(n_iter)\n",
    "        self.gBest_test_acc = np.zeros(n_iter)\n",
    "\n",
    "        if dataset == \"mnist\":\n",
    "            input_width = 28\n",
    "            input_height = 28\n",
    "            input_channels = 1\n",
    "            output_dim = 10\n",
    "\n",
    "            #(self.x_train, self.y_train), (self.x_test, self.y_test) = mnist.load_data()\n",
    "            (self.x_train, self.y_train) = (ftrainx,ftrainy)\n",
    "            (self.x_test, self.y_test)= (ftestx,ftesty)\n",
    "\n",
    "        if dataset == \"convex\":\n",
    "            input_width = 28\n",
    "            input_height = 28\n",
    "            input_channels = 1\n",
    "            output_dim = 2\n",
    "\n",
    "            self.x_train = train[:, :-1]\n",
    "            self.x_test = test[:, :-1]\n",
    "\n",
    "            # Reshape images to 28x28\n",
    "            self.x_train = np.reshape(self.x_train, (-1, 28, 28))\n",
    "            self.x_test = np.reshape(self.x_test, (-1, 28, 28))\n",
    "\n",
    "            self.y_train = train[:, -1]\n",
    "            self.y_test = test[:, -1]\n",
    "\n",
    "        self.x_train = self.x_train.reshape(self.x_train.shape[0], self.x_train.shape[1], self.x_train.shape[2], input_channels)\n",
    "        self.x_test = self.x_test.reshape(self.x_test.shape[0], self.x_test.shape[1], self.x_test.shape[2], input_channels)\n",
    "\n",
    "        self.y_train = keras.utils.np_utils.to_categorical(self.y_train, output_dim)\n",
    "        self.y_test = keras.utils.np_utils.to_categorical(self.y_test, output_dim)\n",
    "\n",
    "        print(\"Initializing population...\")\n",
    "        self.population = Population(pop_size, min_layer, max_layer, input_width, input_height, input_channels, conv_prob, pool_prob, fc_prob, max_conv_kernel, max_out_ch, max_fc_neurons, output_dim)\n",
    "        \n",
    "        print(\"Verifying accuracy of the current gBest...\")\n",
    "        print(self.population.particle[0])\n",
    "        self.gBest = deepcopy(self.population.particle[0])\n",
    "        self.gBest.model_compile(dropout_rate)\n",
    "        hist = self.gBest.model_fit(self.x_train, self.y_train, batch_size=batch_size, epochs=epochs)\n",
    "        test_metrics = self.gBest.model.evaluate(x=self.x_test, y=self.y_test, batch_size=batch_size)\n",
    "        self.gBest.model_delete()\n",
    "        \n",
    "        self.gBest_acc[0] = hist.history['accuracy'][-1]\n",
    "        self.gBest_test_acc[0] = test_metrics[1]\n",
    "        \n",
    "        self.population.particle[0].acc = hist.history['accuracy'][-1]\n",
    "        self.population.particle[0].pBest.acc = hist.history['accuracy'][-1]\n",
    "\n",
    "        print(\"Current gBest acc: \" + str(self.gBest_acc[0]) + \"\\n\")\n",
    "        print(\"Current gBest test acc: \" + str(self.gBest_test_acc[0]) + \"\\n\")\n",
    "\n",
    "        print(\"Looking for a new gBest in the population...\")\n",
    "        for i in range(1, self.pop_size):\n",
    "            print('Initialization - Particle: ' + str(i+1))\n",
    "            print(self.population.particle[i])\n",
    "\n",
    "            self.population.particle[i].model_compile(dropout_rate)\n",
    "            hist = self.population.particle[i].model_fit(self.x_train, self.y_train, batch_size=batch_size, epochs=epochs)\n",
    "            self.population.particle[i].model_delete()\n",
    "           \n",
    "            self.population.particle[i].acc = hist.history['accuracy'][-1]\n",
    "            self.population.particle[i].pBest.acc = hist.history['accuracy'][-1]\n",
    "\n",
    "            if self.population.particle[i].pBest.acc >= self.gBest_acc[0]:\n",
    "                print(\"Found a new gBest.\")\n",
    "                self.gBest = deepcopy(self.population.particle[i])\n",
    "                self.gBest_acc[0] = self.population.particle[i].pBest.acc\n",
    "                print(\"New gBest acc: \" + str(self.gBest_acc[0]))\n",
    "                \n",
    "                self.gBest.model_compile(dropout_rate)\n",
    "                test_metrics = self.gBest.model.evaluate(x=self.x_test, y=self.y_test, batch_size=batch_size)\n",
    "                self.gBest_test_acc[0] = test_metrics[1]\n",
    "                print(\"New gBest test acc: \" + str(self.gBest_acc[0]))\n",
    "            \n",
    "            self.gBest.model_delete()\n",
    "\n",
    "\n",
    "    def fit(self, Cg, dropout_rate):\n",
    "        for i in range(1, self.n_iter):            \n",
    "            gBest_acc = self.gBest_acc[i-1]\n",
    "            gBest_test_acc = self.gBest_test_acc[i-1]\n",
    "\n",
    "            for j in range(self.pop_size):\n",
    "                print('Iteration: ' + str(i) + ' - Particle: ' + str(j+1))\n",
    "\n",
    "                # Update particle velocity\n",
    "                self.population.particle[j].velocity(self.gBest.layers, Cg)\n",
    "\n",
    "                # Update particle architecture\n",
    "                self.population.particle[j].update()\n",
    "\n",
    "                print('Particle NEW architecture: ')\n",
    "                print(self.population.particle[j])\n",
    "\n",
    "                # Compute the acc in the updated particle\n",
    "                self.population.particle[j].model_compile(dropout_rate)\n",
    "                hist = self.population.particle[j].model_fit(self.x_train, self.y_train, batch_size=self.batch_size, epochs=self.epochs)\n",
    "                self.population.particle[j].model_delete()\n",
    "\n",
    "                self.population.particle[j].acc = hist.history['accuracy'][-1]\n",
    "                \n",
    "                f_test = self.population.particle[j].acc\n",
    "                pBest_acc = self.population.particle[j].pBest.acc\n",
    "\n",
    "                if f_test >= pBest_acc:\n",
    "                    print(\"Found a new pBest.\")\n",
    "                    print(\"Current acc: \" + str(f_test))\n",
    "                    print(\"Past pBest acc: \" + str(pBest_acc))\n",
    "                    pBest_acc = f_test\n",
    "                    self.population.particle[j].pBest = deepcopy(self.population.particle[j])\n",
    "\n",
    "                    if pBest_acc >= gBest_acc:\n",
    "                        print(\"Found a new gBest.\")\n",
    "                        gBest_acc = pBest_acc\n",
    "                        self.gBest = deepcopy(self.population.particle[j])\n",
    "                        \n",
    "                        self.gBest.model_compile(dropout_rate)\n",
    "                        hist = self.gBest.model_fit(self.x_train, self.y_train, batch_size=self.batch_size, epochs=self.epochs)\n",
    "                        test_metrics = self.gBest.model.evaluate(x=self.x_test, y=self.y_test, batch_size=self.batch_size)\n",
    "                        self.gBest.model_delete()\n",
    "                        gBest_test_acc = test_metrics[1]\n",
    "\n",
    "                \n",
    "            self.gBest_acc[i] = gBest_acc\n",
    "            self.gBest_test_acc[i] = gBest_test_acc\n",
    "\n",
    "            print(\"Current gBest acc: \" + str(self.gBest_acc[i]))\n",
    "            print(\"Current gBest test acc: \" + str(self.gBest_test_acc[i]))\n",
    "\n",
    "    def fit_gBest(self, batch_size, epochs, dropout_rate):\n",
    "        print(\"\\nFurther training gBest model...\")\n",
    "        self.gBest.model_compile(dropout_rate)\n",
    "\n",
    "        trainable_count = 0\n",
    "        for i in range(len(self.gBest.model.trainable_weights)):\n",
    "            trainable_count += keras.backend.count_params(self.gBest.model.trainable_weights[i])\n",
    "            \n",
    "        print(\"gBest's number of trainable parameters: \" + str(trainable_count))\n",
    "        self.gBest.model_fit_complete(self.x_train, self.y_train, batch_size=batch_size, epochs=epochs)\n",
    "\n",
    "        return trainable_count\n",
    "    \n",
    "    def evaluate_gBest(self, batch_size):\n",
    "        print(\"\\nEvaluating gBest model on the test set...\")\n",
    "        \n",
    "        metrics = self.gBest.model.evaluate(x=self.x_test, y=self.y_test, batch_size=batch_size)\n",
    "\n",
    "        print(\"\\ngBest model loss in the test set: \" + str(metrics[0]) + \" - Test set accuracy: \" + str(metrics[1]))\n",
    "        return metrics\n"
   ]
  },
  {
   "cell_type": "code",
   "execution_count": 19,
   "id": "2c1be9e9",
   "metadata": {},
   "outputs": [],
   "source": [
    "(mtrainx, mtrainy), (mtestx, mtesty) = mnist.load_data()"
   ]
  },
  {
   "cell_type": "code",
   "execution_count": 12,
   "id": "53f9dfb9",
   "metadata": {
    "scrolled": true
   },
   "outputs": [
    {
     "name": "stdout",
     "output_type": "stream",
     "text": [
      "Run number: 0\n",
      "Initializing population...\n",
      "Verifying accuracy of the current gBest...\n",
      "conv | conv | fc | fc | fc | fc | \n"
     ]
    },
    {
     "name": "stderr",
     "output_type": "stream",
     "text": [
      "C:\\Users\\siddh\\anaconda3\\lib\\site-packages\\keras\\optimizer_v2\\adam.py:105: UserWarning: The `lr` argument is deprecated, use `learning_rate` instead.\n",
      "  super(Adam, self).__init__(name, **kwargs)\n"
     ]
    },
    {
     "name": "stdout",
     "output_type": "stream",
     "text": [
      "1875/1875 [==============================] - 772s 410ms/step - loss: 5.0314 - accuracy: 0.7686\n",
      "313/313 [==============================] - 31s 98ms/step - loss: 3.7299 - accuracy: 0.9628\n",
      "Current gBest acc: 0.7686166763305664\n",
      "\n",
      "Current gBest test acc: 0.9628000259399414\n",
      "\n",
      "Looking for a new gBest in the population...\n",
      "Initialization - Particle: 2\n",
      "conv | avg_pool | conv | avg_pool | conv | conv | fc | \n",
      "1875/1875 [==============================] - 145s 77ms/step - loss: 0.4336 - accuracy: 0.9120\n",
      "Found a new gBest.\n",
      "New gBest acc: 0.9119666814804077\n",
      "313/313 [==============================] - 12s 38ms/step - loss: 47.8130 - accuracy: 0.0825\n",
      "New gBest test acc: 0.9119666814804077\n",
      "Initialization - Particle: 3\n",
      "conv | fc | fc | fc | fc | fc | fc | fc | fc | fc | fc | fc | fc | fc | \n",
      "1875/1875 [==============================] - 538s 285ms/step - loss: 11.4170 - accuracy: 0.2258\n",
      "Initialization - Particle: 4\n",
      "conv | conv | max_pool | conv | conv | fc | fc | fc | fc | fc | fc | fc | \n",
      "1875/1875 [==============================] - 1226s 652ms/step - loss: 5.4013 - accuracy: 0.4961\n",
      "Initialization - Particle: 5\n",
      "conv | conv | conv | conv | conv | conv | conv | conv | conv | avg_pool | conv | fc | \n",
      "1875/1875 [==============================] - 2291s 1s/step - loss: 0.4244 - accuracy: 0.9179\n",
      "Found a new gBest.\n",
      "New gBest acc: 0.9178833365440369\n",
      "313/313 [==============================] - 86s 273ms/step - loss: 132.2982 - accuracy: 0.0860\n",
      "New gBest test acc: 0.9178833365440369\n",
      "Initialization - Particle: 6\n",
      "conv | conv | conv | avg_pool | conv | avg_pool | conv | conv | avg_pool | conv | fc | \n",
      "1875/1875 [==============================] - 1052s 561ms/step - loss: 0.4405 - accuracy: 0.9129\n",
      "Initialization - Particle: 7\n",
      "conv | conv | conv | conv | avg_pool | conv | conv | conv | conv | avg_pool | avg_pool | conv | conv | fc | \n",
      "1875/1875 [==============================] - 638s 340ms/step - loss: 0.7449 - accuracy: 0.7937\n",
      "Initialization - Particle: 8\n",
      "conv | conv | conv | conv | conv | max_pool | conv | conv | conv | conv | max_pool | max_pool | fc | \n",
      "1875/1875 [==============================] - 2439s 1s/step - loss: 0.5380 - accuracy: 0.8744\n",
      "Initialization - Particle: 9\n",
      "conv | avg_pool | max_pool | conv | conv | conv | conv | conv | conv | conv | fc | \n",
      "1875/1875 [==============================] - 365s 194ms/step - loss: 0.6926 - accuracy: 0.8005\n",
      "Initialization - Particle: 10\n",
      "conv | conv | conv | conv | conv | fc | \n",
      "1875/1875 [==============================] - 2719s 1s/step - loss: 0.3587 - accuracy: 0.9437\n",
      "Found a new gBest.\n",
      "New gBest acc: 0.9436833262443542\n",
      "313/313 [==============================] - 111s 354ms/step - loss: 269.7212 - accuracy: 0.0921\n",
      "New gBest test acc: 0.9436833262443542\n",
      "Iteration: 1 - Particle: 1\n",
      "Particle NEW architecture: \n",
      "conv | conv | conv | conv | conv | fc | fc | \n",
      "1875/1875 [==============================] - 1911s 1s/step - loss: 1.3441 - accuracy: 0.9156\n",
      "Found a new pBest.\n",
      "Current acc: 0.9156166911125183\n",
      "Past pBest acc: 0.7686166763305664\n",
      "Iteration: 1 - Particle: 2\n",
      "Particle NEW architecture: \n",
      "conv | avg_pool | conv | conv | conv | conv | fc | \n",
      "1875/1875 [==============================] - 744s 397ms/step - loss: 0.3824 - accuracy: 0.9315\n",
      "Found a new pBest.\n",
      "Current acc: 0.9314500093460083\n",
      "Past pBest acc: 0.9119666814804077\n",
      "Iteration: 1 - Particle: 3\n",
      "Particle NEW architecture: \n",
      "conv | conv | conv | fc | fc | fc | fc | fc | fc | fc | fc | \n",
      "1875/1875 [==============================] - 3005s 2s/step - loss: 7.1620 - accuracy: 0.5013\n",
      "Found a new pBest.\n",
      "Current acc: 0.5012999773025513\n",
      "Past pBest acc: 0.22583332657814026\n",
      "Iteration: 1 - Particle: 4\n",
      "Particle NEW architecture: \n",
      "conv | conv | max_pool | conv | conv | fc | fc | \n",
      "1875/1875 [==============================] - 1075s 573ms/step - loss: 1.3146 - accuracy: 0.9206\n",
      "Found a new pBest.\n",
      "Current acc: 0.9205666780471802\n",
      "Past pBest acc: 0.4960833191871643\n",
      "Iteration: 1 - Particle: 5\n",
      "Particle NEW architecture: \n",
      "conv | conv | conv | conv | conv | conv | conv | conv | avg_pool | fc | \n",
      "1875/1875 [==============================] - 2515s 1s/step - loss: 0.3953 - accuracy: 0.9283\n",
      "Found a new pBest.\n",
      "Current acc: 0.9282833337783813\n",
      "Past pBest acc: 0.9178833365440369\n",
      "Iteration: 1 - Particle: 6\n",
      "Particle NEW architecture: \n",
      "conv | conv | conv | avg_pool | conv | conv | fc | \n",
      "1875/1875 [==============================] - 1160s 618ms/step - loss: 0.3568 - accuracy: 0.9424\n",
      "Found a new pBest.\n",
      "Current acc: 0.9423666596412659\n",
      "Past pBest acc: 0.9128833413124084\n",
      "Iteration: 1 - Particle: 7\n",
      "Particle NEW architecture: \n",
      "conv | conv | conv | conv | conv | conv | conv | conv | avg_pool | conv | conv | fc | \n",
      "1875/1875 [==============================] - 1871s 997ms/step - loss: 0.4402 - accuracy: 0.9096\n",
      "Found a new pBest.\n",
      "Current acc: 0.9096166491508484\n",
      "Past pBest acc: 0.793749988079071\n",
      "Iteration: 1 - Particle: 8\n",
      "Particle NEW architecture: \n",
      "conv | conv | conv | conv | conv | max_pool | conv | conv | conv | conv | max_pool | fc | \n",
      "1875/1875 [==============================] - 3375s 2s/step - loss: 0.4436 - accuracy: 0.9099\n",
      "Found a new pBest.\n",
      "Current acc: 0.9099000096321106\n",
      "Past pBest acc: 0.8744333386421204\n",
      "Iteration: 1 - Particle: 9\n",
      "Particle NEW architecture: \n",
      "conv | conv | max_pool | conv | conv | conv | fc | \n",
      "  16/1875 [..............................] - ETA: 41:48 - loss: 2.1407 - accuracy: 0.2695"
     ]
    },
    {
     "ename": "KeyboardInterrupt",
     "evalue": "",
     "output_type": "error",
     "traceback": [
      "\u001b[1;31m---------------------------------------------------------------------------\u001b[0m",
      "\u001b[1;31mKeyboardInterrupt\u001b[0m                         Traceback (most recent call last)",
      "\u001b[1;32m~\\AppData\\Local\\Temp/ipykernel_17644/3574165971.py\u001b[0m in \u001b[0;36m<module>\u001b[1;34m\u001b[0m\n\u001b[0;32m     63\u001b[0m                      dropout_rate=dropout)\n\u001b[0;32m     64\u001b[0m \u001b[1;33m\u001b[0m\u001b[0m\n\u001b[1;32m---> 65\u001b[1;33m         \u001b[0mpso\u001b[0m\u001b[1;33m.\u001b[0m\u001b[0mfit\u001b[0m\u001b[1;33m(\u001b[0m\u001b[0mCg\u001b[0m\u001b[1;33m=\u001b[0m\u001b[0mCg\u001b[0m\u001b[1;33m,\u001b[0m \u001b[0mdropout_rate\u001b[0m\u001b[1;33m=\u001b[0m\u001b[0mdropout\u001b[0m\u001b[1;33m)\u001b[0m\u001b[1;33m\u001b[0m\u001b[1;33m\u001b[0m\u001b[0m\n\u001b[0m\u001b[0;32m     66\u001b[0m \u001b[1;33m\u001b[0m\u001b[0m\n\u001b[0;32m     67\u001b[0m         \u001b[0mprint\u001b[0m\u001b[1;33m(\u001b[0m\u001b[0mpso\u001b[0m\u001b[1;33m.\u001b[0m\u001b[0mgBest_acc\u001b[0m\u001b[1;33m)\u001b[0m\u001b[1;33m\u001b[0m\u001b[1;33m\u001b[0m\u001b[0m\n",
      "\u001b[1;32m~\\Desktop\\Study\\'21-'22 Sem 2\\ME F376 DOP - Multiclass image classification using POS + CNN\\psoCNN.py\u001b[0m in \u001b[0;36mfit\u001b[1;34m(self, Cg, dropout_rate)\u001b[0m\n\u001b[0;32m    249\u001b[0m                 \u001b[1;31m# Compute the acc in the updated particle\u001b[0m\u001b[1;33m\u001b[0m\u001b[1;33m\u001b[0m\u001b[0m\n\u001b[0;32m    250\u001b[0m                 \u001b[0mself\u001b[0m\u001b[1;33m.\u001b[0m\u001b[0mpopulation\u001b[0m\u001b[1;33m.\u001b[0m\u001b[0mparticle\u001b[0m\u001b[1;33m[\u001b[0m\u001b[0mj\u001b[0m\u001b[1;33m]\u001b[0m\u001b[1;33m.\u001b[0m\u001b[0mmodel_compile\u001b[0m\u001b[1;33m(\u001b[0m\u001b[0mdropout_rate\u001b[0m\u001b[1;33m)\u001b[0m\u001b[1;33m\u001b[0m\u001b[1;33m\u001b[0m\u001b[0m\n\u001b[1;32m--> 251\u001b[1;33m                 \u001b[0mhist\u001b[0m \u001b[1;33m=\u001b[0m \u001b[0mself\u001b[0m\u001b[1;33m.\u001b[0m\u001b[0mpopulation\u001b[0m\u001b[1;33m.\u001b[0m\u001b[0mparticle\u001b[0m\u001b[1;33m[\u001b[0m\u001b[0mj\u001b[0m\u001b[1;33m]\u001b[0m\u001b[1;33m.\u001b[0m\u001b[0mmodel_fit\u001b[0m\u001b[1;33m(\u001b[0m\u001b[0mself\u001b[0m\u001b[1;33m.\u001b[0m\u001b[0mx_train\u001b[0m\u001b[1;33m,\u001b[0m \u001b[0mself\u001b[0m\u001b[1;33m.\u001b[0m\u001b[0my_train\u001b[0m\u001b[1;33m,\u001b[0m \u001b[0mbatch_size\u001b[0m\u001b[1;33m=\u001b[0m\u001b[0mself\u001b[0m\u001b[1;33m.\u001b[0m\u001b[0mbatch_size\u001b[0m\u001b[1;33m,\u001b[0m \u001b[0mepochs\u001b[0m\u001b[1;33m=\u001b[0m\u001b[0mself\u001b[0m\u001b[1;33m.\u001b[0m\u001b[0mepochs\u001b[0m\u001b[1;33m)\u001b[0m\u001b[1;33m\u001b[0m\u001b[1;33m\u001b[0m\u001b[0m\n\u001b[0m\u001b[0;32m    252\u001b[0m                 \u001b[0mself\u001b[0m\u001b[1;33m.\u001b[0m\u001b[0mpopulation\u001b[0m\u001b[1;33m.\u001b[0m\u001b[0mparticle\u001b[0m\u001b[1;33m[\u001b[0m\u001b[0mj\u001b[0m\u001b[1;33m]\u001b[0m\u001b[1;33m.\u001b[0m\u001b[0mmodel_delete\u001b[0m\u001b[1;33m(\u001b[0m\u001b[1;33m)\u001b[0m\u001b[1;33m\u001b[0m\u001b[1;33m\u001b[0m\u001b[0m\n\u001b[0;32m    253\u001b[0m \u001b[1;33m\u001b[0m\u001b[0m\n",
      "\u001b[1;32m~\\Desktop\\Study\\'21-'22 Sem 2\\ME F376 DOP - Multiclass image classification using POS + CNN\\particle.py\u001b[0m in \u001b[0;36mmodel_fit\u001b[1;34m(self, x_train, y_train, batch_size, epochs)\u001b[0m\n\u001b[0;32m    201\u001b[0m         \u001b[1;31m# TODO: add option to only use a sample size of the dataset\u001b[0m\u001b[1;33m\u001b[0m\u001b[1;33m\u001b[0m\u001b[0m\n\u001b[0;32m    202\u001b[0m \u001b[1;33m\u001b[0m\u001b[0m\n\u001b[1;32m--> 203\u001b[1;33m         \u001b[0mhist\u001b[0m \u001b[1;33m=\u001b[0m \u001b[0mself\u001b[0m\u001b[1;33m.\u001b[0m\u001b[0mmodel\u001b[0m\u001b[1;33m.\u001b[0m\u001b[0mfit\u001b[0m\u001b[1;33m(\u001b[0m\u001b[0mx\u001b[0m\u001b[1;33m=\u001b[0m\u001b[0mx_train\u001b[0m\u001b[1;33m,\u001b[0m \u001b[0my\u001b[0m\u001b[1;33m=\u001b[0m\u001b[0my_train\u001b[0m\u001b[1;33m,\u001b[0m \u001b[0mvalidation_split\u001b[0m\u001b[1;33m=\u001b[0m\u001b[1;36m0.0\u001b[0m\u001b[1;33m,\u001b[0m \u001b[0mbatch_size\u001b[0m\u001b[1;33m=\u001b[0m\u001b[0mbatch_size\u001b[0m\u001b[1;33m,\u001b[0m \u001b[0mepochs\u001b[0m\u001b[1;33m=\u001b[0m\u001b[0mepochs\u001b[0m\u001b[1;33m)\u001b[0m\u001b[1;33m\u001b[0m\u001b[1;33m\u001b[0m\u001b[0m\n\u001b[0m\u001b[0;32m    204\u001b[0m \u001b[1;33m\u001b[0m\u001b[0m\n\u001b[0;32m    205\u001b[0m         \u001b[1;32mreturn\u001b[0m \u001b[0mhist\u001b[0m\u001b[1;33m\u001b[0m\u001b[1;33m\u001b[0m\u001b[0m\n",
      "\u001b[1;32m~\\anaconda3\\lib\\site-packages\\keras\\utils\\traceback_utils.py\u001b[0m in \u001b[0;36merror_handler\u001b[1;34m(*args, **kwargs)\u001b[0m\n\u001b[0;32m     62\u001b[0m     \u001b[0mfiltered_tb\u001b[0m \u001b[1;33m=\u001b[0m \u001b[1;32mNone\u001b[0m\u001b[1;33m\u001b[0m\u001b[1;33m\u001b[0m\u001b[0m\n\u001b[0;32m     63\u001b[0m     \u001b[1;32mtry\u001b[0m\u001b[1;33m:\u001b[0m\u001b[1;33m\u001b[0m\u001b[1;33m\u001b[0m\u001b[0m\n\u001b[1;32m---> 64\u001b[1;33m       \u001b[1;32mreturn\u001b[0m \u001b[0mfn\u001b[0m\u001b[1;33m(\u001b[0m\u001b[1;33m*\u001b[0m\u001b[0margs\u001b[0m\u001b[1;33m,\u001b[0m \u001b[1;33m**\u001b[0m\u001b[0mkwargs\u001b[0m\u001b[1;33m)\u001b[0m\u001b[1;33m\u001b[0m\u001b[1;33m\u001b[0m\u001b[0m\n\u001b[0m\u001b[0;32m     65\u001b[0m     \u001b[1;32mexcept\u001b[0m \u001b[0mException\u001b[0m \u001b[1;32mas\u001b[0m \u001b[0me\u001b[0m\u001b[1;33m:\u001b[0m  \u001b[1;31m# pylint: disable=broad-except\u001b[0m\u001b[1;33m\u001b[0m\u001b[1;33m\u001b[0m\u001b[0m\n\u001b[0;32m     66\u001b[0m       \u001b[0mfiltered_tb\u001b[0m \u001b[1;33m=\u001b[0m \u001b[0m_process_traceback_frames\u001b[0m\u001b[1;33m(\u001b[0m\u001b[0me\u001b[0m\u001b[1;33m.\u001b[0m\u001b[0m__traceback__\u001b[0m\u001b[1;33m)\u001b[0m\u001b[1;33m\u001b[0m\u001b[1;33m\u001b[0m\u001b[0m\n",
      "\u001b[1;32m~\\anaconda3\\lib\\site-packages\\keras\\engine\\training.py\u001b[0m in \u001b[0;36mfit\u001b[1;34m(self, x, y, batch_size, epochs, verbose, callbacks, validation_split, validation_data, shuffle, class_weight, sample_weight, initial_epoch, steps_per_epoch, validation_steps, validation_batch_size, validation_freq, max_queue_size, workers, use_multiprocessing)\u001b[0m\n\u001b[0;32m   1382\u001b[0m                 _r=1):\n\u001b[0;32m   1383\u001b[0m               \u001b[0mcallbacks\u001b[0m\u001b[1;33m.\u001b[0m\u001b[0mon_train_batch_begin\u001b[0m\u001b[1;33m(\u001b[0m\u001b[0mstep\u001b[0m\u001b[1;33m)\u001b[0m\u001b[1;33m\u001b[0m\u001b[1;33m\u001b[0m\u001b[0m\n\u001b[1;32m-> 1384\u001b[1;33m               \u001b[0mtmp_logs\u001b[0m \u001b[1;33m=\u001b[0m \u001b[0mself\u001b[0m\u001b[1;33m.\u001b[0m\u001b[0mtrain_function\u001b[0m\u001b[1;33m(\u001b[0m\u001b[0miterator\u001b[0m\u001b[1;33m)\u001b[0m\u001b[1;33m\u001b[0m\u001b[1;33m\u001b[0m\u001b[0m\n\u001b[0m\u001b[0;32m   1385\u001b[0m               \u001b[1;32mif\u001b[0m \u001b[0mdata_handler\u001b[0m\u001b[1;33m.\u001b[0m\u001b[0mshould_sync\u001b[0m\u001b[1;33m:\u001b[0m\u001b[1;33m\u001b[0m\u001b[1;33m\u001b[0m\u001b[0m\n\u001b[0;32m   1386\u001b[0m                 \u001b[0mcontext\u001b[0m\u001b[1;33m.\u001b[0m\u001b[0masync_wait\u001b[0m\u001b[1;33m(\u001b[0m\u001b[1;33m)\u001b[0m\u001b[1;33m\u001b[0m\u001b[1;33m\u001b[0m\u001b[0m\n",
      "\u001b[1;32m~\\anaconda3\\lib\\site-packages\\tensorflow\\python\\util\\traceback_utils.py\u001b[0m in \u001b[0;36merror_handler\u001b[1;34m(*args, **kwargs)\u001b[0m\n\u001b[0;32m    148\u001b[0m     \u001b[0mfiltered_tb\u001b[0m \u001b[1;33m=\u001b[0m \u001b[1;32mNone\u001b[0m\u001b[1;33m\u001b[0m\u001b[1;33m\u001b[0m\u001b[0m\n\u001b[0;32m    149\u001b[0m     \u001b[1;32mtry\u001b[0m\u001b[1;33m:\u001b[0m\u001b[1;33m\u001b[0m\u001b[1;33m\u001b[0m\u001b[0m\n\u001b[1;32m--> 150\u001b[1;33m       \u001b[1;32mreturn\u001b[0m \u001b[0mfn\u001b[0m\u001b[1;33m(\u001b[0m\u001b[1;33m*\u001b[0m\u001b[0margs\u001b[0m\u001b[1;33m,\u001b[0m \u001b[1;33m**\u001b[0m\u001b[0mkwargs\u001b[0m\u001b[1;33m)\u001b[0m\u001b[1;33m\u001b[0m\u001b[1;33m\u001b[0m\u001b[0m\n\u001b[0m\u001b[0;32m    151\u001b[0m     \u001b[1;32mexcept\u001b[0m \u001b[0mException\u001b[0m \u001b[1;32mas\u001b[0m \u001b[0me\u001b[0m\u001b[1;33m:\u001b[0m\u001b[1;33m\u001b[0m\u001b[1;33m\u001b[0m\u001b[0m\n\u001b[0;32m    152\u001b[0m       \u001b[0mfiltered_tb\u001b[0m \u001b[1;33m=\u001b[0m \u001b[0m_process_traceback_frames\u001b[0m\u001b[1;33m(\u001b[0m\u001b[0me\u001b[0m\u001b[1;33m.\u001b[0m\u001b[0m__traceback__\u001b[0m\u001b[1;33m)\u001b[0m\u001b[1;33m\u001b[0m\u001b[1;33m\u001b[0m\u001b[0m\n",
      "\u001b[1;32m~\\anaconda3\\lib\\site-packages\\tensorflow\\python\\eager\\def_function.py\u001b[0m in \u001b[0;36m__call__\u001b[1;34m(self, *args, **kwds)\u001b[0m\n\u001b[0;32m    913\u001b[0m \u001b[1;33m\u001b[0m\u001b[0m\n\u001b[0;32m    914\u001b[0m       \u001b[1;32mwith\u001b[0m \u001b[0mOptionalXlaContext\u001b[0m\u001b[1;33m(\u001b[0m\u001b[0mself\u001b[0m\u001b[1;33m.\u001b[0m\u001b[0m_jit_compile\u001b[0m\u001b[1;33m)\u001b[0m\u001b[1;33m:\u001b[0m\u001b[1;33m\u001b[0m\u001b[1;33m\u001b[0m\u001b[0m\n\u001b[1;32m--> 915\u001b[1;33m         \u001b[0mresult\u001b[0m \u001b[1;33m=\u001b[0m \u001b[0mself\u001b[0m\u001b[1;33m.\u001b[0m\u001b[0m_call\u001b[0m\u001b[1;33m(\u001b[0m\u001b[1;33m*\u001b[0m\u001b[0margs\u001b[0m\u001b[1;33m,\u001b[0m \u001b[1;33m**\u001b[0m\u001b[0mkwds\u001b[0m\u001b[1;33m)\u001b[0m\u001b[1;33m\u001b[0m\u001b[1;33m\u001b[0m\u001b[0m\n\u001b[0m\u001b[0;32m    916\u001b[0m \u001b[1;33m\u001b[0m\u001b[0m\n\u001b[0;32m    917\u001b[0m       \u001b[0mnew_tracing_count\u001b[0m \u001b[1;33m=\u001b[0m \u001b[0mself\u001b[0m\u001b[1;33m.\u001b[0m\u001b[0mexperimental_get_tracing_count\u001b[0m\u001b[1;33m(\u001b[0m\u001b[1;33m)\u001b[0m\u001b[1;33m\u001b[0m\u001b[1;33m\u001b[0m\u001b[0m\n",
      "\u001b[1;32m~\\anaconda3\\lib\\site-packages\\tensorflow\\python\\eager\\def_function.py\u001b[0m in \u001b[0;36m_call\u001b[1;34m(self, *args, **kwds)\u001b[0m\n\u001b[0;32m    945\u001b[0m       \u001b[1;31m# In this case we have created variables on the first call, so we run the\u001b[0m\u001b[1;33m\u001b[0m\u001b[1;33m\u001b[0m\u001b[0m\n\u001b[0;32m    946\u001b[0m       \u001b[1;31m# defunned version which is guaranteed to never create variables.\u001b[0m\u001b[1;33m\u001b[0m\u001b[1;33m\u001b[0m\u001b[0m\n\u001b[1;32m--> 947\u001b[1;33m       \u001b[1;32mreturn\u001b[0m \u001b[0mself\u001b[0m\u001b[1;33m.\u001b[0m\u001b[0m_stateless_fn\u001b[0m\u001b[1;33m(\u001b[0m\u001b[1;33m*\u001b[0m\u001b[0margs\u001b[0m\u001b[1;33m,\u001b[0m \u001b[1;33m**\u001b[0m\u001b[0mkwds\u001b[0m\u001b[1;33m)\u001b[0m  \u001b[1;31m# pylint: disable=not-callable\u001b[0m\u001b[1;33m\u001b[0m\u001b[1;33m\u001b[0m\u001b[0m\n\u001b[0m\u001b[0;32m    948\u001b[0m     \u001b[1;32melif\u001b[0m \u001b[0mself\u001b[0m\u001b[1;33m.\u001b[0m\u001b[0m_stateful_fn\u001b[0m \u001b[1;32mis\u001b[0m \u001b[1;32mnot\u001b[0m \u001b[1;32mNone\u001b[0m\u001b[1;33m:\u001b[0m\u001b[1;33m\u001b[0m\u001b[1;33m\u001b[0m\u001b[0m\n\u001b[0;32m    949\u001b[0m       \u001b[1;31m# Release the lock early so that multiple threads can perform the call\u001b[0m\u001b[1;33m\u001b[0m\u001b[1;33m\u001b[0m\u001b[0m\n",
      "\u001b[1;32m~\\anaconda3\\lib\\site-packages\\tensorflow\\python\\eager\\function.py\u001b[0m in \u001b[0;36m__call__\u001b[1;34m(self, *args, **kwargs)\u001b[0m\n\u001b[0;32m   2954\u001b[0m       (graph_function,\n\u001b[0;32m   2955\u001b[0m        filtered_flat_args) = self._maybe_define_function(args, kwargs)\n\u001b[1;32m-> 2956\u001b[1;33m     return graph_function._call_flat(\n\u001b[0m\u001b[0;32m   2957\u001b[0m         filtered_flat_args, captured_inputs=graph_function.captured_inputs)  # pylint: disable=protected-access\n\u001b[0;32m   2958\u001b[0m \u001b[1;33m\u001b[0m\u001b[0m\n",
      "\u001b[1;32m~\\anaconda3\\lib\\site-packages\\tensorflow\\python\\eager\\function.py\u001b[0m in \u001b[0;36m_call_flat\u001b[1;34m(self, args, captured_inputs, cancellation_manager)\u001b[0m\n\u001b[0;32m   1851\u001b[0m         and executing_eagerly):\n\u001b[0;32m   1852\u001b[0m       \u001b[1;31m# No tape is watching; skip to running the function.\u001b[0m\u001b[1;33m\u001b[0m\u001b[1;33m\u001b[0m\u001b[0m\n\u001b[1;32m-> 1853\u001b[1;33m       return self._build_call_outputs(self._inference_function.call(\n\u001b[0m\u001b[0;32m   1854\u001b[0m           ctx, args, cancellation_manager=cancellation_manager))\n\u001b[0;32m   1855\u001b[0m     forward_backward = self._select_forward_and_backward_functions(\n",
      "\u001b[1;32m~\\anaconda3\\lib\\site-packages\\tensorflow\\python\\eager\\function.py\u001b[0m in \u001b[0;36mcall\u001b[1;34m(self, ctx, args, cancellation_manager)\u001b[0m\n\u001b[0;32m    497\u001b[0m       \u001b[1;32mwith\u001b[0m \u001b[0m_InterpolateFunctionError\u001b[0m\u001b[1;33m(\u001b[0m\u001b[0mself\u001b[0m\u001b[1;33m)\u001b[0m\u001b[1;33m:\u001b[0m\u001b[1;33m\u001b[0m\u001b[1;33m\u001b[0m\u001b[0m\n\u001b[0;32m    498\u001b[0m         \u001b[1;32mif\u001b[0m \u001b[0mcancellation_manager\u001b[0m \u001b[1;32mis\u001b[0m \u001b[1;32mNone\u001b[0m\u001b[1;33m:\u001b[0m\u001b[1;33m\u001b[0m\u001b[1;33m\u001b[0m\u001b[0m\n\u001b[1;32m--> 499\u001b[1;33m           outputs = execute.execute(\n\u001b[0m\u001b[0;32m    500\u001b[0m               \u001b[0mstr\u001b[0m\u001b[1;33m(\u001b[0m\u001b[0mself\u001b[0m\u001b[1;33m.\u001b[0m\u001b[0msignature\u001b[0m\u001b[1;33m.\u001b[0m\u001b[0mname\u001b[0m\u001b[1;33m)\u001b[0m\u001b[1;33m,\u001b[0m\u001b[1;33m\u001b[0m\u001b[1;33m\u001b[0m\u001b[0m\n\u001b[0;32m    501\u001b[0m               \u001b[0mnum_outputs\u001b[0m\u001b[1;33m=\u001b[0m\u001b[0mself\u001b[0m\u001b[1;33m.\u001b[0m\u001b[0m_num_outputs\u001b[0m\u001b[1;33m,\u001b[0m\u001b[1;33m\u001b[0m\u001b[1;33m\u001b[0m\u001b[0m\n",
      "\u001b[1;32m~\\anaconda3\\lib\\site-packages\\tensorflow\\python\\eager\\execute.py\u001b[0m in \u001b[0;36mquick_execute\u001b[1;34m(op_name, num_outputs, inputs, attrs, ctx, name)\u001b[0m\n\u001b[0;32m     52\u001b[0m   \u001b[1;32mtry\u001b[0m\u001b[1;33m:\u001b[0m\u001b[1;33m\u001b[0m\u001b[1;33m\u001b[0m\u001b[0m\n\u001b[0;32m     53\u001b[0m     \u001b[0mctx\u001b[0m\u001b[1;33m.\u001b[0m\u001b[0mensure_initialized\u001b[0m\u001b[1;33m(\u001b[0m\u001b[1;33m)\u001b[0m\u001b[1;33m\u001b[0m\u001b[1;33m\u001b[0m\u001b[0m\n\u001b[1;32m---> 54\u001b[1;33m     tensors = pywrap_tfe.TFE_Py_Execute(ctx._handle, device_name, op_name,\n\u001b[0m\u001b[0;32m     55\u001b[0m                                         inputs, attrs, num_outputs)\n\u001b[0;32m     56\u001b[0m   \u001b[1;32mexcept\u001b[0m \u001b[0mcore\u001b[0m\u001b[1;33m.\u001b[0m\u001b[0m_NotOkStatusException\u001b[0m \u001b[1;32mas\u001b[0m \u001b[0me\u001b[0m\u001b[1;33m:\u001b[0m\u001b[1;33m\u001b[0m\u001b[1;33m\u001b[0m\u001b[0m\n",
      "\u001b[1;31mKeyboardInterrupt\u001b[0m: "
     ]
    }
   ],
   "source": [
    "#### main ####\n",
    "import keras\n",
    "from psoCNN import psoCNN\n",
    "import numpy as np\n",
    "import time\n",
    "import keras.backend\n",
    "import tensorflow as tf\n",
    "import os\n",
    "import matplotlib\n",
    "import matplotlib.pyplot as plt\n",
    "from keras.utils import np_utils\n",
    "\n",
    "if __name__ == '__main__':\n",
    "    ######## Algorithm parameters ##################\n",
    "    \n",
    "    dataset = \"mnist\"\n",
    "    \n",
    "    number_runs = 5\n",
    "    number_iterations = 5\n",
    "    population_size = 10\n",
    "\n",
    "    batch_size_pso = 32\n",
    "    batch_size_full_training = 32\n",
    "    \n",
    "    epochs_pso = 1\n",
    "    epochs_full_training = 10\n",
    "    \n",
    "    max_conv_output_channels = 256\n",
    "    max_fully_connected_neurons = 300\n",
    "\n",
    "    min_layer = 3\n",
    "    max_layer = 20\n",
    "\n",
    "    # Probability of each layer type (should sum to 1)\n",
    "    probability_convolution = 0.6\n",
    "    probability_pooling = 0.3\n",
    "    probability_fully_connected = 0.1\n",
    "\n",
    "    max_conv_kernel_size = 7\n",
    "\n",
    "    Cg = 0.5\n",
    "    dropout = 0.5\n",
    "\n",
    "    ########### Run the algorithm ######################\n",
    "    results_path = \"./results/\" + dataset + \"/\"\n",
    "\n",
    "    if not os.path.exists(results_path):\n",
    "            os.makedirs(results_path)\n",
    "\n",
    "    all_gBest_metrics = np.zeros((number_runs, 2))\n",
    "    runs_time = []\n",
    "    all_gbest_par = []\n",
    "    best_gBest_acc = 0\n",
    "\n",
    "    for i in range(number_runs):\n",
    "        print(\"Run number: \" + str(i))\n",
    "        start_time = time.time()\n",
    "        pso = psoCNN(dataset=dataset, n_iter=number_iterations, pop_size=population_size,\n",
    "                     batch_size=batch_size_pso, epochs=epochs_pso, min_layer=min_layer, max_layer=max_layer,\n",
    "                     conv_prob=probability_convolution, pool_prob=probability_pooling,\n",
    "                     fc_prob=probability_fully_connected, max_conv_kernel=max_conv_kernel_size,\n",
    "                     max_out_ch=max_conv_output_channels, max_fc_neurons=max_fully_connected_neurons,\n",
    "                     dropout_rate=dropout)\n",
    "\n",
    "        pso.fit(Cg=Cg, dropout_rate=dropout)\n",
    "\n",
    "        print(pso.gBest_acc)\n",
    "\n",
    "        # Plot current gBest\n",
    "        matplotlib.use('Agg')\n",
    "        plt.plot(pso.gBest_acc)\n",
    "        plt.xlabel(\"Iteration\")\n",
    "        plt.ylabel(\"gBest acc\")\n",
    "        plt.savefig(results_path + \"gBest-iter-\" + str(i) + \".png\")\n",
    "        plt.close()\n",
    "\n",
    "        print('gBest architecture: ')\n",
    "        print(pso.gBest)\n",
    "    \n",
    "        np.save(results_path + \"gBest_inter_\" + str(i) + \"_acc_history.npy\", pso.gBest_acc)\n",
    "\n",
    "        np.save(results_path + \"gBest_iter_\" + str(i) + \"_test_acc_history.npy\", pso.gBest_test_acc)\n",
    "\n",
    "        end_time = time.time()\n",
    "\n",
    "        running_time = end_time - start_time\n",
    "\n",
    "        runs_time.append(running_time)\n",
    "\n",
    "        # Fully train the gBest model found\n",
    "        n_parameters = pso.fit_gBest(batch_size=batch_size_full_training, epochs=epochs_full_training, dropout_rate=dropout)\n",
    "        all_gbest_par.append(n_parameters)\n",
    "\n",
    "        # Evaluate the fully trained gBest model\n",
    "        gBest_metrics = pso.evaluate_gBest(batch_size=batch_size_full_training)\n",
    "\n",
    "        if gBest_metrics[1] >= best_gBest_acc:\n",
    "            best_gBest_acc = gBest_metrics[1]\n",
    "\n",
    "            # Save best gBest model\n",
    "            best_gBest_yaml = pso.gBest.model.to_yaml()\n",
    "\n",
    "            with open(results_path + \"best-gBest-model.yaml\", \"w\") as yaml_file:\n",
    "                yaml_file.write(best_gBest_yaml)\n",
    "            \n",
    "            # Save best gBest model weights to HDF5 file\n",
    "            pso.gBest.model.save_weights(results_path + \"best-gBest-weights.h5\")\n",
    "\n",
    "        all_gBest_metrics[i, 0] = gBest_metrics[0]\n",
    "        all_gBest_metrics[i, 1] = gBest_metrics[1]\n",
    "\n",
    "        print(\"This run took: \" + str(running_time) + \" seconds.\")\n",
    "\n",
    "         # Compute mean accuracy of all runs\n",
    "        all_gBest_mean_metrics = np.mean(all_gBest_metrics, axis=0)\n",
    "\n",
    "        np.save(results_path + \"/time_to_run.npy\", runs_time)\n",
    "\n",
    "        # Save all gBest metrics\n",
    "        np.save(results_path + \"/all_gBest_metrics.npy\", all_gBest_metrics)\n",
    "\n",
    "        # Save results in a text file\n",
    "        output_str = \"All gBest number of parameters: \" + str(all_gbest_par) + \"\\n\"\n",
    "        output_str = output_str + \"All gBest test accuracies: \" + str(all_gBest_metrics[:,1]) + \"\\n\"\n",
    "        output_str = output_str + \"All running times: \" + str(runs_time) + \"\\n\"\n",
    "        output_str = output_str + \"Mean loss of all runs: \" + str(all_gBest_mean_metrics[0]) + \"\\n\"\n",
    "        output_str = output_str + \"Mean accuracy of all runs: \" + str(all_gBest_mean_metrics[1]) + \"\\n\"\n",
    "\n",
    "        print(output_str)\n",
    "\n",
    "        with open(results_path + \"/final_results.txt\", \"w\") as f:\n",
    "            try:\n",
    "                print(output_str, file=f)\n",
    "            except SyntaxError:\n",
    "                print >> f, output_str\n"
   ]
  },
  {
   "cell_type": "code",
   "execution_count": 23,
   "id": "df0398e9",
   "metadata": {},
   "outputs": [
    {
     "name": "stdout",
     "output_type": "stream",
     "text": [
      "2.8.0\n"
     ]
    }
   ],
   "source": [
    "print(tf. __version__)"
   ]
  },
  {
   "cell_type": "code",
   "execution_count": 25,
   "id": "72fbdcbf",
   "metadata": {},
   "outputs": [
    {
     "name": "stdout",
     "output_type": "stream",
     "text": [
      "2.8.0\n"
     ]
    }
   ],
   "source": [
    "print(keras.__version__)"
   ]
  },
  {
   "cell_type": "code",
   "execution_count": 28,
   "id": "b2c39428",
   "metadata": {},
   "outputs": [
    {
     "name": "stdout",
     "output_type": "stream",
     "text": [
      "Collecting keras.utils\n",
      "  Downloading keras-utils-1.0.13.tar.gz (2.4 kB)\n",
      "Requirement already satisfied: Keras>=2.1.5 in c:\\users\\siddh\\anaconda3\\lib\\site-packages (from keras.utils) (2.8.0)\n",
      "Building wheels for collected packages: keras.utils\n",
      "  Building wheel for keras.utils (setup.py): started\n",
      "  Building wheel for keras.utils (setup.py): finished with status 'done'\n",
      "  Created wheel for keras.utils: filename=keras_utils-1.0.13-py3-none-any.whl size=2656 sha256=4fbc90ad55a1bd943810b8e57e3c20d7171aa4964ea3ba64d27607b14ac75fea\n",
      "  Stored in directory: c:\\users\\siddh\\appdata\\local\\pip\\cache\\wheels\\fd\\b9\\6e\\25d4c3a3c0319873aeeab6592c5b4bb9e2af0fec21a0b5188c\n",
      "Successfully built keras.utils\n",
      "Installing collected packages: keras.utils\n",
      "Successfully installed keras.utils-1.0.13\n",
      "Note: you may need to restart the kernel to use updated packages.\n"
     ]
    }
   ],
   "source": [
    "pip install keras.utils"
   ]
  },
  {
   "cell_type": "code",
   "execution_count": 7,
   "id": "78538806",
   "metadata": {},
   "outputs": [],
   "source": [
    "from utils import *\n",
    "\n",
    "\n",
    "def generate_initial(generation_size, num_features):\n",
    "    generation = []\n",
    "    neurons_copy = [num_features] + neurons\n",
    "    num_w = 0\n",
    "    for i in range(1, len(neurons_copy)):\n",
    "        num_w += neurons_copy[i-1] * neurons_copy[i]\n",
    "\n",
    "    for _ in range(generation_size):\n",
    "        generation.append(np.random.uniform(low=-LIMIT, high=LIMIT, size=(num_w,)))\n",
    "\n",
    "    return np.array(generation)\n",
    "\n",
    "\n",
    "def criterion(y_pred, y_true):\n",
    "    return 1 - (y_pred == y_true).mean(axis=0, keepdims=True).T\n",
    "\n",
    "\n",
    "def limit(swarm):\n",
    "    np.clip(swarm, -LIMIT, LIMIT, out=swarm)\n",
    "\n",
    "\n",
    "def get_best(swarm, f):\n",
    "    best = f.min()\n",
    "    arg = np.argmin(f)\n",
    "    return best, swarm[arg]\n",
    "\n",
    "\n",
    "def get_vn(SWARM_SIZE, gbest, p_best, vn_1, xn_1):\n",
    "    w = 0.8\n",
    "    c1, c2 = 1.494, 1.494\n",
    "    vmax = 0.2\n",
    "\n",
    "    rand1 = np.random.rand(SWARM_SIZE, 1)\n",
    "    rand2 = np.random.rand(SWARM_SIZE, 1)\n",
    "\n",
    "    vn = w * vn_1 + c1 * rand1 * (p_best-xn_1) + c2 * rand2 * (gbest - xn_1)\n",
    "    np.clip(vn, -vmax, vmax, out=vn)\n",
    "\n",
    "    return vn\n",
    "\n",
    "\n",
    "def pso(x, swarm, y_true, threshold, MAX_GEN):\n",
    "    SWARM_SIZE = len(swarm)\n",
    "    deltaT = 1.0\n",
    "\n",
    "    # Globally best solution\n",
    "    gbest = float('inf')\n",
    "    gbest_coord = None\n",
    "    gbest_vec = np.zeros((1, MAX_GEN))\n",
    "\n",
    "    # Personal best of each member of the swarm\n",
    "    y_pred = forward(x, swarm, threshold)\n",
    "    pbest = criterion(y_pred, y_true)\n",
    "    pbest_coord = swarm.copy()\n",
    "    pbest_vec = np.zeros((SWARM_SIZE, MAX_GEN))\n",
    "\n",
    "    v_n = np.random.uniform(low=-LIMIT, high=LIMIT, size=(SWARM_SIZE, 1))\n",
    "\n",
    "    for gen in range(MAX_GEN):\n",
    "        y_pred = forward(x, swarm, threshold)\n",
    "        f = criterion(y_pred, y_true)\n",
    "\n",
    "        gbest_curr, best_curr = get_best(swarm, f)\n",
    "\n",
    "        if gbest_curr < gbest:\n",
    "            gbest = gbest_curr\n",
    "            gbest_coord = best_curr\n",
    "\n",
    "        for i, sol in enumerate(f):\n",
    "            if sol < pbest[i, 0]:\n",
    "                pbest[i, 0] = sol\n",
    "                pbest_coord[i] = swarm[i]\n",
    "\n",
    "        v_n = get_vn(SWARM_SIZE, gbest_coord, pbest_coord, v_n, swarm)\n",
    "        swarm = swarm + v_n * deltaT\n",
    "        limit(swarm)\n",
    "\n",
    "        gbest_vec[0, gen] = gbest\n",
    "        pbest_vec[:, gen] = pbest[:, 0].copy()\n",
    "\n",
    "    y_pred = forward(x, swarm, threshold)\n",
    "    f = criterion(y_pred, y_true)\n",
    "    gbest_curr, best_curr = get_best(swarm, f)\n",
    "\n",
    "    if gbest_curr > gbest:\n",
    "        gbest = gbest_curr\n",
    "        gbest_coord = best_curr\n",
    "\n",
    "    return gbest, gbest_coord, gbest_vec, pbest_vec\n"
   ]
  },
  {
   "cell_type": "code",
   "execution_count": 3,
   "id": "8717c292",
   "metadata": {},
   "outputs": [
    {
     "ename": "ModuleNotFoundError",
     "evalue": "No module named 'particle_swarm'",
     "output_type": "error",
     "traceback": [
      "\u001b[1;31m---------------------------------------------------------------------------\u001b[0m",
      "\u001b[1;31mModuleNotFoundError\u001b[0m                       Traceback (most recent call last)",
      "\u001b[1;32m~\\AppData\\Local\\Temp/ipykernel_2952/3600828745.py\u001b[0m in \u001b[0;36m<module>\u001b[1;34m\u001b[0m\n\u001b[0;32m      3\u001b[0m \u001b[1;32mfrom\u001b[0m \u001b[0msklearn\u001b[0m\u001b[1;33m.\u001b[0m\u001b[0mmodel_selection\u001b[0m \u001b[1;32mimport\u001b[0m \u001b[0mtrain_test_split\u001b[0m\u001b[1;33m\u001b[0m\u001b[1;33m\u001b[0m\u001b[0m\n\u001b[0;32m      4\u001b[0m \u001b[1;33m\u001b[0m\u001b[0m\n\u001b[1;32m----> 5\u001b[1;33m \u001b[1;32mfrom\u001b[0m \u001b[0mparticle_swarm\u001b[0m \u001b[1;32mimport\u001b[0m \u001b[1;33m*\u001b[0m\u001b[1;33m\u001b[0m\u001b[1;33m\u001b[0m\u001b[0m\n\u001b[0m\u001b[0;32m      6\u001b[0m \u001b[1;33m\u001b[0m\u001b[0m\n\u001b[0;32m      7\u001b[0m \u001b[1;33m\u001b[0m\u001b[0m\n",
      "\u001b[1;31mModuleNotFoundError\u001b[0m: No module named 'particle_swarm'"
     ]
    }
   ],
   "source": [
    "import time\n",
    "import matplotlib.pyplot as plt\n",
    "from sklearn.model_selection import train_test_split\n",
    "\n",
    "from particle_swarm import *\n",
    "\n",
    "\n",
    "NUM_RUNS = 20\n",
    "SWARM_SIZE = 100\n",
    "MAX_GEN = 50\n",
    "\n",
    "if __name__ == \"__main__\":\n",
    "\n",
    "    features, labels = load_dataset('data_banknote_authentication.txt')\n",
    "    train_x, test_x, train_y, test_y = train_test_split(features, labels,\n",
    "                                                        test_size=0.2,\n",
    "                                                        stratify=labels)\n",
    "    # The treshold used for the final prediction\n",
    "    threshold = 1 - train_y.mean()\n",
    "\n",
    "    acum_train = []\n",
    "    acum_test = []\n",
    "    acum_wbest = []\n",
    "\n",
    "    acum_gbest_vec = np.zeros((NUM_RUNS, MAX_GEN))\n",
    "    acum_pbest_vec = []\n",
    "\n",
    "    t1 = time.time()\n",
    "    for i in range(NUM_RUNS):\n",
    "        print(\"Run:\", i)\n",
    "        swarm = generate_initial(SWARM_SIZE, train_x.shape[1])\n",
    "        gbest, wbest, gbest_vec, pbest_vec = pso(train_x, swarm, train_y, threshold, MAX_GEN)\n",
    "        acum_train.append(gbest*100)\n",
    "        acum_wbest.append(wbest)\n",
    "        acum_gbest_vec[i] = gbest_vec*100\n",
    "        acum_pbest_vec.append(pbest_vec)\n",
    "\n",
    "        y_pred = forward(test_x, wbest, threshold)\n",
    "        acum_test.append(criterion(y_pred, test_y)[0, 0]*100)\n",
    "\n",
    "    print(f\"Execution time: {time.time()-t1:.1f} seconds\")\n",
    "    print(f\"Mean train error: {np.mean(acum_train):.5f}%  |  Standard deviation: {np.std(acum_train):.5f}\")\n",
    "    print(f\"Mean test error:  {np.mean(acum_test):.5f}%   |  Standard deviation: {np.std(acum_test):.5f}\")\n",
    "\n",
    "    plt.figure(figsize=(8, 5))\n",
    "    for i in range(NUM_RUNS):\n",
    "        plt.plot(range(1, MAX_GEN+1), acum_gbest_vec[i, :], label=f\"Run: {i+1}\")\n",
    "\n",
    "    plt.title('Globally best error')\n",
    "    plt.xlabel('Generation')\n",
    "    plt.ylabel('Error[%]')\n",
    "    plt.show()\n",
    "\n",
    "    plt.figure(figsize=(8, 5))\n",
    "    plt.plot(range(1, NUM_RUNS+1), acum_train)\n",
    "    plt.title('Globally best error: Independent runs')\n",
    "    plt.xlabel('Run')\n",
    "    plt.ylabel('Error [%]')\n",
    "    plt.show()\n",
    "\n",
    "    plt.figure(figsize=(8, 5))\n",
    "    plt.plot(range(1, MAX_GEN+1), acum_gbest_vec.mean(axis=0))\n",
    "    plt.title('Average globally best error across runs')\n",
    "    plt.xlabel('Generation')\n",
    "    plt.ylabel('Error [%]')\n",
    "    plt.show()\n",
    "\n",
    "    best_ind = np.argmin(acum_train)\n",
    "    wbest = acum_wbest[best_ind]\n",
    "    y_pred = forward(test_x, wbest, threshold)\n",
    "\n",
    "    print(f\"\\nTrain acc: {100-acum_train[best_ind]:3.3f}%\")\n",
    "    print(f\"Test acc: {((1-criterion(y_pred, test_y))[0,0]*100):3.3f}%\")\n"
   ]
  },
  {
   "cell_type": "code",
   "execution_count": 9,
   "id": "465508fc",
   "metadata": {},
   "outputs": [
    {
     "name": "stdout",
     "output_type": "stream",
     "text": [
      "Note: you may need to restart the kernel to use updated packages.\n"
     ]
    },
    {
     "name": "stderr",
     "output_type": "stream",
     "text": [
      "ERROR: Could not find a version that satisfies the requirement particle_swarm (from versions: none)\n",
      "ERROR: No matching distribution found for particle_swarm\n"
     ]
    }
   ],
   "source": [
    "pip install particle_swarm"
   ]
  },
  {
   "cell_type": "markdown",
   "id": "8eea2f92",
   "metadata": {},
   "source": [
    "<h2>Testing Other Optimization Algortihms<h2>"
   ]
  },
  {
   "cell_type": "code",
   "execution_count": 1,
   "id": "1c56fec0",
   "metadata": {},
   "outputs": [],
   "source": [
    "import shutil\n",
    "import os\n",
    "import numpy as np\n",
    "import argparse\n",
    "import tensorflow as tf\n",
    "from keras.preprocessing.image import ImageDataGenerator\n",
    "import numpy as np"
   ]
  },
  {
   "cell_type": "code",
   "execution_count": 2,
   "id": "126c36a8",
   "metadata": {},
   "outputs": [],
   "source": [
    "def get_files_from_folder(path):\n",
    "\n",
    "    files = os.listdir(path)\n",
    "    return np.asarray(files)\n",
    "\n",
    "def main(path_to_data, path_to_test_data, train_ratio):\n",
    "    # get dirs\n",
    "    _, dirs, _ = next(os.walk(path_to_data))\n",
    "\n",
    "    # calculates how many train data per class\n",
    "    data_counter_per_class = np.zeros((len(dirs)))\n",
    "    for i in range(len(dirs)):\n",
    "        path = os.path.join(path_to_data, dirs[i])\n",
    "        files = get_files_from_folder('Data')\n",
    "        data_counter_per_class[i] = len(files)\n",
    "    test_counter = np.round(data_counter_per_class * (1 - train_ratio))\n",
    "\n",
    "    # transfers files\n",
    "    for i in range(len(dirs)):\n",
    "        path_to_original = os.path.join(path_to_data, dirs[i])\n",
    "        path_to_save = os.path.join(path_to_test_data, dirs[i])\n",
    "\n",
    "        #creates dir\n",
    "        if not os.path.exists(path_to_save):\n",
    "            os.makedirs(path_to_save)\n",
    "        files = get_files_from_folder(path_to_original)\n",
    "        # moves data\n",
    "        for j in range(int(test_counter[i])):\n",
    "            dst = os.path.join(path_to_save, files[j])\n",
    "            src = os.path.join(path_to_original, files[j])\n",
    "            shutil.move(src, dst)\n",
    "\n",
    "\n",
    "main('Data/', 'test_data', 0.7)"
   ]
  },
  {
   "cell_type": "markdown",
   "id": "fdf989ba",
   "metadata": {},
   "source": [
    "<h3>Adam Optimizer<h3>"
   ]
  },
  {
   "cell_type": "code",
   "execution_count": 2,
   "id": "dc472a09",
   "metadata": {},
   "outputs": [
    {
     "name": "stdout",
     "output_type": "stream",
     "text": [
      "Found 11786 images belonging to 27 classes.\n",
      "Found 216 images belonging to 27 classes.\n",
      "Epoch 1/3\n",
      "369/369 [==============================] - 70s 188ms/step - loss: 2.1196 - accuracy: 0.3630 - val_loss: 1.8670 - val_accuracy: 0.3796\n",
      "Epoch 2/3\n",
      "369/369 [==============================] - 62s 169ms/step - loss: 1.0223 - accuracy: 0.6644 - val_loss: 1.3538 - val_accuracy: 0.5231\n",
      "Epoch 3/3\n",
      "369/369 [==============================] - 61s 166ms/step - loss: 0.6087 - accuracy: 0.7942 - val_loss: 0.8487 - val_accuracy: 0.6944\n"
     ]
    },
    {
     "data": {
      "text/plain": [
       "<keras.callbacks.History at 0x1dc98215c70>"
      ]
     },
     "execution_count": 2,
     "metadata": {},
     "output_type": "execute_result"
    }
   ],
   "source": [
    "# loading training data\n",
    "train_datagen = ImageDataGenerator(\n",
    "        rescale=1./255,\n",
    "        shear_range=0.2,\n",
    "        horizontal_flip=True)\n",
    "train_generator = train_datagen.flow_from_directory(\n",
    "        'Data/train_data',\n",
    "        target_size=(64, 64),\n",
    "        batch_size=32,\n",
    "        class_mode='categorical')\n",
    "\n",
    "# loading testing data\n",
    "test_datagen = ImageDataGenerator(rescale=1./255)\n",
    "test_generator = train_datagen.flow_from_directory(\n",
    "        'Data/test_data',\n",
    "        target_size=(64, 64),\n",
    "        batch_size=32,\n",
    "        class_mode='categorical')\n",
    "\n",
    "# making a sequential model and adding layers to it\n",
    "cnn = tf.keras.models.Sequential()\n",
    "cnn.add(tf.keras.layers.Conv2D(filters=48, kernel_size=3, activation='relu', input_shape=[64, 64, 3]))\n",
    "cnn.add(tf.keras.layers.MaxPool2D(pool_size=2, strides=2))\n",
    "cnn.add(tf.keras.layers.Conv2D(filters=48, kernel_size=3, activation='relu'))\n",
    "cnn.add(tf.keras.layers.MaxPool2D(pool_size=2, strides=2))\n",
    "cnn.add(tf.keras.layers.Conv2D(filters=32, kernel_size=3, activation='relu'))\n",
    "cnn.add(tf.keras.layers.MaxPool2D(pool_size=2, strides=2))\n",
    "cnn.add(tf.keras.layers.Flatten())\n",
    "cnn.add(tf.keras.layers.Dense(128, activation='relu'))\n",
    "cnn.add(tf.keras.layers.Dense(64, activation='relu'))\n",
    "cnn.add(tf.keras.layers.Dense(27, activation='softmax'))\n",
    "\n",
    "# compiling and training the cnn\n",
    "cnn.compile(optimizer=\"adam\", loss=\"categorical_crossentropy\", metrics=[\"accuracy\"])\n",
    "cnn.fit(x=train_generator, validation_data=test_generator, epochs=3)"
   ]
  },
  {
   "cell_type": "markdown",
   "id": "c246bc3b",
   "metadata": {},
   "source": [
    "<h3>Stochastic Gradient Descent (SGD)<h3>"
   ]
  },
  {
   "cell_type": "code",
   "execution_count": 11,
   "id": "53c09513",
   "metadata": {},
   "outputs": [
    {
     "name": "stdout",
     "output_type": "stream",
     "text": [
      "Found 11786 images belonging to 27 classes.\n",
      "Found 216 images belonging to 27 classes.\n",
      "Epoch 1/3\n",
      "369/369 [==============================] - 58s 156ms/step - loss: 3.1575 - accuracy: 0.1134 - val_loss: 3.3738 - val_accuracy: 0.1111\n",
      "Epoch 2/3\n",
      "369/369 [==============================] - 58s 157ms/step - loss: 2.8555 - accuracy: 0.1953 - val_loss: 3.0879 - val_accuracy: 0.1528\n",
      "Epoch 3/3\n",
      "369/369 [==============================] - 58s 156ms/step - loss: 2.3100 - accuracy: 0.3142 - val_loss: 2.6648 - val_accuracy: 0.1667\n"
     ]
    },
    {
     "data": {
      "text/plain": [
       "<keras.callbacks.History at 0x2878455fdf0>"
      ]
     },
     "execution_count": 11,
     "metadata": {},
     "output_type": "execute_result"
    }
   ],
   "source": [
    "# loading training data\n",
    "train_datagen = ImageDataGenerator(\n",
    "        rescale=1./255,\n",
    "        shear_range=0.2,\n",
    "        horizontal_flip=True)\n",
    "train_generator = train_datagen.flow_from_directory(\n",
    "        'Data/train_data',\n",
    "        target_size=(64, 64),\n",
    "        batch_size=32,\n",
    "        class_mode='categorical')\n",
    "\n",
    "# loading testing data\n",
    "test_datagen = ImageDataGenerator(rescale=1./255)\n",
    "test_generator = train_datagen.flow_from_directory(\n",
    "        'Data/test_data',\n",
    "        target_size=(64, 64),\n",
    "        batch_size=32,\n",
    "        class_mode='categorical')\n",
    "\n",
    "# making a sequential model and adding layers to it\n",
    "cnn = tf.keras.models.Sequential()\n",
    "cnn.add(tf.keras.layers.Conv2D(filters=48, kernel_size=3, activation='relu', input_shape=[64, 64, 3]))\n",
    "cnn.add(tf.keras.layers.MaxPool2D(pool_size=2, strides=2))\n",
    "cnn.add(tf.keras.layers.Conv2D(filters=48, kernel_size=3, activation='relu'))\n",
    "cnn.add(tf.keras.layers.MaxPool2D(pool_size=2, strides=2))\n",
    "cnn.add(tf.keras.layers.Conv2D(filters=32, kernel_size=3, activation='relu'))\n",
    "cnn.add(tf.keras.layers.MaxPool2D(pool_size=2, strides=2))\n",
    "cnn.add(tf.keras.layers.Flatten())\n",
    "cnn.add(tf.keras.layers.Dense(128, activation='relu'))\n",
    "cnn.add(tf.keras.layers.Dense(64, activation='relu'))\n",
    "cnn.add(tf.keras.layers.Dense(27, activation='softmax'))\n",
    "\n",
    "# compiling and training the cnn\n",
    "cnn.compile(optimizer=\"SGD\", loss=\"categorical_crossentropy\", metrics=[\"accuracy\"])\n",
    "cnn.fit(x=train_generator, validation_data=test_generator, epochs=3)"
   ]
  },
  {
   "cell_type": "markdown",
   "id": "621507b5",
   "metadata": {},
   "source": [
    "<h3>AdaGrad<h3>"
   ]
  },
  {
   "cell_type": "code",
   "execution_count": 12,
   "id": "5b221e92",
   "metadata": {},
   "outputs": [
    {
     "name": "stdout",
     "output_type": "stream",
     "text": [
      "Found 11786 images belonging to 27 classes.\n",
      "Found 216 images belonging to 27 classes.\n",
      "Epoch 1/3\n",
      "369/369 [==============================] - 57s 155ms/step - loss: 3.2429 - accuracy: 0.0668 - val_loss: 3.3548 - val_accuracy: 0.0370\n",
      "Epoch 2/3\n",
      "369/369 [==============================] - 57s 155ms/step - loss: 3.1695 - accuracy: 0.0703 - val_loss: 3.4135 - val_accuracy: 0.0602\n",
      "Epoch 3/3\n",
      "369/369 [==============================] - 57s 156ms/step - loss: 3.1271 - accuracy: 0.1089 - val_loss: 3.4165 - val_accuracy: 0.0880\n"
     ]
    },
    {
     "data": {
      "text/plain": [
       "<keras.callbacks.History at 0x287849c5af0>"
      ]
     },
     "execution_count": 12,
     "metadata": {},
     "output_type": "execute_result"
    }
   ],
   "source": [
    "# loading training data\n",
    "train_datagen = ImageDataGenerator(\n",
    "        rescale=1./255,\n",
    "        shear_range=0.2,\n",
    "        horizontal_flip=True)\n",
    "train_generator = train_datagen.flow_from_directory(\n",
    "        'Data/train_data',\n",
    "        target_size=(64, 64),\n",
    "        batch_size=32,\n",
    "        class_mode='categorical')\n",
    "\n",
    "# loading testing data\n",
    "test_datagen = ImageDataGenerator(rescale=1./255)\n",
    "test_generator = train_datagen.flow_from_directory(\n",
    "        'Data/test_data',\n",
    "        target_size=(64, 64),\n",
    "        batch_size=32,\n",
    "        class_mode='categorical')\n",
    "\n",
    "# making a sequential model and adding layers to it\n",
    "cnn = tf.keras.models.Sequential()\n",
    "cnn.add(tf.keras.layers.Conv2D(filters=48, kernel_size=3, activation='relu', input_shape=[64, 64, 3]))\n",
    "cnn.add(tf.keras.layers.MaxPool2D(pool_size=2, strides=2))\n",
    "cnn.add(tf.keras.layers.Conv2D(filters=48, kernel_size=3, activation='relu'))\n",
    "cnn.add(tf.keras.layers.MaxPool2D(pool_size=2, strides=2))\n",
    "cnn.add(tf.keras.layers.Conv2D(filters=32, kernel_size=3, activation='relu'))\n",
    "cnn.add(tf.keras.layers.MaxPool2D(pool_size=2, strides=2))\n",
    "cnn.add(tf.keras.layers.Flatten())\n",
    "cnn.add(tf.keras.layers.Dense(128, activation='relu'))\n",
    "cnn.add(tf.keras.layers.Dense(64, activation='relu'))\n",
    "cnn.add(tf.keras.layers.Dense(27, activation='softmax'))\n",
    "\n",
    "# compiling and training the cnn\n",
    "cnn.compile(optimizer=\"Adagrad\", loss=\"categorical_crossentropy\", metrics=[\"accuracy\"])\n",
    "cnn.fit(x=train_generator, validation_data=test_generator, epochs=3)"
   ]
  },
  {
   "cell_type": "markdown",
   "id": "18c37cba",
   "metadata": {},
   "source": [
    "<h3>RMS Prop<h3>"
   ]
  },
  {
   "cell_type": "code",
   "execution_count": 13,
   "id": "b2432658",
   "metadata": {
    "scrolled": false
   },
   "outputs": [
    {
     "name": "stdout",
     "output_type": "stream",
     "text": [
      "Found 11786 images belonging to 27 classes.\n",
      "Found 216 images belonging to 27 classes.\n",
      "Epoch 1/3\n",
      "369/369 [==============================] - 58s 156ms/step - loss: 2.2784 - accuracy: 0.3340 - val_loss: 1.9093 - val_accuracy: 0.3935\n",
      "Epoch 2/3\n",
      "369/369 [==============================] - 58s 156ms/step - loss: 0.9570 - accuracy: 0.6981 - val_loss: 1.6008 - val_accuracy: 0.4815\n",
      "Epoch 3/3\n",
      "369/369 [==============================] - 57s 155ms/step - loss: 0.4887 - accuracy: 0.8457 - val_loss: 0.7892 - val_accuracy: 0.7454\n"
     ]
    },
    {
     "data": {
      "text/plain": [
       "<keras.callbacks.History at 0x28784c6f040>"
      ]
     },
     "execution_count": 13,
     "metadata": {},
     "output_type": "execute_result"
    }
   ],
   "source": [
    "# loading training data\n",
    "train_datagen = ImageDataGenerator(\n",
    "        rescale=1./255,\n",
    "        shear_range=0.2,\n",
    "        horizontal_flip=True)\n",
    "train_generator = train_datagen.flow_from_directory(\n",
    "        'Data/train_data',\n",
    "        target_size=(64, 64),\n",
    "        batch_size=32,\n",
    "        class_mode='categorical')\n",
    "\n",
    "# loading testing data\n",
    "test_datagen = ImageDataGenerator(rescale=1./255)\n",
    "test_generator = train_datagen.flow_from_directory(\n",
    "        'Data/test_data',\n",
    "        target_size=(64, 64),\n",
    "        batch_size=32,\n",
    "        class_mode='categorical')\n",
    "\n",
    "# making a sequential model and adding layers to it\n",
    "cnn = tf.keras.models.Sequential()\n",
    "cnn.add(tf.keras.layers.Conv2D(filters=48, kernel_size=3, activation='relu', input_shape=[64, 64, 3]))\n",
    "cnn.add(tf.keras.layers.MaxPool2D(pool_size=2, strides=2))\n",
    "cnn.add(tf.keras.layers.Conv2D(filters=48, kernel_size=3, activation='relu'))\n",
    "cnn.add(tf.keras.layers.MaxPool2D(pool_size=2, strides=2))\n",
    "cnn.add(tf.keras.layers.Conv2D(filters=32, kernel_size=3, activation='relu'))\n",
    "cnn.add(tf.keras.layers.MaxPool2D(pool_size=2, strides=2))\n",
    "cnn.add(tf.keras.layers.Flatten())\n",
    "cnn.add(tf.keras.layers.Dense(128, activation='relu'))\n",
    "cnn.add(tf.keras.layers.Dense(64, activation='relu'))\n",
    "cnn.add(tf.keras.layers.Dense(27, activation='softmax'))\n",
    "\n",
    "# compiling and training the cnn\n",
    "cnn.compile(optimizer=\"RMSprop\", loss=\"categorical_crossentropy\", metrics=[\"accuracy\"])\n",
    "cnn.fit(x=train_generator, validation_data=test_generator, epochs=3)"
   ]
  },
  {
   "cell_type": "code",
   "execution_count": 14,
   "id": "5d03f05b",
   "metadata": {
    "scrolled": true
   },
   "outputs": [
    {
     "name": "stdout",
     "output_type": "stream",
     "text": [
      "Model: \"sequential_9\"\n",
      "_________________________________________________________________\n",
      " Layer (type)                Output Shape              Param #   \n",
      "=================================================================\n",
      " conv2d_27 (Conv2D)          (None, 62, 62, 48)        1344      \n",
      "                                                                 \n",
      " max_pooling2d_27 (MaxPoolin  (None, 31, 31, 48)       0         \n",
      " g2D)                                                            \n",
      "                                                                 \n",
      " conv2d_28 (Conv2D)          (None, 29, 29, 48)        20784     \n",
      "                                                                 \n",
      " max_pooling2d_28 (MaxPoolin  (None, 14, 14, 48)       0         \n",
      " g2D)                                                            \n",
      "                                                                 \n",
      " conv2d_29 (Conv2D)          (None, 12, 12, 32)        13856     \n",
      "                                                                 \n",
      " max_pooling2d_29 (MaxPoolin  (None, 6, 6, 32)         0         \n",
      " g2D)                                                            \n",
      "                                                                 \n",
      " flatten_9 (Flatten)         (None, 1152)              0         \n",
      "                                                                 \n",
      " dense_27 (Dense)            (None, 128)               147584    \n",
      "                                                                 \n",
      " dense_28 (Dense)            (None, 64)                8256      \n",
      "                                                                 \n",
      " dense_29 (Dense)            (None, 27)                1755      \n",
      "                                                                 \n",
      "=================================================================\n",
      "Total params: 193,579\n",
      "Trainable params: 193,579\n",
      "Non-trainable params: 0\n",
      "_________________________________________________________________\n"
     ]
    }
   ],
   "source": [
    "cnn.summary()"
   ]
  },
  {
   "cell_type": "markdown",
   "id": "7dce58bf",
   "metadata": {},
   "source": [
    "<h2> PSO using PySwarms <h2>"
   ]
  },
  {
   "cell_type": "code",
   "execution_count": 7,
   "id": "e486e2fc",
   "metadata": {},
   "outputs": [],
   "source": [
    "import numpy as np\n",
    "import pyswarms as ps\n",
    "import matplotlib.pyplot as plt"
   ]
  },
  {
   "cell_type": "code",
   "execution_count": 2,
   "id": "5e7927f2",
   "metadata": {
    "collapsed": true
   },
   "outputs": [
    {
     "name": "stdout",
     "output_type": "stream",
     "text": [
      "Collecting pyswarms\n",
      "  Downloading pyswarms-1.3.0-py2.py3-none-any.whl (104 kB)\n",
      "Requirement already satisfied: matplotlib>=1.3.1 in c:\\users\\siddh\\anaconda3\\lib\\site-packages (from pyswarms) (3.4.3)\n",
      "Requirement already satisfied: numpy in c:\\users\\siddh\\anaconda3\\lib\\site-packages (from pyswarms) (1.20.3)\n",
      "Requirement already satisfied: attrs in c:\\users\\siddh\\anaconda3\\lib\\site-packages (from pyswarms) (21.2.0)\n",
      "Requirement already satisfied: tqdm in c:\\users\\siddh\\anaconda3\\lib\\site-packages (from pyswarms) (4.62.3)\n",
      "Requirement already satisfied: future in c:\\users\\siddh\\anaconda3\\lib\\site-packages (from pyswarms) (0.18.2)\n",
      "Requirement already satisfied: scipy in c:\\users\\siddh\\anaconda3\\lib\\site-packages (from pyswarms) (1.7.1)\n",
      "Requirement already satisfied: pyyaml in c:\\users\\siddh\\anaconda3\\lib\\site-packages (from pyswarms) (6.0)\n",
      "Requirement already satisfied: pillow>=6.2.0 in c:\\users\\siddh\\anaconda3\\lib\\site-packages (from matplotlib>=1.3.1->pyswarms) (8.4.0)\n",
      "Requirement already satisfied: python-dateutil>=2.7 in c:\\users\\siddh\\anaconda3\\lib\\site-packages (from matplotlib>=1.3.1->pyswarms) (2.8.2)\n",
      "Requirement already satisfied: kiwisolver>=1.0.1 in c:\\users\\siddh\\anaconda3\\lib\\site-packages (from matplotlib>=1.3.1->pyswarms) (1.3.1)\n",
      "Requirement already satisfied: cycler>=0.10 in c:\\users\\siddh\\anaconda3\\lib\\site-packages (from matplotlib>=1.3.1->pyswarms) (0.10.0)\n",
      "Requirement already satisfied: pyparsing>=2.2.1 in c:\\users\\siddh\\anaconda3\\lib\\site-packages (from matplotlib>=1.3.1->pyswarms) (3.0.4)\n",
      "Requirement already satisfied: six in c:\\users\\siddh\\anaconda3\\lib\\site-packages (from cycler>=0.10->matplotlib>=1.3.1->pyswarms) (1.16.0)\n",
      "Requirement already satisfied: colorama in c:\\users\\siddh\\anaconda3\\lib\\site-packages (from tqdm->pyswarms) (0.4.4)\n",
      "Installing collected packages: pyswarms\n",
      "Successfully installed pyswarms-1.3.0\n",
      "Note: you may need to restart the kernel to use updated packages.\n"
     ]
    }
   ],
   "source": [
    "#pip install pyswarms"
   ]
  },
  {
   "cell_type": "code",
   "execution_count": null,
   "id": "d99105d2",
   "metadata": {},
   "outputs": [],
   "source": []
  },
  {
   "cell_type": "markdown",
   "id": "c1261be5",
   "metadata": {},
   "source": [
    "<h2>Custom Optimizer<h2>"
   ]
  },
  {
   "cell_type": "code",
   "execution_count": 8,
   "id": "81c674ec",
   "metadata": {},
   "outputs": [
    {
     "name": "stdout",
     "output_type": "stream",
     "text": [
      "Found 11786 images belonging to 27 classes.\n",
      "Found 216 images belonging to 27 classes.\n"
     ]
    }
   ],
   "source": [
    "# loading training data\n",
    "train_datagen = ImageDataGenerator(\n",
    "        rescale=1./255,\n",
    "        #shear_range=0.2,\n",
    "        horizontal_flip=True)\n",
    "train_generator = train_datagen.flow_from_directory(\n",
    "        'Data/train_data',\n",
    "        target_size=(64, 64),\n",
    "        batch_size=32,\n",
    "        class_mode='categorical')\n",
    "\n",
    "# loading testing data\n",
    "test_datagen = ImageDataGenerator(rescale=1./255)\n",
    "test_generator = train_datagen.flow_from_directory(\n",
    "        'Data/test_data',\n",
    "        target_size=(64, 64),\n",
    "        batch_size=32,\n",
    "        class_mode='categorical')"
   ]
  },
  {
   "cell_type": "code",
   "execution_count": 6,
   "id": "9b8ba18e",
   "metadata": {},
   "outputs": [],
   "source": [
    "# making a sequential model and adding layers to it\n",
    "cnn = tf.keras.models.Sequential()\n",
    "cnn.add(tf.keras.layers.Conv2D(filters=48, kernel_size=3, activation='relu', input_shape=[64, 64, 3]))\n",
    "cnn.add(tf.keras.layers.MaxPool2D(pool_size=2, strides=2))\n",
    "cnn.add(tf.keras.layers.Conv2D(filters=48, kernel_size=3, activation='relu'))\n",
    "cnn.add(tf.keras.layers.MaxPool2D(pool_size=2, strides=2))\n",
    "cnn.add(tf.keras.layers.Conv2D(filters=32, kernel_size=3, activation='relu'))\n",
    "cnn.add(tf.keras.layers.MaxPool2D(pool_size=2, strides=2))\n",
    "cnn.add(tf.keras.layers.Flatten())\n",
    "cnn.add(tf.keras.layers.Dense(128, activation='relu'))\n",
    "cnn.add(tf.keras.layers.Dense(64, activation='relu'))\n",
    "cnn.add(tf.keras.layers.Dense(27, activation='softmax'))"
   ]
  },
  {
   "cell_type": "code",
   "execution_count": 9,
   "id": "2c449483",
   "metadata": {},
   "outputs": [],
   "source": [
    "import keras\n",
    "class PSO(keras.optimizers.Optimizer):\n",
    "    def pso(x, swarm, y_true, threshold, MAX_GEN):\n",
    "        SWARM_SIZE = len(swarm)\n",
    "        deltaT = 1.0\n",
    "\n",
    "        # Globally best solution\n",
    "        gbest = float('inf')\n",
    "        gbest_coord = None\n",
    "        gbest_vec = np.zeros((1, MAX_GEN))\n",
    "\n",
    "        # Personal best of each member of the swarm\n",
    "        y_pred = forward(x, swarm, threshold)\n",
    "        pbest = criterion(y_pred, y_true)\n",
    "        pbest_coord = swarm.copy()\n",
    "        pbest_vec = np.zeros((SWARM_SIZE, MAX_GEN))\n",
    "\n",
    "        v_n = np.random.uniform(low=-LIMIT, high=LIMIT, size=(SWARM_SIZE, 1))\n",
    "\n",
    "        for gen in range(MAX_GEN):\n",
    "            y_pred = forward(x, swarm, threshold)\n",
    "            f = criterion(y_pred, y_true)\n",
    "\n",
    "        gbest_curr, best_curr = get_best(swarm, f)\n",
    "\n",
    "        if gbest_curr < gbest:\n",
    "            gbest = gbest_curr\n",
    "            gbest_coord = best_curr\n",
    "\n",
    "        for i, sol in enumerate(f):\n",
    "            if sol < pbest[i, 0]:\n",
    "                pbest[i, 0] = sol\n",
    "                pbest_coord[i] = swarm[i]\n",
    "\n",
    "        v_n = get_vn(SWARM_SIZE, gbest_coord, pbest_coord, v_n, swarm)\n",
    "        swarm = swarm + v_n * deltaT\n",
    "        limit(swarm)\n",
    "\n",
    "        gbest_vec[0, gen] = gbest\n",
    "        pbest_vec[:, gen] = pbest[:, 0].copy()\n",
    "\n",
    "        y_pred = forward(x, swarm, threshold)\n",
    "        f = criterion(y_pred, y_true)\n",
    "        gbest_curr, best_curr = get_best(swarm, f)\n",
    "    \n",
    "        if gbest_curr > gbest:\n",
    "            gbest = gbest_curr\n",
    "            gbest_coord = best_curr\n",
    "\n",
    "        return gbest, gbest_coord, gbest_vec, pbest_vec"
   ]
  },
  {
   "cell_type": "code",
   "execution_count": null,
   "id": "5b35ffea",
   "metadata": {},
   "outputs": [],
   "source": [
    "class SGOptimizer(keras.optimizers.Optimizer):\n",
    "    def __init__(self, learning_rate=0.001, name=\"SGOptimizer\", **kwargs):\n",
    "        \"\"\"Call super().__init__() and use _set_hyper() to store hyperparameters\"\"\"\n",
    "        super().__init__(name, **kwargs)\n",
    "        self._set_hyper(\"learning_rate\", kwargs.get(\"lr\", learning_rate)) # handle lr=learning_rate\n",
    "        self._is_first = True\n",
    "    \n",
    "    def _create_slots(self, var_list):\n",
    "        \"\"\"For each model variable, create the optimizer variable associated with it.\n",
    "        TensorFlow calls these optimizer variables \"slots\".\n",
    "        For momentum optimization, we need one momentum slot per model variable.\n",
    "        \"\"\"\n",
    "        for var in var_list:\n",
    "            self.add_slot(var, \"pv\") #previous variable i.e. weight or bias\n",
    "        for var in var_list:\n",
    "            self.add_slot(var, \"pg\") #previous gradient\n",
    "\n",
    "\n",
    "    @tf.function\n",
    "    def _resource_apply_dense(self, grad, var):\n",
    "        \"\"\"Update the slots and perform one optimization step for one model variable\n",
    "        \"\"\"\n",
    "        var_dtype = var.dtype.base_dtype\n",
    "        lr_t = self._decayed_lr(var_dtype) # handle learning rate decay\n",
    "        new_var_m = var - grad * lr_t\n",
    "        pv_var = self.get_slot(var, \"pv\")\n",
    "        pg_var = self.get_slot(var, \"pg\")\n",
    "        \n",
    "        if self._is_first:\n",
    "            self._is_first = False\n",
    "            new_var = new_var_m\n",
    "        else:\n",
    "            cond = grad*pg_var >= 0\n",
    "            print(cond)\n",
    "            avg_weights = (pv_var + var)/2.0\n",
    "            new_var = tf.where(cond, new_var_m, avg_weights)\n",
    "        pv_var.assign(var)\n",
    "        pg_var.assign(grad)\n",
    "        var.assign(new_var)\n",
    "\n",
    "    def _resource_apply_sparse(self, grad, var):\n",
    "        raise NotImplementedError\n",
    "\n",
    "    def get_config(self):\n",
    "        base_config = super().get_config()\n",
    "        return {\n",
    "            **base_config,\n",
    "            \"learning_rate\": self._serialize_hyperparameter(\"learning_rate\"),\n",
    "        }\n",
    "\n",
    "\n",
    "    def _resource_apply_sparse(self, grad, var):\n",
    "        raise NotImplementedError\n",
    "\n",
    "    def get_config(self):\n",
    "        base_config = super().get_config()\n",
    "        return {\n",
    "            **base_config,\n",
    "            \"learning_rate\": self._serialize_hyperparameter(\"learning_rate\"),\n",
    "            \"decay\": self._serialize_hyperparameter(\"decay\"),\n",
    "            \"momentum\": self._serialize_hyperparameter(\"momentum\"),\n",
    "        }"
   ]
  },
  {
   "cell_type": "code",
   "execution_count": 10,
   "id": "93ec7a0d",
   "metadata": {},
   "outputs": [],
   "source": [
    "keras.backend.clear_session()\n",
    "np.random.seed(42)\n",
    "tf.random.set_seed(42)"
   ]
  },
  {
   "cell_type": "code",
   "execution_count": 12,
   "id": "d7c5d6dd",
   "metadata": {},
   "outputs": [
    {
     "ename": "ValueError",
     "evalue": "Could not interpret optimizer identifier: <class '__main__.PSO'>",
     "output_type": "error",
     "traceback": [
      "\u001b[1;31m---------------------------------------------------------------------------\u001b[0m",
      "\u001b[1;31mValueError\u001b[0m                                Traceback (most recent call last)",
      "\u001b[1;32m~\\AppData\\Local\\Temp/ipykernel_2952/37069070.py\u001b[0m in \u001b[0;36m<module>\u001b[1;34m\u001b[0m\n\u001b[0;32m      1\u001b[0m \u001b[1;31m# compiling and training the cnn\u001b[0m\u001b[1;33m\u001b[0m\u001b[1;33m\u001b[0m\u001b[0m\n\u001b[1;32m----> 2\u001b[1;33m \u001b[0mcnn\u001b[0m\u001b[1;33m.\u001b[0m\u001b[0mcompile\u001b[0m\u001b[1;33m(\u001b[0m\u001b[0moptimizer\u001b[0m\u001b[1;33m=\u001b[0m\u001b[0mPSO\u001b[0m\u001b[1;33m,\u001b[0m \u001b[0mloss\u001b[0m\u001b[1;33m=\u001b[0m\u001b[1;34m\"categorical_crossentropy\"\u001b[0m\u001b[1;33m,\u001b[0m \u001b[0mmetrics\u001b[0m\u001b[1;33m=\u001b[0m\u001b[1;33m[\u001b[0m\u001b[1;34m\"accuracy\"\u001b[0m\u001b[1;33m]\u001b[0m\u001b[1;33m)\u001b[0m\u001b[1;33m\u001b[0m\u001b[1;33m\u001b[0m\u001b[0m\n\u001b[0m\u001b[0;32m      3\u001b[0m \u001b[0mcnn\u001b[0m\u001b[1;33m.\u001b[0m\u001b[0mfit\u001b[0m\u001b[1;33m(\u001b[0m\u001b[0mx\u001b[0m\u001b[1;33m=\u001b[0m\u001b[0mtrain_generator\u001b[0m\u001b[1;33m,\u001b[0m \u001b[0mvalidation_data\u001b[0m\u001b[1;33m=\u001b[0m\u001b[0mtest_generator\u001b[0m\u001b[1;33m,\u001b[0m \u001b[0mepochs\u001b[0m\u001b[1;33m=\u001b[0m\u001b[1;36m3\u001b[0m\u001b[1;33m)\u001b[0m\u001b[1;33m\u001b[0m\u001b[1;33m\u001b[0m\u001b[0m\n",
      "\u001b[1;32m~\\anaconda3\\lib\\site-packages\\keras\\utils\\traceback_utils.py\u001b[0m in \u001b[0;36merror_handler\u001b[1;34m(*args, **kwargs)\u001b[0m\n\u001b[0;32m     65\u001b[0m     \u001b[1;32mexcept\u001b[0m \u001b[0mException\u001b[0m \u001b[1;32mas\u001b[0m \u001b[0me\u001b[0m\u001b[1;33m:\u001b[0m  \u001b[1;31m# pylint: disable=broad-except\u001b[0m\u001b[1;33m\u001b[0m\u001b[1;33m\u001b[0m\u001b[0m\n\u001b[0;32m     66\u001b[0m       \u001b[0mfiltered_tb\u001b[0m \u001b[1;33m=\u001b[0m \u001b[0m_process_traceback_frames\u001b[0m\u001b[1;33m(\u001b[0m\u001b[0me\u001b[0m\u001b[1;33m.\u001b[0m\u001b[0m__traceback__\u001b[0m\u001b[1;33m)\u001b[0m\u001b[1;33m\u001b[0m\u001b[1;33m\u001b[0m\u001b[0m\n\u001b[1;32m---> 67\u001b[1;33m       \u001b[1;32mraise\u001b[0m \u001b[0me\u001b[0m\u001b[1;33m.\u001b[0m\u001b[0mwith_traceback\u001b[0m\u001b[1;33m(\u001b[0m\u001b[0mfiltered_tb\u001b[0m\u001b[1;33m)\u001b[0m \u001b[1;32mfrom\u001b[0m \u001b[1;32mNone\u001b[0m\u001b[1;33m\u001b[0m\u001b[1;33m\u001b[0m\u001b[0m\n\u001b[0m\u001b[0;32m     68\u001b[0m     \u001b[1;32mfinally\u001b[0m\u001b[1;33m:\u001b[0m\u001b[1;33m\u001b[0m\u001b[1;33m\u001b[0m\u001b[0m\n\u001b[0;32m     69\u001b[0m       \u001b[1;32mdel\u001b[0m \u001b[0mfiltered_tb\u001b[0m\u001b[1;33m\u001b[0m\u001b[1;33m\u001b[0m\u001b[0m\n",
      "\u001b[1;32m~\\anaconda3\\lib\\site-packages\\keras\\optimizers.py\u001b[0m in \u001b[0;36mget\u001b[1;34m(identifier)\u001b[0m\n\u001b[0;32m    142\u001b[0m     \u001b[1;32mreturn\u001b[0m \u001b[0mdeserialize\u001b[0m\u001b[1;33m(\u001b[0m\u001b[0mconfig\u001b[0m\u001b[1;33m)\u001b[0m\u001b[1;33m\u001b[0m\u001b[1;33m\u001b[0m\u001b[0m\n\u001b[0;32m    143\u001b[0m   \u001b[1;32melse\u001b[0m\u001b[1;33m:\u001b[0m\u001b[1;33m\u001b[0m\u001b[1;33m\u001b[0m\u001b[0m\n\u001b[1;32m--> 144\u001b[1;33m     raise ValueError(\n\u001b[0m\u001b[0;32m    145\u001b[0m         'Could not interpret optimizer identifier: {}'.format(identifier))\n",
      "\u001b[1;31mValueError\u001b[0m: Could not interpret optimizer identifier: <class '__main__.PSO'>"
     ]
    }
   ],
   "source": [
    "# compiling and training the cnn\n",
    "cnn.compile(optimizer=PSO, loss=\"categorical_crossentropy\", metrics=[\"accuracy\"])\n",
    "cnn.fit(x=train_generator, validation_data=test_generator, epochs=3)"
   ]
  },
  {
   "cell_type": "code",
   "execution_count": 2,
   "id": "e285fe75",
   "metadata": {},
   "outputs": [
    {
     "data": {
      "text/plain": [
       "['Bolts_Carriage',\n",
       " 'Bolts_Eye',\n",
       " 'Bolts_U',\n",
       " 'Chisels_beveled_edge',\n",
       " 'Chisels_curved',\n",
       " 'Chisels_dovetail',\n",
       " 'Chisels_paring',\n",
       " 'Chisels_skew',\n",
       " 'Files_flat_file',\n",
       " 'Files_half_rounded_file',\n",
       " 'Files_rounded_file',\n",
       " 'Files_square_file',\n",
       " 'Files_Traingular_file',\n",
       " 'Neither',\n",
       " 'Nuts_Hex',\n",
       " 'Nuts_Lock',\n",
       " 'Nuts_Shear',\n",
       " 'Nuts_Wing',\n",
       " 'Screws_Machine',\n",
       " 'Screws_Self_Tapping',\n",
       " 'Screws_Socket',\n",
       " 'Screws_Wood',\n",
       " 'Waher_Cup',\n",
       " 'Washer_External_Tooth_Lock',\n",
       " 'Washer_Flat',\n",
       " 'Washer_Internal_Tooth_Lock',\n",
       " 'Washer_Spring',\n",
       " 'Washer_Square_Plate']"
      ]
     },
     "execution_count": 2,
     "metadata": {},
     "output_type": "execute_result"
    }
   ],
   "source": [
    "os.listdir('new/Data')"
   ]
  },
  {
   "cell_type": "code",
   "execution_count": 3,
   "id": "07fa996a",
   "metadata": {},
   "outputs": [
    {
     "data": {
      "text/plain": [
       "['1.jpg',\n",
       " '10.jpg',\n",
       " '11.jpg',\n",
       " '12.jpg',\n",
       " '13.jpg',\n",
       " '14.jpg',\n",
       " '15.jpg',\n",
       " '16.jpg',\n",
       " '17.jpg',\n",
       " '18.jpg',\n",
       " '19.jpg',\n",
       " '2.jpg',\n",
       " '20.jpg',\n",
       " '21.jpg',\n",
       " '3.jpg',\n",
       " '4.jpg',\n",
       " '5.jpg',\n",
       " '6.jpg',\n",
       " '7.jpg',\n",
       " '8.jpg',\n",
       " '9.jpg']"
      ]
     },
     "execution_count": 3,
     "metadata": {},
     "output_type": "execute_result"
    }
   ],
   "source": [
    "os.listdir('new/Data/Bolts_Carriage')"
   ]
  },
  {
   "cell_type": "code",
   "execution_count": 6,
   "id": "35e1deaf",
   "metadata": {},
   "outputs": [
    {
     "ename": "NameError",
     "evalue": "name 'annotate' is not defined",
     "output_type": "error",
     "traceback": [
      "\u001b[1;31m---------------------------------------------------------------------------\u001b[0m",
      "\u001b[1;31mNameError\u001b[0m                                 Traceback (most recent call last)",
      "\u001b[1;32m~\\AppData\\Local\\Temp/ipykernel_2640/3831191309.py\u001b[0m in \u001b[0;36m<module>\u001b[1;34m\u001b[0m\n\u001b[0;32m      1\u001b[0m \u001b[1;32mfrom\u001b[0m \u001b[0mIPython\u001b[0m\u001b[1;33m.\u001b[0m\u001b[0mdisplay\u001b[0m \u001b[1;32mimport\u001b[0m \u001b[0mdisplay\u001b[0m\u001b[1;33m,\u001b[0m \u001b[0mImage\u001b[0m\u001b[1;33m\u001b[0m\u001b[1;33m\u001b[0m\u001b[0m\n\u001b[0;32m      2\u001b[0m \u001b[1;33m\u001b[0m\u001b[0m\n\u001b[1;32m----> 3\u001b[1;33m annotations = annotate(\n\u001b[0m\u001b[0;32m      4\u001b[0m     \u001b[1;33m[\u001b[0m\u001b[1;34m'new/Data/Bolts_Carriage/1.jpg'\u001b[0m\u001b[1;33m,\u001b[0m\u001b[1;34m'new/Data/Bolts_Carriage/2.jpg'\u001b[0m\u001b[1;33m]\u001b[0m\u001b[1;33m,\u001b[0m\u001b[1;33m\u001b[0m\u001b[1;33m\u001b[0m\u001b[0m\n\u001b[0;32m      5\u001b[0m     \u001b[0moptions\u001b[0m\u001b[1;33m=\u001b[0m\u001b[1;33m[\u001b[0m\u001b[1;34m'Bolts_carriage'\u001b[0m\u001b[1;33m,\u001b[0m\u001b[1;34m'Bolts_Eye'\u001b[0m\u001b[1;33m]\u001b[0m\u001b[1;33m,\u001b[0m\u001b[1;33m\u001b[0m\u001b[1;33m\u001b[0m\u001b[0m\n",
      "\u001b[1;31mNameError\u001b[0m: name 'annotate' is not defined"
     ]
    }
   ],
   "source": [
    "from IPython.display import display, Image\n",
    "\n",
    "annotations = annotate(\n",
    "    ['new/Data/Bolts_Carriage/1.jpg','new/Data/Bolts_Carriage/2.jpg'],\n",
    "    options=['Bolts_carriage','Bolts_Eye'],\n",
    "    display_fn= lambda filename: display(Image(filename))\n",
    ")"
   ]
  },
  {
   "cell_type": "code",
   "execution_count": null,
   "id": "00231433",
   "metadata": {},
   "outputs": [],
   "source": [
    "annotations"
   ]
  }
 ],
 "metadata": {
  "kernelspec": {
   "display_name": "Python 3 (ipykernel)",
   "language": "python",
   "name": "python3"
  },
  "language_info": {
   "codemirror_mode": {
    "name": "ipython",
    "version": 3
   },
   "file_extension": ".py",
   "mimetype": "text/x-python",
   "name": "python",
   "nbconvert_exporter": "python",
   "pygments_lexer": "ipython3",
   "version": "3.9.7"
  }
 },
 "nbformat": 4,
 "nbformat_minor": 5
}
